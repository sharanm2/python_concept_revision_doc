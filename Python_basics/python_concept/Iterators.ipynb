{
 "cells": [
  {
   "attachments": {},
   "cell_type": "markdown",
   "metadata": {},
   "source": [
    "## Python Iterators\n",
    "An iterator is an object that contains a countable number of values.\n",
    "\n",
    "An iterator is an object that can be iterated upon, meaning that you can traverse through all the values.\n",
    "\n",
    "Technically, in Python, an iterator is an object which implements the iterator protocol, which consist of the methods __iter__() and __next__()."
   ]
  },
  {
   "attachments": {},
   "cell_type": "markdown",
   "metadata": {},
   "source": [
    "`Iterator vs Iterable`\n",
    "Lists, tuples, dictionaries, and sets are all iterable objects. `They are iterable containers which you can get an iterator from`.\n",
    "\n",
    "All these objects have a iter() method which is used to get an iterator:"
   ]
  },
  {
   "cell_type": "code",
   "execution_count": 13,
   "metadata": {},
   "outputs": [
    {
     "ename": "TypeError",
     "evalue": "object of type 'tuple_iterator' has no len()",
     "output_type": "error",
     "traceback": [
      "\u001b[1;31m---------------------------------------------------------------------------\u001b[0m",
      "\u001b[1;31mTypeError\u001b[0m                                 Traceback (most recent call last)",
      "Cell \u001b[1;32mIn[13], line 3\u001b[0m\n\u001b[0;32m      1\u001b[0m my_tuple\u001b[39m=\u001b[39m(\u001b[39m1\u001b[39m,\u001b[39m23\u001b[39m,\u001b[39m44\u001b[39m,\u001b[39m5\u001b[39m)\n\u001b[0;32m      2\u001b[0m myit\u001b[39m=\u001b[39m\u001b[39miter\u001b[39m(my_tuple)\n\u001b[1;32m----> 3\u001b[0m \u001b[39mprint\u001b[39m(\u001b[39mlen\u001b[39;49m(myit))\n\u001b[0;32m      4\u001b[0m \u001b[39m# i=0\u001b[39;00m\n\u001b[0;32m      5\u001b[0m \u001b[39m# for i in myit:\u001b[39;00m\n\u001b[0;32m      6\u001b[0m \u001b[39m#     print(next(myit))   \u001b[39;00m\n",
      "\u001b[1;31mTypeError\u001b[0m: object of type 'tuple_iterator' has no len()"
     ]
    }
   ],
   "source": [
    "my_tuple=(1,23,44,5)\n",
    "myit=iter(my_tuple)\n",
    "print(len(myit))\n",
    "# i=0\n",
    "# for i in myit:\n",
    "#     print(next(myit))   "
   ]
  },
  {
   "cell_type": "code",
   "execution_count": 14,
   "metadata": {},
   "outputs": [
    {
     "name": "stdout",
     "output_type": "stream",
     "text": [
      "apple\n",
      "banana\n",
      "cherry\n"
     ]
    }
   ],
   "source": [
    "mytuple = (\"apple\", \"banana\", \"cherry\")\n",
    "myit = iter(mytuple)\n",
    "\n",
    "print(next(myit))\n",
    "print(next(myit))\n",
    "print(next(myit))"
   ]
  },
  {
   "cell_type": "code",
   "execution_count": 6,
   "metadata": {},
   "outputs": [
    {
     "name": "stdout",
     "output_type": "stream",
     "text": [
      "1\n",
      "23\n",
      "44\n",
      "5\n",
      "1\n",
      "23\n",
      "44\n"
     ]
    }
   ],
   "source": [
    "my_tuple=(1,23,44,5)\n",
    "myit=iter(my_tuple)\n",
    "# print(len(myit))\n",
    "i=0\n",
    "# for i in myit:\n",
    "#     print(i)   \n",
    "\n",
    "while True:\n",
    "    print(next(myit))\n",
    "    i += 1\n",
    "    \n",
    "    if i == 4:\n",
    "        break\n",
    " "
   ]
  },
  {
   "cell_type": "code",
   "execution_count": 27,
   "metadata": {},
   "outputs": [
    {
     "name": "stdout",
     "output_type": "stream",
     "text": [
      "apple\n",
      "banana\n",
      "cherry\n"
     ]
    },
    {
     "data": {
      "text/plain": [
       "tuple_iterator"
      ]
     },
     "execution_count": 27,
     "metadata": {},
     "output_type": "execute_result"
    }
   ],
   "source": [
    "mytuple = (\"apple\", \"banana\", \"cherry\")\n",
    "myit = iter(mytuple)\n",
    "\n",
    "print(next(myit))\n",
    "print(next(myit))\n",
    "print(next(myit))\n",
    "type(myit)"
   ]
  },
  {
   "cell_type": "code",
   "execution_count": 53,
   "metadata": {},
   "outputs": [
    {
     "name": "stdout",
     "output_type": "stream",
     "text": [
      "1\n",
      "2\n",
      "3\n",
      "4\n"
     ]
    }
   ],
   "source": [
    "def gen():\n",
    "    b = 5\n",
    "    b = 5\n",
    "    b = 5\n",
    "    b = 5\n",
    "    b = 5\n",
    "    yield 1\n",
    "    a = 4\n",
    "    a = 4\n",
    "    a = 4\n",
    "    a = 4\n",
    "    a = 4\n",
    "    a = 1\n",
    "    yield 2\n",
    "    b = 1\n",
    "    yield 3\n",
    "    c = 3\n",
    "    yield 4\n",
    "\n",
    "fun = gen()\n",
    "print(next(fun))\n",
    "print(next(fun))\n",
    "print(next(fun))\n",
    "print(next(fun))\n",
    "print(next(fun))\n"
   ]
  },
  {
   "cell_type": "code",
   "execution_count": null,
   "metadata": {},
   "outputs": [],
   "source": [
    "def fibonacci(n):\n",
    "    a, b = 0, 1\n",
    "    for i in range(n):\n",
    "        yield a\n",
    "        a, b = b, a + b\n",
    "\n",
    "# Create a generator object for the first 10 Fibonacci numbers\n",
    "fibonacci_generator = fibonacci(10)\n",
    "\n",
    "# Iterate over the generator object and print each Fibonacci number\n",
    "for number in fibonacci_generator:\n",
    "    print(number)\n"
   ]
  },
  {
   "attachments": {},
   "cell_type": "markdown",
   "metadata": {},
   "source": [
    "`next() is a  generator function it has a return type function it called as yeild function  ,basic  in a function have a one return but in generator we can use many yeild `"
   ]
  },
  {
   "attachments": {},
   "cell_type": "markdown",
   "metadata": {},
   "source": [
    "`Looping Through an Iterator`\n",
    "We can also use a for loop to iterate through an iterable object:"
   ]
  },
  {
   "cell_type": "code",
   "execution_count": 7,
   "metadata": {},
   "outputs": [
    {
     "name": "stdout",
     "output_type": "stream",
     "text": [
      "1\n",
      "2\n",
      "3\n",
      "4\n",
      "5\n"
     ]
    }
   ],
   "source": [
    "my_list=[1,2,3,4,5]\n",
    "\n",
    "for i in my_list:\n",
    "    print(i)\n",
    "    "
   ]
  },
  {
   "attachments": {},
   "cell_type": "markdown",
   "metadata": {},
   "source": [
    "Create an Iterator\n",
    "To create an object/class as an iterator you have to implement the methods __iter__() and __next__() to your object.\n",
    "\n",
    "As you have learned in the Python Classes/Objects chapter, all classes have a function called __init__(), which allows you to do some initializing when the object is being created.\n",
    "\n",
    "The __iter__() method acts similar, you can do operations (initializing etc.), but must always return the iterator object itself.\n",
    "\n",
    "The __next__() method also allows you to do operations, and must return the next item in the sequence."
   ]
  },
  {
   "cell_type": "code",
   "execution_count": null,
   "metadata": {},
   "outputs": [],
   "source": [
    "class parent :\n",
    "    def _iter_(self):\n",
    "        self.a=1\n",
    "        return self\n",
    "    def __next__(self):\n",
    "        "
   ]
  }
 ],
 "metadata": {
  "kernelspec": {
   "display_name": "Python 3",
   "language": "python",
   "name": "python3"
  },
  "language_info": {
   "codemirror_mode": {
    "name": "ipython",
    "version": 3
   },
   "file_extension": ".py",
   "mimetype": "text/x-python",
   "name": "python",
   "nbconvert_exporter": "python",
   "pygments_lexer": "ipython3",
   "version": "3.10.6"
  },
  "orig_nbformat": 4
 },
 "nbformat": 4,
 "nbformat_minor": 2
}
