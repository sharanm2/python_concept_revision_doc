{
 "cells": [
  {
   "attachments": {},
   "cell_type": "markdown",
   "metadata": {},
   "source": [
    " \n",
    "##  python arrays\n",
    "\n",
    " `Python does not have built-in support for Arrays, but Python Lists can be used instead.`"
   ]
  },
  {
   "cell_type": "code",
   "execution_count": 1,
   "metadata": {},
   "outputs": [
    {
     "data": {
      "text/plain": [
       "['Ford', 'Volvo', 'BMW']"
      ]
     },
     "execution_count": 1,
     "metadata": {},
     "output_type": "execute_result"
    }
   ],
   "source": [
    "cars = [\"Ford\", \"Volvo\", \"BMW\"]\n",
    "\n",
    "cars"
   ]
  },
  {
   "cell_type": "code",
   "execution_count": 2,
   "metadata": {},
   "outputs": [
    {
     "name": "stdout",
     "output_type": "stream",
     "text": [
      "<class 'list'>\n"
     ]
    }
   ],
   "source": [
    "print(type(cars))"
   ]
  },
  {
   "cell_type": "code",
   "execution_count": 5,
   "metadata": {},
   "outputs": [
    {
     "name": "stdout",
     "output_type": "stream",
     "text": [
      "Ford BMW\n"
     ]
    }
   ],
   "source": [
    "# access the array with the index values \n",
    "\n",
    "cars\n",
    "print(cars[0],cars[2])"
   ]
  },
  {
   "cell_type": "code",
   "execution_count": 6,
   "metadata": {},
   "outputs": [
    {
     "data": {
      "text/plain": [
       "3"
      ]
     },
     "execution_count": 6,
     "metadata": {},
     "output_type": "execute_result"
    }
   ],
   "source": [
    "# len of the array \n",
    "len(cars)"
   ]
  },
  {
   "cell_type": "code",
   "execution_count": 7,
   "metadata": {},
   "outputs": [
    {
     "data": {
      "text/plain": [
       "['Ford', 'Volvo', 'BMW', 'ds']"
      ]
     },
     "execution_count": 7,
     "metadata": {},
     "output_type": "execute_result"
    }
   ],
   "source": [
    "# add a element in a array \n",
    "cars.append(\"ds\")\n",
    "cars"
   ]
  },
  {
   "cell_type": "code",
   "execution_count": 9,
   "metadata": {},
   "outputs": [
    {
     "data": {
      "text/plain": [
       "['Ford', 'Volvo']"
      ]
     },
     "execution_count": 9,
     "metadata": {},
     "output_type": "execute_result"
    }
   ],
   "source": [
    "# pop()\n",
    "cars.pop(2)\n",
    "cars\n"
   ]
  },
  {
   "cell_type": "code",
   "execution_count": 13,
   "metadata": {},
   "outputs": [
    {
     "data": {
      "text/plain": [
       "[]"
      ]
     },
     "execution_count": 13,
     "metadata": {},
     "output_type": "execute_result"
    }
   ],
   "source": [
    "cars\n",
    "cars.remove('Volvo')\n",
    "cars"
   ]
  },
  {
   "attachments": {},
   "cell_type": "markdown",
   "metadata": {},
   "source": [
    "<table class=\"ws-table-all notranslate\">\n",
    "<tbody><tr>\n",
    "<th>Method</th>\n",
    "<th>Description</th>\n",
    "</tr>\n",
    "<tr><td><a href=\"ref_list_append.asp\">append()</a></td><td>Adds an element at \n",
    "  the end of the list</td></tr>\n",
    "<tr><td><a href=\"ref_list_clear.asp\">clear()</a></td><td>Removes all the \n",
    "  elements from the list</td></tr>\n",
    "<tr><td><a href=\"ref_list_copy.asp\">copy()</a></td><td>Returns a copy of the \n",
    "  list</td></tr>\n",
    "<tr><td><a href=\"ref_list_count.asp\">count()</a></td><td>Returns the number of \n",
    "  elements with the specified value</td></tr>\n",
    "<tr><td><a href=\"ref_list_extend.asp\">extend()</a></td><td>Add the elements of a \n",
    "  list (or any iterable), to the end of the current list</td></tr>\n",
    "<tr><td><a href=\"ref_list_index.asp\">index()</a></td><td>Returns the index of \n",
    "  the first element with the specified value</td></tr>\n",
    "<tr><td><a href=\"ref_list_insert.asp\">insert()</a></td><td>Adds an element at \n",
    "  the specified position</td></tr>\n",
    "<tr><td><a href=\"ref_list_pop.asp\">pop()</a></td><td>Removes the element at the \n",
    "  specified position</td></tr>\n",
    "<tr><td><a href=\"ref_list_remove.asp\">remove()</a></td><td>Removes the first \n",
    "  item with the specified value</td></tr>\n",
    "<tr><td><a href=\"ref_list_reverse.asp\">reverse()</a></td><td>Reverses the order \n",
    "  of the list</td></tr>\n",
    "<tr><td><a href=\"ref_list_sort.asp\">sort()</a></td><td>Sorts the list</td></tr>\n",
    "</tbody></table>"
   ]
  }
 ],
 "metadata": {
  "kernelspec": {
   "display_name": "Python 3",
   "language": "python",
   "name": "python3"
  },
  "language_info": {
   "codemirror_mode": {
    "name": "ipython",
    "version": 3
   },
   "file_extension": ".py",
   "mimetype": "text/x-python",
   "name": "python",
   "nbconvert_exporter": "python",
   "pygments_lexer": "ipython3",
   "version": "3.10.6"
  },
  "orig_nbformat": 4
 },
 "nbformat": 4,
 "nbformat_minor": 2
}
