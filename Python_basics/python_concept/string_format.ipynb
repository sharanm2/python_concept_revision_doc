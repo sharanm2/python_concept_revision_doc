{
 "cells": [
  {
   "attachments": {},
   "cell_type": "markdown",
   "metadata": {},
   "source": [
    "String format()\n",
    "\n",
    "The format() method allows you to format selected parts of a string.\n",
    "\n",
    "Sometimes there are parts of a text that you do not control, maybe they come from a database, or user input?\n",
    "\n",
    "`To control such values, add placeholders (curly brackets {}) in the text, and run the values through the format() method:`"
   ]
  },
  {
   "cell_type": "code",
   "execution_count": 3,
   "metadata": {},
   "outputs": [
    {
     "data": {
      "text/plain": [
       "'dds12'"
      ]
     },
     "execution_count": 3,
     "metadata": {},
     "output_type": "execute_result"
    }
   ],
   "source": [
    "#  i need to place the price with in the txt string how can i achieve that with the help of format method\n",
    "x=\"dds{}\"\n",
    "c=12\n",
    "d=x.format(c)\n",
    "d"
   ]
  },
  {
   "cell_type": "code",
   "execution_count": 7,
   "metadata": {},
   "outputs": [
    {
     "name": "stdout",
     "output_type": "stream",
     "text": [
      "the price of the product is {} it;s lower than the price{}\n"
     ]
    },
    {
     "data": {
      "text/plain": [
       "'the price of the product is 12 it;s lower than the price20'"
      ]
     },
     "execution_count": 7,
     "metadata": {},
     "output_type": "execute_result"
    }
   ],
   "source": [
    "txt=\"the price of the product is {} it;s lower than the price{}\"\n",
    "print(txt)\n",
    "price=12\n",
    "prices=20\n",
    "finall=txt.format(price,prices)\n",
    "finall"
   ]
  },
  {
   "cell_type": "code",
   "execution_count": 8,
   "metadata": {},
   "outputs": [
    {
     "name": "stdout",
     "output_type": "stream",
     "text": [
      "the price of the product is {} it;s lower than the price{:.3f}\n"
     ]
    },
    {
     "data": {
      "text/plain": [
       "'the price of the product is 12 it;s lower than the price20.000'"
      ]
     },
     "execution_count": 8,
     "metadata": {},
     "output_type": "execute_result"
    }
   ],
   "source": [
    "# in this i need to get the o/p in decimal format\n",
    "txt=\"the price of the product is {} it;s lower than the price{:.3f}\"\n",
    "print(txt)\n",
    "price=12\n",
    "prices=20\n",
    "finall=txt.format(price,prices) # Multiple Values If you want to use more values, just add more values to the format() method:\n",
    "finall"
   ]
  },
  {
   "cell_type": "code",
   "execution_count": 9,
   "metadata": {},
   "outputs": [
    {
     "name": "stdout",
     "output_type": "stream",
     "text": [
      "the price of the product is {1} it;s lower than the price{0:.3f}\n"
     ]
    },
    {
     "data": {
      "text/plain": [
       "'the price of the product is 20 it;s lower than the price12.000'"
      ]
     },
     "execution_count": 9,
     "metadata": {},
     "output_type": "execute_result"
    }
   ],
   "source": [
    "# Index Numbers\n",
    "# You can use index numbers (a number inside the curly brackets {0}) to be sure the values are placed in the correct placeholders:\n",
    "\n",
    "txt=\"the price of the product is {1} it;s lower than the price{0:.3f}\"\n",
    "print(txt)\n",
    "price=12\n",
    "prices=20\n",
    "finall=txt.format(price,prices) # Multiple Values If you want to use more values, just add more values to the format() method additionally with index number:\n",
    "finall"
   ]
  },
  {
   "cell_type": "code",
   "execution_count": 15,
   "metadata": {},
   "outputs": [
    {
     "name": "stdout",
     "output_type": "stream",
     "text": [
      "the price of the product is  {price} it's lower than the price {prices}\n"
     ]
    },
    {
     "data": {
      "text/plain": [
       "\"the price of the product is  age it's lower than the price name\""
      ]
     },
     "execution_count": 15,
     "metadata": {},
     "output_type": "execute_result"
    }
   ],
   "source": [
    "# Named Indexes\n",
    "# You can also use named indexes by entering a name inside the curly brackets {carname}, but then you must use names when you pass the parameter values txt.format(carname = \"Ford\"):\n",
    "\n",
    "\n",
    "txt=\"the price of the product is  {price} it's lower than the price {prices}\"\n",
    "print(txt)\n",
    "# price=\"name\"\n",
    "# prices='age'\n",
    "finall=txt.format(price=\"age\",prices=\"name\") # Multiple Values If you want to use more values, just add more values to the format() method additionally with named variabel variables:\n",
    "finall\n",
    "\n",
    "\n"
   ]
  }
 ],
 "metadata": {
  "kernelspec": {
   "display_name": "Python 3",
   "language": "python",
   "name": "python3"
  },
  "language_info": {
   "codemirror_mode": {
    "name": "ipython",
    "version": 3
   },
   "file_extension": ".py",
   "mimetype": "text/x-python",
   "name": "python",
   "nbconvert_exporter": "python",
   "pygments_lexer": "ipython3",
   "version": "3.10.6"
  },
  "orig_nbformat": 4
 },
 "nbformat": 4,
 "nbformat_minor": 2
}
