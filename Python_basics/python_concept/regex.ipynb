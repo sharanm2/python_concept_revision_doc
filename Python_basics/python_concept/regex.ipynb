{
 "cells": [
  {
   "attachments": {},
   "cell_type": "markdown",
   "metadata": {},
   "source": [
    "`A RegEx, or Regular Expression, is a sequence of characters that forms a search pattern.`\n",
    "\n",
    "RegEx can be used to check if a string contains the specified search pattern.\n",
    "\n"
   ]
  },
  {
   "attachments": {},
   "cell_type": "markdown",
   "metadata": {},
   "source": [
    "##  RegEx Module\n",
    "\n",
    "Python has a built-in package called re, which can be used to work with Regular Expressions.\n",
    "\n",
    "Import the re module:"
   ]
  },
  {
   "cell_type": "code",
   "execution_count": null,
   "metadata": {},
   "outputs": [],
   "source": [
    "import re"
   ]
  },
  {
   "attachments": {},
   "cell_type": "markdown",
   "metadata": {},
   "source": [
    "RegEx in Python\n",
    "\n",
    "\n",
    "When you have imported the re module, you can start using regular expressions:"
   ]
  },
  {
   "attachments": {},
   "cell_type": "markdown",
   "metadata": {},
   "source": [
    "search is the method in re module \n",
    "\n",
    "`it need to argument to search for to found are first argu is what is need to search  and another argument is from where we need to put as the put the variable as a second argument `"
   ]
  },
  {
   "cell_type": "code",
   "execution_count": 2,
   "metadata": {},
   "outputs": [
    {
     "name": "stdout",
     "output_type": "stream",
     "text": [
      "txt is found with i\n"
     ]
    }
   ],
   "source": [
    "# search\n",
    "\n",
    "import re \n",
    "\n",
    "txt=\"is your name correct\"\n",
    "\n",
    "x=re.search(\"^i\",txt)\n",
    "if x:\n",
    "    print(\"txt is found with i\")\n",
    "else :\n",
    "    print(\"txt is not found with i\")"
   ]
  },
  {
   "attachments": {},
   "cell_type": "markdown",
   "metadata": {},
   "source": [
    "RegEx Functions\n",
    "\n",
    "\n",
    "The re module offers a set of functions that allows us to search a string for a match:\n",
    "\n",
    "\n",
    "<table class=\"ws-table-all notranslate\">\n",
    "<tbody><tr>\n",
    "<th style=\"width:120px\">Function</th>\n",
    "<th>Description</th>\n",
    "</tr>\n",
    "<tr>\n",
    "<td><a href=\"#findall\">findall</a></td>\n",
    "<td>Returns a list containing all matches</td>\n",
    "</tr>\n",
    "<tr>\n",
    "<td><a href=\"#search\">search</a></td>\n",
    "<td>Returns a <a href=\"#matchobject\">Match object</a> if there is a match anywhere in the string</td>\n",
    "</tr>\n",
    "<tr>\n",
    "<td><a href=\"#split\">split</a></td>\n",
    "<td>Returns a list where the string has been split at each match </td>\n",
    "</tr>\n",
    "<tr>\n",
    "<td><a href=\"#sub\">sub</a></td>\n",
    "<td>Replaces one or many matches with a string</td>\n",
    "</tr>\n",
    "</tbody></table>"
   ]
  },
  {
   "attachments": {},
   "cell_type": "markdown",
   "metadata": {},
   "source": [
    "Metacharacters\n",
    "\n",
    "\n",
    "Metacharacters are characters with a special meaning:\n",
    "\n",
    "<table class=\"ws-table-all notranslate\">\n",
    "<tbody><tr>\n",
    "<th style=\"width:120px\">Character</th>\n",
    "<th>Description</th>\n",
    "<th style=\"width:120px\">Example</th>\n",
    "<th style=\"width:75px\">Try it</th>\n",
    "</tr>\n",
    "<tr>\n",
    "<td>[]</td>\n",
    "<td>A set of characters</td>\n",
    "<td>\"[a-m]\"</td>\n",
    "<td><a target=\"_blank\" class=\"w3-btn btnsmall btnsmall\" href=\"trypython.asp?filename=demo_regex_meta1\">Try it »</a></td>\n",
    "</tr>\n",
    "<tr>\n",
    "<td>\\</td>\n",
    "<td>Signals a special sequence (can also be used to escape special characters)</td>\n",
    "<td>\"\\d\"</td>\n",
    "<td><a target=\"_blank\" class=\"w3-btn btnsmall btnsmall\" href=\"trypython.asp?filename=demo_regex_meta2\">Try it »</a></td>\n",
    "</tr>\n",
    "<tr>\n",
    "<td>.</td>\n",
    "<td>Any character (except newline character)</td>\n",
    "<td>\"he..o\"</td>\n",
    "<td><a target=\"_blank\" class=\"w3-btn btnsmall btnsmall\" href=\"trypython.asp?filename=demo_regex_meta3\">Try it »</a></td>\n",
    "</tr>\n",
    "<tr>\n",
    "<td>^</td>\n",
    "<td>Starts with</td>\n",
    "<td>\"^hello\"</td>\n",
    "<td><a target=\"_blank\" class=\"w3-btn btnsmall btnsmall\" href=\"trypython.asp?filename=demo_regex_meta4\">Try it »</a></td>\n",
    "</tr>\n",
    "  <tr>\n",
    "<td>$</td>\n",
    "<td>Ends with</td>\n",
    "<td>\"planet$\"</td>\n",
    "<td><a target=\"_blank\" class=\"w3-btn btnsmall btnsmall\" href=\"trypython.asp?filename=demo_regex_meta5\">Try it »</a></td>\n",
    "  </tr>\n",
    "  <tr>\n",
    "<td>*</td>\n",
    "<td>Zero or more occurrences</td>\n",
    "<td>\"he.*o\"</td>\n",
    "<td><a target=\"_blank\" class=\"w3-btn btnsmall btnsmall\" href=\"trypython.asp?filename=demo_regex_meta6\">Try it »</a></td>\n",
    "  </tr>\n",
    "  <tr>\n",
    "<td>+</td>\n",
    "<td>One or more occurrences</td>\n",
    "<td>\"he.+o\"</td>\n",
    "<td><a target=\"_blank\" class=\"w3-btn btnsmall btnsmall\" href=\"trypython.asp?filename=demo_regex_meta7\">Try it »</a></td>\n",
    "  </tr>\n",
    "  <tr>\n",
    "<td>?</td>\n",
    "<td>Zero or one occurrences</td>\n",
    "<td>\"he.?o\"</td>\n",
    "<td><a target=\"_blank\" class=\"w3-btn btnsmall btnsmall\" href=\"trypython.asp?filename=demo_regex_meta10\">Try it »</a></td>\n",
    "  </tr>\n",
    "  <tr>\n",
    "<td>{}</td>\n",
    "<td>Exactly the specified number of occurrences</td>\n",
    "<td>\"he.{2}o\"</td>\n",
    "<td><a target=\"_blank\" class=\"w3-btn btnsmall btnsmall\" href=\"trypython.asp?filename=demo_regex_meta8\">Try it »</a></td>\n",
    "  </tr>\n",
    "  <tr>\n",
    "<td>|</td>\n",
    "<td>Either or</td>\n",
    "<td>\"falls|stays\"</td>\n",
    "<td><a target=\"_blank\" class=\"w3-btn btnsmall btnsmall\" href=\"trypython.asp?filename=demo_regex_meta9\">Try it »</a></td>\n",
    "  </tr>\n",
    "  <tr>\n",
    "<td>()</td>\n",
    "<td>Capture and group</td>\n",
    "<td>&nbsp;</td>\n",
    "<td>&nbsp;</td>\n",
    "  </tr>\n",
    "</tbody></table>\n",
    "\n"
   ]
  },
  {
   "attachments": {},
   "cell_type": "markdown",
   "metadata": {},
   "source": [
    "Special Sequences\n",
    "\n",
    "\n",
    "A special sequence is a \\ followed by one of the characters in the list below, and has a special meaning:\n",
    "\n",
    "<table class=\"ws-table-all notranslate\">\n",
    "<tbody><tr>\n",
    "<th style=\"width:120px\">Character</th>\n",
    "<th>Description</th>\n",
    "<th style=\"width:120px\">Example</th>\n",
    "<th style=\"width:75px\">Try it</th>\n",
    "</tr>\n",
    "<tr>\n",
    "<td>\\A</td>\n",
    "<td>Returns a match if the specified characters are at the beginning of the \n",
    "string</td>\n",
    "<td>\"\\AThe\"</td>\n",
    "<td><a target=\"_blank\" class=\"w3-btn btnsmall btnsmall\" href=\"trypython.asp?filename=demo_regex_seq1\">Try it »</a></td>\n",
    "</tr>\n",
    "  <tr>\n",
    "<td>\\b</td>\n",
    "<td>Returns a match where the specified characters are at the beginning or at the \n",
    "end of a word<br>(the \"r\" in the beginning is making sure that the string is \n",
    "being treated as a \"raw string\")</td>\n",
    "<td>r\"\\bain\"<br>r\"ain\\b\"</td>\n",
    "<td><a target=\"_blank\" class=\"w3-btn btnsmall btnsmall\" href=\"trypython.asp?filename=demo_regex_seq2\">Try it »</a><br>\n",
    "<a target=\"_blank\" class=\"w3-btn btnsmall btnsmall\" href=\"trypython.asp?filename=demo_regex_seq2-2\">Try it »</a></td>\n",
    "  </tr>\n",
    "  <tr>\n",
    "<td>\\B</td>\n",
    "<td>Returns a match where the specified characters are present, but NOT at the beginning \n",
    "(or at \n",
    "the end) of a word<br>(the \"r\" in the beginning is making sure that the string \n",
    "is being treated as a \"raw string\")</td>\n",
    "<td>r\"\\Bain\"<br>r\"ain\\B\"</td>\n",
    "<td><a target=\"_blank\" class=\"w3-btn btnsmall btnsmall\" href=\"trypython.asp?filename=demo_regex_seq3\">Try it »</a><br>\n",
    "<a target=\"_blank\" class=\"w3-btn btnsmall btnsmall\" href=\"trypython.asp?filename=demo_regex_seq3-2\">Try it »</a></td>\n",
    "  </tr>\n",
    "  <tr>\n",
    "<td>\\d</td>\n",
    "<td>Returns a match where the string contains digits (numbers from 0-9)</td>\n",
    "<td>\"\\d\"</td>\n",
    "<td><a target=\"_blank\" class=\"w3-btn btnsmall btnsmall\" href=\"trypython.asp?filename=demo_regex_seq4\">Try it »</a></td>\n",
    "  </tr>\n",
    "  <tr>\n",
    "<td>\\D</td>\n",
    "<td>Returns a match where the string DOES NOT contain digits</td>\n",
    "<td>\"\\D\"</td>\n",
    "<td><a target=\"_blank\" class=\"w3-btn btnsmall btnsmall\" href=\"trypython.asp?filename=demo_regex_seq5\">Try it »</a></td>\n",
    "  </tr>\n",
    "  <tr>\n",
    "<td>\\s</td>\n",
    "<td>Returns a match where the string contains a white space character</td>\n",
    "<td>\"\\s\"</td>\n",
    "<td><a target=\"_blank\" class=\"w3-btn btnsmall btnsmall\" href=\"trypython.asp?filename=demo_regex_seq6\">Try it »</a></td>\n",
    "  </tr>\n",
    "  <tr>\n",
    "<td>\\S</td>\n",
    "<td>Returns a match where the string DOES NOT contain a white space character</td>\n",
    "<td>\"\\S\"</td>\n",
    "<td><a target=\"_blank\" class=\"w3-btn btnsmall btnsmall\" href=\"trypython.asp?filename=demo_regex_seq7\">Try it »</a></td>\n",
    "  </tr>\n",
    "  <tr>\n",
    "<td>\\w</td>\n",
    "<td>Returns a match where the string contains any word characters (characters from \n",
    "a to Z, digits from 0-9, and the underscore _ character)</td>\n",
    "<td>\"\\w\"</td>\n",
    "<td><a target=\"_blank\" class=\"w3-btn btnsmall btnsmall\" href=\"trypython.asp?filename=demo_regex_seq8\">Try it »</a></td>\n",
    "  </tr>\n",
    "  <tr>\n",
    "<td>\\W</td>\n",
    "<td>Returns a match where the string DOES NOT contain any word characters</td>\n",
    "<td>\"\\W\"</td>\n",
    "<td><a target=\"_blank\" class=\"w3-btn btnsmall btnsmall\" href=\"trypython.asp?filename=demo_regex_seq9\">Try it »</a></td>\n",
    "  </tr>\n",
    "<tr>\n",
    "<td>\\Z</td>\n",
    "<td>Returns a match if the specified characters are at the end of the string</td>\n",
    "<td>\"Spain\\Z\"</td>\n",
    "<td><a target=\"_blank\" class=\"w3-btn btnsmall btnsmall\" href=\"trypython.asp?filename=demo_regex_seq10\">Try it »</a></td>\n",
    "</tr>\n",
    "</tbody></table>"
   ]
  },
  {
   "attachments": {},
   "cell_type": "markdown",
   "metadata": {},
   "source": [
    "Sets\n",
    "\n",
    "A set is a set of characters inside a pair of square brackets [] with a special meaning:\n",
    "\n",
    "\n",
    "<table class=\"ws-table-all notranslate\">\n",
    "<tbody><tr>\n",
    "<th style=\"width:120px\">Set</th>\n",
    "<th>Description</th>\n",
    "<th style=\"width:75px\">Try it</th>\n",
    "</tr>\n",
    "  <tr>\n",
    "<td>[arn]</td>\n",
    "<td>Returns a match where one of the specified characters (<code class=\"w3-codespan\">a</code>,\n",
    "<code class=\"w3-codespan\">r</code>, or <code class=\"w3-codespan\">n</code>) is \n",
    "present</td>\n",
    "<td><a target=\"_blank\" class=\"w3-btn btnsmall btnsmall\" href=\"trypython.asp?filename=demo_regex_set1\">Try it »</a></td>\n",
    "  </tr>\n",
    "  <tr>\n",
    "<td>[a-n]</td>\n",
    "<td>Returns a match for any lower case character, alphabetically between\n",
    "<code class=\"w3-codespan\">a</code> and <code class=\"w3-codespan\">n</code></td>\n",
    "<td><a target=\"_blank\" class=\"w3-btn btnsmall btnsmall\" href=\"trypython.asp?filename=demo_regex_set2\">Try it »</a></td>\n",
    "  </tr>\n",
    "  <tr>\n",
    "<td>[^arn]</td>\n",
    "<td>Returns a match for any character EXCEPT <code class=\"w3-codespan\">a</code>,\n",
    "<code class=\"w3-codespan\">r</code>, and <code class=\"w3-codespan\">n</code></td>\n",
    "<td><a target=\"_blank\" class=\"w3-btn btnsmall btnsmall\" href=\"trypython.asp?filename=demo_regex_set3\">Try it »</a></td>\n",
    "  </tr>\n",
    "  <tr>\n",
    "<td>[0123]</td>\n",
    "<td>Returns a match where any of the specified digits (<code class=\"w3-codespan\">0</code>,\n",
    "<code class=\"w3-codespan\">1</code>, <code class=\"w3-codespan\">2</code>, or <code class=\"w3-codespan\">\n",
    "3</code>) are \n",
    "present</td>\n",
    "<td><a target=\"_blank\" class=\"w3-btn btnsmall btnsmall\" href=\"trypython.asp?filename=demo_regex_set4\">Try it »</a></td>\n",
    "  </tr>\n",
    "  <tr>\n",
    "<td>[0-9]</td>\n",
    "<td>Returns a match for any digit between\n",
    "<code class=\"w3-codespan\">0</code> and <code class=\"w3-codespan\">9</code></td>\n",
    "<td><a target=\"_blank\" class=\"w3-btn btnsmall btnsmall\" href=\"trypython.asp?filename=demo_regex_set5\">Try it »</a></td>\n",
    "  </tr>\n",
    "<tr>\n",
    "<td>[0-5][0-9]</td>\n",
    "<td>Returns a match for any two-digit numbers from <code class=\"w3-codespan\">00</code> and <code class=\"w3-codespan\">\n",
    "59</code></td>\n",
    "<td><a target=\"_blank\" class=\"w3-btn btnsmall btnsmall\" href=\"trypython.asp?filename=demo_regex_set6\">Try it »</a></td>\n",
    "</tr>\n",
    "  <tr>\n",
    "<td>[a-zA-Z]</td>\n",
    "<td>Returns a match for any character alphabetically between\n",
    "<code class=\"w3-codespan\">a</code> and <code class=\"w3-codespan\">z</code>, lower case OR upper case</td>\n",
    "<td><a target=\"_blank\" class=\"w3-btn btnsmall btnsmall\" href=\"trypython.asp?filename=demo_regex_set7\">Try it »</a></td>\n",
    "  </tr>\n",
    "  <tr>\n",
    "<td>[+]</td>\n",
    "<td>In sets, <code class=\"w3-codespan\">+</code>, <code class=\"w3-codespan\">*</code>,\n",
    "<code class=\"w3-codespan\">.</code>, <code class=\"w3-codespan\">|</code>,\n",
    "<code class=\"w3-codespan\">()</code>, <code class=\"w3-codespan\">$</code>,<code class=\"w3-codespan\">{}</code> \n",
    "has no special meaning, so <code class=\"w3-codespan\">[+]</code> means: return a match for any\n",
    "<code class=\"w3-codespan\">+</code> character in the string</td>\n",
    "<td><a target=\"_blank\" class=\"w3-btn btnsmall btnsmall\" href=\"trypython.asp?filename=demo_regex_set8\">Try it »</a></td>\n",
    "  </tr>\n",
    "</tbody></table>"
   ]
  },
  {
   "cell_type": "code",
   "execution_count": 4,
   "metadata": {},
   "outputs": [
    {
     "data": {
      "text/plain": [
       "['2']"
      ]
     },
     "execution_count": 4,
     "metadata": {},
     "output_type": "execute_result"
    }
   ],
   "source": [
    "\n",
    "#The findall() Function\n",
    "# The findall() function returns a list containing all matches.\n",
    "\n",
    "import re \n",
    " \n",
    "txt=\"uhsdgjhgvdb23\"\n",
    "x=re.findall(\"2\",txt)\n",
    "x"
   ]
  },
  {
   "cell_type": "code",
   "execution_count": 6,
   "metadata": {},
   "outputs": [
    {
     "data": {
      "text/plain": [
       "[]"
      ]
     },
     "execution_count": 6,
     "metadata": {},
     "output_type": "execute_result"
    }
   ],
   "source": [
    "\n",
    "#The findall() Function\n",
    "# The findall() function returns a list containing all matches.\n",
    "\n",
    "import re \n",
    " \n",
    "txt=\"uhsdgjhgvdb23\"\n",
    "x=re.findall(\"5\",txt)\n",
    "x\n",
    "# it wiil return  nothing why means find nothing relate to the argu to find  "
   ]
  },
  {
   "cell_type": "code",
   "execution_count": 9,
   "metadata": {},
   "outputs": [
    {
     "name": "stdout",
     "output_type": "stream",
     "text": [
      "found white space character\n"
     ]
    }
   ],
   "source": [
    "# The search() Function\n",
    "# The search() function searches the string for a match, and returns a Match object if there is a match.\n",
    "\n",
    "# If there is more than one match, only the first occurrence of the match will be returned:\n",
    "\n",
    "# string contains a white space character\n",
    "\n",
    "\n",
    "txt=\"sdfsfsf fsfsdfs\"\n",
    "x=re.search(\"\\s\",txt)\n",
    "if x :\n",
    "    print(\"found white space character\")\n",
    "else :\n",
    "    print(\"found white space character\")"
   ]
  },
  {
   "cell_type": "code",
   "execution_count": 13,
   "metadata": {},
   "outputs": [
    {
     "name": "stdout",
     "output_type": "stream",
     "text": [
      "['', 'df', 'f'] sdfsf\n"
     ]
    }
   ],
   "source": [
    "# The split() Function\n",
    "# The split() function returns a list where the string has been split at each match:\n",
    "\n",
    "txt=\"sdfsf\"\n",
    "x=re.split(\"s\",txt)\n",
    "print(x,txt)\n",
    "\n",
    "\n",
    "# here what happend means that first argu is for find the s and second argu is for create a split into another string  in that present index of s \n",
    "# you need to know it's not change the txt string it just create a another variable in the name of x and we return it  "
   ]
  },
  {
   "attachments": {},
   "cell_type": "markdown",
   "metadata": {},
   "source": [
    "You can control the number of occurrences by specifying the maxsplit parameter:"
   ]
  },
  {
   "cell_type": "code",
   "execution_count": 18,
   "metadata": {},
   "outputs": [
    {
     "name": "stdout",
     "output_type": "stream",
     "text": [
      "['', 'dfsfjbjhsjjj'] sdfsfjbjhsjjj\n"
     ]
    }
   ],
   "source": [
    "# ok for me what is my requirements is i need a split int the first accurence of the s not all the s in that time we need to specifically use the third argument ,\n",
    "# how many occurrences you need to split that's it\n",
    "txt=\"sdfsfjbjhsjjj\"\n",
    "x=re.split(\"s\",txt,1)\n",
    "print(x,txt)"
   ]
  },
  {
   "attachments": {},
   "cell_type": "markdown",
   "metadata": {},
   "source": [
    "## The sub() Function\n",
    "\n",
    "## The sub() function replaces the matches with the text of your choice:\n"
   ]
  },
  {
   "cell_type": "code",
   "execution_count": 22,
   "metadata": {},
   "outputs": [
    {
     "data": {
      "text/plain": [
       "'hdujgdf00000'"
      ]
     },
     "execution_count": 22,
     "metadata": {},
     "output_type": "execute_result"
    }
   ],
   "source": [
    "# question is need to replace the letter to another letter i need to change in that time we can use the sub() it is a function it takes two argument \n",
    "# first is what you need to change  the specific letter ,second is what you need to replace,third argument is from which variable you want to change put the variable \n",
    "\n",
    "txt=\"hdujgdf23445\"\n",
    "x=re.sub(\"23445\",\"00000\",txt)\n",
    "x"
   ]
  },
  {
   "cell_type": "code",
   "execution_count": 24,
   "metadata": {},
   "outputs": [
    {
     "name": "stdout",
     "output_type": "stream",
     "text": [
      "ihdsbidsdljncf6834\n"
     ]
    }
   ],
   "source": [
    "# You can control the number of replacements by specifying the count parameter:\n",
    "# Replace the first 2 occurrences:\n",
    "\n",
    "txt=\"jhdsbjdsdljncf6834\"\n",
    "x=re.sub(\"j\",\"i\",txt,2)\n",
    "print(x)\n",
    "# if you notice means that change j to i for the first & second occurrences after nothing will replace"
   ]
  },
  {
   "attachments": {},
   "cell_type": "markdown",
   "metadata": {},
   "source": [
    "The Match object has properties and methods used to retrieve information about the search, and the result:\n",
    "\n",
    ".span() returns a tuple containing the start-, and end positions of the match.\n",
    "\n",
    ".string returns the string passed into the function\n",
    "\n",
    ".group() returns the part of the string where there was a match"
   ]
  },
  {
   "cell_type": "code",
   "execution_count": 33,
   "metadata": {},
   "outputs": [
    {
     "name": "stdout",
     "output_type": "stream",
     "text": [
      "<class 're.Match'>\n",
      "(0, 21)\n",
      "<class 're.Match'>\n"
     ]
    }
   ],
   "source": [
    "# In the below example We then use the re.findall() method \n",
    "\n",
    "# To search for all occurrences of the letter 'o' in the text. \n",
    "\n",
    "# We also use the \\b special symbol to match the beginning of a word and\n",
    "\n",
    "\n",
    "# The \\w+ symbol to match one or more word characters.\n",
    "\n",
    "# in line 14 i declare the r what is menaing is it take the string as a raw string\n",
    "\n",
    "\n",
    "\n",
    "txt=\"kjdhfjsdkfdjskchdilhc;233349dmnc\"\n",
    "x=re.search(r'\\bk\\w+',txt)\n",
    "print(type(x))\n",
    "print(x.span())\n",
    "print(type(x))"
   ]
  },
  {
   "attachments": {},
   "cell_type": "markdown",
   "metadata": {},
   "source": [
    "done"
   ]
  },
  {
   "cell_type": "code",
   "execution_count": null,
   "metadata": {},
   "outputs": [],
   "source": []
  }
 ],
 "metadata": {
  "kernelspec": {
   "display_name": "Python 3",
   "language": "python",
   "name": "python3"
  },
  "language_info": {
   "codemirror_mode": {
    "name": "ipython",
    "version": 3
   },
   "file_extension": ".py",
   "mimetype": "text/x-python",
   "name": "python",
   "nbconvert_exporter": "python",
   "pygments_lexer": "ipython3",
   "version": "3.10.6"
  },
  "orig_nbformat": 4
 },
 "nbformat": 4,
 "nbformat_minor": 2
}
