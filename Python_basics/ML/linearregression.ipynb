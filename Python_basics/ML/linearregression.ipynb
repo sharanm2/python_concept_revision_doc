{
 "cells": [
  {
   "attachments": {},
   "cell_type": "markdown",
   "metadata": {},
   "source": [
    "## `Machine Learning Algorithms`\n",
    "\n",
    "\n",
    "Machine learning algorithms are divided into three areas:\n",
    "\n",
    "* Supervised \n",
    "\n",
    "* Unsupervised \n",
    "\n",
    "* Reinforcement \n",
    "\n",
    "We will deal only with supervised learning this time, because that’s where linear regression fits in. Supervised learning uses labeled data, data that is subsequently used to build our model and come up with answers. The two most common uses for supervised learning are:\n",
    "\n",
    "* Regression \n",
    "* Classification\n",
    " \n",
    "###  Regression is divided into three types:\n",
    "\n",
    "* Simple linear regression \n",
    "* Multiple linear regression\n",
    "* Polynomial linear regression "
   ]
  },
  {
   "attachments": {},
   "cell_type": "markdown",
   "metadata": {},
   "source": [
    "### Applications of Linear Regression in Python\n",
    "\n",
    "\n",
    "#### Product Price \n",
    "\n",
    "\n",
    "Linear regression can be used to predict what the price of a product will be in the future, whether prices will go up or down.\n",
    "\n",
    "#### Housing Sales\n",
    "\n",
    "\n",
    "Linear regression can be used to estimate the number of houses a builder will sell in the coming months and at what price."
   ]
  },
  {
   "attachments": {},
   "cell_type": "markdown",
   "metadata": {},
   "source": [
    "Linear regression is a statistical model used to predict the relationship between `independent and dependent variables by examining two factors`:"
   ]
  },
  {
   "attachments": {},
   "cell_type": "markdown",
   "metadata": {},
   "source": [
    "### `Independent Variable`\n",
    "The value of an independent variable does not change based on the effects of other variables. An independent variable is used to manipulate the dependent variable. It is often denoted by an “x.” In our example, the rainfall is the independent variable because we can’t control the rain, but the rain controls the crop—the independent variable controls the dependent variable\n",
    "\n",
    "\n",
    "\n",
    "Independent Variable :\n",
    "\n",
    "\n",
    "        input is the independent variable it's not dependent on the other variables\n",
    "\n",
    "\n",
    "        Like in this example rain is the independent variable"
   ]
  },
  {
   "attachments": {},
   "cell_type": "markdown",
   "metadata": {},
   "source": [
    "### `Dependent Variable`\n",
    "\n",
    "\n",
    "The value of this variable changes when there is any change in the values of the independent variables, as mentioned before. It is often denoted by a “y.” In our example, the crop yield is the dependent variable, and it is dependent on the amount of rainfall. "
   ]
  },
  {
   "attachments": {},
   "cell_type": "markdown",
   "metadata": {},
   "source": [
    "### `Dependent Variable`:\n",
    "\n",
    "    \n",
    "        Output is the dependent variable it's always dependent on the input variable\n",
    "\n",
    "\n",
    "        Like in this example crop is the dependent variable its always dependent on amount of the rain\n",
    "\n",
    "    "
   ]
  },
  {
   "attachments": {},
   "cell_type": "markdown",
   "metadata": {},
   "source": [
    "### `Regression Equation `\n",
    "\n",
    "\n",
    "The simplest linear regression equation with one dependent variable and one independent variable is:\n",
    "\n",
    "y = m*x + c"
   ]
  },
  {
   "attachments": {},
   "cell_type": "markdown",
   "metadata": {},
   "source": [
    "<img src=\"https://www.simplilearn.com/ice9/free_resources_article_thumb/regression-equation-graphic.png\" alt=\"Regression Equation _ Graphic\" width=\"514\" height=\"188\" class=\"blend-mode\">"
   ]
  },
  {
   "attachments": {},
   "cell_type": "markdown",
   "metadata": {},
   "source": [
    "We have plotted two points, (x1,y1) and (x2,y2). Let’s discuss the example of crop yield used earlier in the article, and plot the crop yield based on the amount of rainfall. Here, rainfall is the independent variable and crop yield is the dependent variable."
   ]
  },
  {
   "attachments": {},
   "cell_type": "markdown",
   "metadata": {},
   "source": [
    "<p style=\"text-align: center;\"><img src=\"https://www.simplilearn.com/ice9/free_resources_article_thumb/regression-graph.png\" alt=\"Regression Graphs\" width=\"669\" height=\"210\" class=\"blend-mode\"></p>"
   ]
  },
  {
   "attachments": {},
   "cell_type": "markdown",
   "metadata": {},
   "source": [
    "Here, we’ve drawn a line through the middle of the data. The red point on the y-axis is the crop yield you can expect for the amount of rainfall (x) represented by the green dot.\n",
    "\n",
    "If we have an idea about the amount of rainfall for a year, then we can predict how plentiful our crop will be."
   ]
  },
  {
   "attachments": {},
   "cell_type": "markdown",
   "metadata": {},
   "source": [
    "### Reasoning Behind the Regression Line\n",
    "\n",
    "\n",
    "\n",
    "Let’s consider a sample data set with five rows and find out how to draw the regression line. We’ll take two sets of data in which x is the independent variable and y is the dependent variable:"
   ]
  },
  {
   "attachments": {},
   "cell_type": "markdown",
   "metadata": {},
   "source": [
    "<table>\n",
    "<tbody>\n",
    "<tr>\n",
    "<td>\n",
    "<p>x</p>\n",
    "</td>\n",
    "<td>\n",
    "<p>y</p>\n",
    "</td>\n",
    "</tr>\n",
    "<tr>\n",
    "<td>\n",
    "<p>1</p>\n",
    "</td>\n",
    "<td>\n",
    "<p>2</p>\n",
    "</td>\n",
    "</tr>\n",
    "<tr>\n",
    "<td>\n",
    "<p>2</p>\n",
    "</td>\n",
    "<td>\n",
    "<p>4</p>\n",
    "</td>\n",
    "</tr>\n",
    "<tr>\n",
    "<td>\n",
    "<p>3</p>\n",
    "</td>\n",
    "<td>\n",
    "<p>5</p>\n",
    "</td>\n",
    "</tr>\n",
    "<tr>\n",
    "<td>\n",
    "<p>4</p>\n",
    "</td>\n",
    "<td>\n",
    "<p>4</p>\n",
    "</td>\n",
    "</tr>\n",
    "<tr>\n",
    "<td>\n",
    "<p>5</p>\n",
    "</td>\n",
    "<td>\n",
    "<p>5</p>\n",
    "</td>\n",
    "</tr>\n",
    "</tbody>\n",
    "</table>"
   ]
  },
  {
   "attachments": {},
   "cell_type": "markdown",
   "metadata": {},
   "source": [
    "This is a graph with the data plotted:\n",
    "\n",
    "\n",
    "\n",
    "\n",
    "<p style=\"text-align: center;\"><img src=\"https://www.simplilearn.com/ice9/free_resources_article_thumb/regression-line-graph-with-data-plotted.png\" alt=\"Regression line-graph with data plotted\" width=\"334\" height=\"264\" class=\"blend-mode\"></p>"
   ]
  },
  {
   "attachments": {},
   "cell_type": "markdown",
   "metadata": {},
   "source": [
    "Next, we calculate the means, or average values, of x and y. The average of the x values is 3, and the average of the y values is 4. \n",
    "\n",
    "We plot both means on the graph to get the regression line.\n",
    "\n",
    "\n",
    "\n",
    "\n",
    "\n",
    "<p style=\"text-align: center;\"><img src=\"https://www.simplilearn.com/ice9/free_resources_article_thumb/graph-to-get-regression-line.png\" alt=\"Regression Line - Graph\" width=\"326\" height=\"264\" class=\"blend-mode\"></p>"
   ]
  },
  {
   "attachments": {},
   "cell_type": "markdown",
   "metadata": {},
   "source": [
    "We have calculated the values for x2, y2 and x*y to calculate the slope and intercept of the line. The calculated values are:\n",
    "\n",
    "m = 0.6\n",
    "\n",
    "c = 2.2\n",
    "\n",
    "The linear equation is:\n",
    "\n",
    "y = m*x + c\n",
    "\n",
    "Let’s find out the predicted values of y for corresponding values of x using the linear equation in which m = 0.6 and c = 2.2 and plot them.\n",
    "\n",
    "\n",
    "\n",
    "\n",
    "\n",
    "<p style=\"text-align: center;\"><img src=\"https://www.simplilearn.com/ice9/free_resources_article_thumb/predicted-values-using-liner-equation.png\" alt=\"Predicted Values using Linear Regression\" width=\"455\" height=\"260\" class=\"blend-mode\"></p>"
   ]
  },
  {
   "attachments": {},
   "cell_type": "markdown",
   "metadata": {},
   "source": [
    "Here, the blue points represent the actual y values, and the brown points represent the predicted y values based on the model we created. The distances between the actual and predicted values are known as residuals or errors. The best-fit line should have the lowest sum of squares of these errors, also known as “e square.”"
   ]
  },
  {
   "attachments": {},
   "cell_type": "markdown",
   "metadata": {},
   "source": [
    "<p style=\"text-align: center;\"><img src=\"https://www.simplilearn.com/ice9/free_resources_article_thumb/e-square.png\" alt=\"E - Square\" width=\"422\" height=\"179\" class=\"blend-mode\"></p>"
   ]
  },
  {
   "attachments": {},
   "cell_type": "markdown",
   "metadata": {},
   "source": [
    "You can observe that the sum of squared errors for this regression line is 2.4. We check this error for each line and determine the best-fit line having the lowest e square value. The graphical representation is: \n",
    "\n",
    "\n",
    "\n",
    "<p style=\"text-align: center;\"><img src=\"https://www.simplilearn.com/ice9/free_resources_article_thumb/data-points-best-fit.png\" alt=\"Data Points Best Fit\" width=\"334\" height=\"282\" class=\"blend-mode\"></p>"
   ]
  },
  {
   "attachments": {},
   "cell_type": "markdown",
   "metadata": {},
   "source": [
    "print(\"dsd\")"
   ]
  },
  {
   "cell_type": "code",
   "execution_count": 2,
   "metadata": {},
   "outputs": [
    {
     "data": {
      "image/png": "[encoded data removed]",
      "text/plain": [
       "<Figure size 640x480 with 1 Axes>"
      ]
     },
     "metadata": {},
     "output_type": "display_data"
    }
   ],
   "source": [
    "import numpy as np\n",
    "import matplotlib.pyplot as plt\n",
    "\n",
    "# create some example data\n",
    "x = np.array([1, 2, 3, 4, 5])\n",
    "y = np.array([2, 3, 5, 6, 8])\n",
    "\n",
    "# calculate the slope and intercept of the regression line\n",
    "slope, intercept = np.polyfit(x, y, 1)\n",
    "\n",
    "# calculate the predicted values of y\n",
    "y_pred = slope * x + intercept\n",
    "\n",
    "# plot the data points and the regression line\n",
    "plt.scatter(x, y)\n",
    "plt.plot(x, y_pred, color='red')\n",
    "plt.xlabel('x')\n",
    "plt.ylabel('y')\n",
    "plt.title('Linear Regression Example')\n",
    "plt.show()\n"
   ]
  },
  {
   "attachments": {},
   "cell_type": "markdown",
   "metadata": {},
   "source": []
  }
 ],
 "metadata": {
  "kernelspec": {
   "display_name": "venv1",
   "language": "python",
   "name": "python3"
  },
  "language_info": {
   "codemirror_mode": {
    "name": "ipython",
    "version": 3
   },
   "file_extension": ".py",
   "mimetype": "text/x-python",
   "name": "python",
   "nbconvert_exporter": "python",
   "pygments_lexer": "ipython3",
   "version": "3.10.6"
  },
  "orig_nbformat": 4
 },
 "nbformat": 4,
 "nbformat_minor": 2
}
