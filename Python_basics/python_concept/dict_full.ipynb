{
 "cells": [
  {
   "attachments": {},
   "cell_type": "markdown",
   "metadata": {},
   "source": [
    "## Dictionary\n",
    "`Dictionaries are used to store data values in key:value pairs.`\n",
    "\n",
    "A dictionary is a collection which is ordered*, changeable and do not allow duplicates.\n",
    "\n",
    "`Dictionaries are written with curly brackets, and have keys and values:`"
   ]
  },
  {
   "cell_type": "code",
   "execution_count": 1,
   "metadata": {},
   "outputs": [],
   "source": [
    "# basic code in dict\n",
    "my_dict={\n",
    "    \"name\":\"sfsfs\",\n",
    "    \"age\":23,\n",
    "    \"tasks\":1\n",
    "}\n"
   ]
  },
  {
   "cell_type": "code",
   "execution_count": 3,
   "metadata": {},
   "outputs": [
    {
     "name": "stdout",
     "output_type": "stream",
     "text": [
      "{'name': 'sfsfs', 'age': 23, 'tasks': 1}\n"
     ]
    }
   ],
   "source": [
    "print(my_dict)"
   ]
  },
  {
   "cell_type": "code",
   "execution_count": 5,
   "metadata": {},
   "outputs": [
    {
     "name": "stdout",
     "output_type": "stream",
     "text": [
      "sfsfs\n",
      "23\n",
      "1\n"
     ]
    }
   ],
   "source": [
    "print(my_dict[\"name\"])\n",
    "print(my_dict[\"age\"])\n",
    "print(my_dict[\"tasks\"])\n"
   ]
  },
  {
   "cell_type": "code",
   "execution_count": 6,
   "metadata": {},
   "outputs": [
    {
     "data": {
      "text/plain": [
       "4"
      ]
     },
     "execution_count": 6,
     "metadata": {},
     "output_type": "execute_result"
    }
   ],
   "source": [
    "# len of the dict\n",
    "my_dict={\n",
    "    \"sd\":433,\n",
    "    \"dfdsf\":34,\n",
    "    \"ddf\":\"sddsfvf\",\n",
    "    \"sdff\":23\n",
    "}\n",
    "len(my_dict)"
   ]
  },
  {
   "cell_type": "code",
   "execution_count": 10,
   "metadata": {},
   "outputs": [
    {
     "data": {
      "text/plain": [
       "dict"
      ]
     },
     "execution_count": 10,
     "metadata": {},
     "output_type": "execute_result"
    }
   ],
   "source": [
    "# find the type\n",
    "my_dict=dict(sff = 2,dsd=\"dds\")\n",
    "type(my_dict)"
   ]
  },
  {
   "attachments": {},
   "cell_type": "markdown",
   "metadata": {},
   "source": [
    "`There is also a method called get() that will give you the same result:`\n"
   ]
  },
  {
   "cell_type": "code",
   "execution_count": 15,
   "metadata": {},
   "outputs": [
    {
     "data": {
      "text/plain": [
       "2"
      ]
     },
     "execution_count": 15,
     "metadata": {},
     "output_type": "execute_result"
    }
   ],
   "source": [
    "my_dict.get(\"sff\")"
   ]
  },
  {
   "attachments": {},
   "cell_type": "markdown",
   "metadata": {},
   "source": [
    "`Get Keys`\n",
    "\n",
    "The keys() method will return a list of all the keys in the dictionary."
   ]
  },
  {
   "cell_type": "code",
   "execution_count": 17,
   "metadata": {},
   "outputs": [
    {
     "data": {
      "text/plain": [
       "dict_keys(['sff', 'dsd'])"
      ]
     },
     "execution_count": 17,
     "metadata": {},
     "output_type": "execute_result"
    }
   ],
   "source": [
    "my_dict.keys()"
   ]
  },
  {
   "attachments": {},
   "cell_type": "markdown",
   "metadata": {},
   "source": [
    "Example\n",
    "\n",
    "Add a `new item to the original dictionary`, and see that the keys list gets updated as well:"
   ]
  },
  {
   "cell_type": "code",
   "execution_count": 19,
   "metadata": {},
   "outputs": [
    {
     "data": {
      "text/plain": [
       "{'engine': 'diesel', 'color': 'red', 'milage': 12, 'old': 23}"
      ]
     },
     "execution_count": 19,
     "metadata": {},
     "output_type": "execute_result"
    }
   ],
   "source": [
    "car_dict={\n",
    "    \"engine\":\"diesel\",\n",
    "    \"color\":'red',\n",
    "    \"milage\" :12\n",
    "}\n",
    "\n",
    "car_dict\n",
    "# update a element in the dict\n",
    "\n",
    "car_dict[\"old\"]=23\n",
    "car_dict"
   ]
  },
  {
   "attachments": {},
   "cell_type": "markdown",
   "metadata": {},
   "source": [
    "    `Change Values`\n",
    "    \n",
    "You can change the value of a specific item by referring to its key name:"
   ]
  },
  {
   "cell_type": "code",
   "execution_count": 20,
   "metadata": {},
   "outputs": [
    {
     "data": {
      "text/plain": [
       "{'engine': 'diesel', 'color': 'blue', 'milage': 12}"
      ]
     },
     "execution_count": 20,
     "metadata": {},
     "output_type": "execute_result"
    }
   ],
   "source": [
    "car_dict={\n",
    "    \"engine\":\"diesel\",\n",
    "    \"color\":'red',\n",
    "    \"milage\" :12\n",
    "}\n",
    "car_dict[\"color\"]=\"blue\"\n",
    "car_dict"
   ]
  },
  {
   "attachments": {},
   "cell_type": "markdown",
   "metadata": {},
   "source": [
    "`Update Dictionary`\n",
    "The `update()` method will update the dictionary with the items from the given argument.\n",
    "\n",
    "\n",
    "The argument must be a dictionary, or an iterable object with key:value pairs."
   ]
  },
  {
   "cell_type": "code",
   "execution_count": 26,
   "metadata": {},
   "outputs": [
    {
     "name": "stdout",
     "output_type": "stream",
     "text": [
      "{'engine': 'diesel', 'color': 'red', 'milage': 12}\n"
     ]
    },
    {
     "data": {
      "text/plain": [
       "{'engine': 'diesel', 'color': 'blue', 'milage': 12}"
      ]
     },
     "execution_count": 26,
     "metadata": {},
     "output_type": "execute_result"
    }
   ],
   "source": [
    "print(car_dict)\n",
    "car_dict.update({\"color\" : \"blue\"})\n",
    "car_dict"
   ]
  },
  {
   "attachments": {},
   "cell_type": "markdown",
   "metadata": {},
   "source": [
    "`Removing Items`\n",
    "### There are several methods to remove items from a dictionary:\n",
    "\n",
    "\n",
    "`pop() method`   :  The pop() method removes the item with the specified key name:\n",
    "\n",
    "`popitem() method`  : The popitem() method removes the last inserted item \n",
    "\n",
    "`del keyword`       :The del keyword removes the item with the specified key name:\n",
    "\n",
    "`clear() method`     : The clear() method empties the dictionary:"
   ]
  },
  {
   "cell_type": "code",
   "execution_count": 28,
   "metadata": {},
   "outputs": [
    {
     "data": {
      "text/plain": [
       "{'color': 'blue', 'milage': 12}"
      ]
     },
     "execution_count": 28,
     "metadata": {},
     "output_type": "execute_result"
    }
   ],
   "source": [
    "# pop() it remove the element which is declared in the the paranthesis\n",
    "car_dict\n",
    "\n",
    "car_dict.pop(\"engine\")\n",
    "car_dict"
   ]
  },
  {
   "cell_type": "code",
   "execution_count": 32,
   "metadata": {},
   "outputs": [
    {
     "name": "stdout",
     "output_type": "stream",
     "text": [
      "{'engine': 'diesel', 'color': 'red', 'milage': 12}\n"
     ]
    },
    {
     "data": {
      "text/plain": [
       "('milage', 12)"
      ]
     },
     "execution_count": 32,
     "metadata": {},
     "output_type": "execute_result"
    }
   ],
   "source": [
    "car_dict={\n",
    "    \"engine\":\"diesel\",\n",
    "    \"color\":'red',\n",
    "    \"milage\" :12\n",
    "}\n",
    "print(car_dict)\n",
    "car_dict.popitem()"
   ]
  },
  {
   "cell_type": "code",
   "execution_count": 33,
   "metadata": {},
   "outputs": [
    {
     "ename": "NameError",
     "evalue": "name 'car_dict' is not defined",
     "output_type": "error",
     "traceback": [
      "\u001b[1;31m---------------------------------------------------------------------------\u001b[0m",
      "\u001b[1;31mNameError\u001b[0m                                 Traceback (most recent call last)",
      "Cell \u001b[1;32mIn[33], line 3\u001b[0m\n\u001b[0;32m      1\u001b[0m \u001b[39m# The del keyword removes the item with the specified key name:\u001b[39;00m\n\u001b[0;32m      2\u001b[0m \u001b[39mdel\u001b[39;00m car_dict\n\u001b[1;32m----> 3\u001b[0m \u001b[39mprint\u001b[39m(car_dict)\n",
      "\u001b[1;31mNameError\u001b[0m: name 'car_dict' is not defined"
     ]
    }
   ],
   "source": [
    "# The del keyword removes the item with the specified key name:\n",
    "del car_dict\n",
    "print(car_dict)"
   ]
  },
  {
   "cell_type": "code",
   "execution_count": 35,
   "metadata": {},
   "outputs": [
    {
     "data": {
      "text/plain": [
       "{}"
      ]
     },
     "execution_count": 35,
     "metadata": {},
     "output_type": "execute_result"
    }
   ],
   "source": [
    "# clear is the method that empties the dict\n",
    "car_dict={\n",
    "    \"engine\":\"diesel\",\n",
    "    \"color\":'red',\n",
    "    \"milage\" :12\n",
    "}\n",
    "\n",
    "car_dict.clear()\n",
    "car_dict"
   ]
  },
  {
   "attachments": {},
   "cell_type": "markdown",
   "metadata": {},
   "source": [
    "`Loop Through a Dictionary`\n",
    "\n",
    "\n",
    "You can loop through a dictionary by using a for loop.\n",
    "\n",
    "When looping through a dictionary, the return value are the keys of the dictionary, but there are methods to return the values as well\n"
   ]
  },
  {
   "cell_type": "code",
   "execution_count": 36,
   "metadata": {},
   "outputs": [
    {
     "name": "stdout",
     "output_type": "stream",
     "text": [
      "engine\n",
      "color\n",
      "milage\n"
     ]
    }
   ],
   "source": [
    "car_dict={\n",
    "    \"engine\":\"diesel\",\n",
    "    \"color\":'red',\n",
    "    \"milage\" :12\n",
    "}\n",
    "for i in car_dict:\n",
    "    print(i)\n",
    "print(\"it print all the keys of the car\")"
   ]
  },
  {
   "cell_type": "code",
   "execution_count": 38,
   "metadata": {},
   "outputs": [
    {
     "name": "stdout",
     "output_type": "stream",
     "text": [
      "diesel\n",
      "red\n",
      "12\n",
      "it print all the values of the keys\n"
     ]
    }
   ],
   "source": [
    "car_dict\n",
    "for i in car_dict:\n",
    "    print(car_dict[i])\n",
    "print(\"it print all the values of the keys\")"
   ]
  },
  {
   "cell_type": "code",
   "execution_count": 40,
   "metadata": {},
   "outputs": [
    {
     "name": "stdout",
     "output_type": "stream",
     "text": [
      "engine\n",
      "color\n",
      "milage\n",
      "it print all the values of the keys\n"
     ]
    }
   ],
   "source": [
    "car_dict\n",
    "for i in car_dict.keys():\n",
    "    print(i)\n",
    "print(\"it print all the values of the keys\")"
   ]
  },
  {
   "cell_type": "code",
   "execution_count": 41,
   "metadata": {},
   "outputs": [
    {
     "name": "stdout",
     "output_type": "stream",
     "text": [
      "diesel\n",
      "red\n",
      "12\n",
      "it print all the values of the keys\n"
     ]
    }
   ],
   "source": [
    "car_dict\n",
    "for i in car_dict.values():\n",
    "    print(i)\n",
    "print(\"it print all the values of the values\")"
   ]
  },
  {
   "cell_type": "code",
   "execution_count": 42,
   "metadata": {},
   "outputs": [
    {
     "name": "stdout",
     "output_type": "stream",
     "text": [
      "engine diesel\n",
      "color red\n",
      "milage 12\n"
     ]
    }
   ],
   "source": [
    "# .items it print all key aswell as the value\n",
    "\n",
    "car_dict={\n",
    "    \"engine\":\"diesel\",\n",
    "    \"color\":'red',\n",
    "    \"milage\" :12\n",
    "}\n",
    "\n",
    "for x,y in car_dict.items():\n",
    "    print(x,y)"
   ]
  },
  {
   "attachments": {},
   "cell_type": "markdown",
   "metadata": {},
   "source": [
    "`Copy a Dictionary`\n",
    "\n",
    "\n",
    "You cannot copy a dictionary simply by typing dict2 = dict1, because`: dict2 will only be a reference to dict1, and changes made in dict1 will automatically also be made in dict2.`\n",
    "\n",
    "\n",
    "\n",
    "There are ways to make a copy, one way is to use the built-in Dictionary `method copy().`"
   ]
  },
  {
   "cell_type": "code",
   "execution_count": 46,
   "metadata": {},
   "outputs": [
    {
     "name": "stdout",
     "output_type": "stream",
     "text": [
      "{'engine': 'diesel', 'color': 'red', 'milage': 12, 'fgfd': 'dsf'}\n",
      "{'engine': 'diesel', 'color': 'red', 'milage': 12, 'fgfd': 'dsf'}\n",
      "{'engine': 'diesel', 'color': 'red', 'milage': 12, 'fgfd': 'dsf'}\n"
     ]
    }
   ],
   "source": [
    "\n",
    "print(car_dict) \n",
    "new_dict=car_dict\n",
    "print(new_dict)\n",
    "new_dict[\"fgfd\"]=\"dsf\"\n",
    "new_dict\n",
    "print(new_dict)\n",
    "# if we use = type itb affect the old dict so they provide the copy() method\n"
   ]
  },
  {
   "cell_type": "code",
   "execution_count": 48,
   "metadata": {},
   "outputs": [
    {
     "name": "stdout",
     "output_type": "stream",
     "text": [
      "{'engine': 'diesel', 'color': 'red', 'milage': 12, 'fgfd': 'dsf'}\n"
     ]
    },
    {
     "data": {
      "text/plain": [
       "{'engine': 'diesel', 'color': 'red', 'milage': 12, 'fgfd': 'dsf'}"
      ]
     },
     "execution_count": 48,
     "metadata": {},
     "output_type": "execute_result"
    }
   ],
   "source": [
    "print(car_dict) \n",
    "new_dict=car_dict.copy()\n",
    "new_dict"
   ]
  },
  {
   "cell_type": "code",
   "execution_count": null,
   "metadata": {},
   "outputs": [],
   "source": [
    "# nested dict \n",
    "car_dict={\n",
    "    \"car\":{\n",
    "    \"engine\":\"diesel\",\n",
    "    \"color\":'red',\n",
    "    \"milage\" :12\n",
    "    },\n",
    "    \"car1\":{\n",
    "    \"engine\":\"diesel\",\n",
    "    \"color\":'red',\n",
    "    \"milage\" :12\n",
    "    },\n",
    "    \"car2\":{\n",
    "    \"engine\":\"diesel\",\n",
    "    \"color\":'red',\n",
    "    \"milage\" :12\n",
    "    }\n",
    "\n",
    "}\n",
    "\n"
   ]
  },
  {
   "cell_type": "code",
   "execution_count": 52,
   "metadata": {},
   "outputs": [
    {
     "ename": "KeyError",
     "evalue": "'car'",
     "output_type": "error",
     "traceback": [
      "\u001b[1;31m---------------------------------------------------------------------------\u001b[0m",
      "\u001b[1;31mKeyError\u001b[0m                                  Traceback (most recent call last)",
      "Cell \u001b[1;32mIn[52], line 3\u001b[0m\n\u001b[0;32m      1\u001b[0m \u001b[39m# access the car 2\u001b[39;00m\n\u001b[0;32m      2\u001b[0m car_dict\n\u001b[1;32m----> 3\u001b[0m \u001b[39mprint\u001b[39m(car_dict[\u001b[39m\"\u001b[39;49m\u001b[39mcar\u001b[39;49m\u001b[39m\"\u001b[39;49m][\u001b[39m\"\u001b[39m\u001b[39mcolor\u001b[39m\u001b[39m\"\u001b[39m])\n",
      "\u001b[1;31mKeyError\u001b[0m: 'car'"
     ]
    }
   ],
   "source": [
    "# access the car 2\n",
    "car_dict\n",
    "print(car_dict[\"car\"][\"color\"])"
   ]
  },
  {
   "attachments": {},
   "cell_type": "markdown",
   "metadata": {},
   "source": [
    "<table class=\"ws-table-all notranslate\">\n",
    "<tbody><tr>\n",
    "<th>Method</th>\n",
    "<th>Description</th>\n",
    "</tr>\n",
    "<tr><td><a href=\"ref_dictionary_clear.asp\">clear()</a></td><td>Removes all the elements from the dictionary</td></tr>\n",
    "<tr><td><a href=\"ref_dictionary_copy.asp\">copy()</a></td><td>Returns a copy of the dictionary</td></tr>\n",
    "<tr><td><a href=\"ref_dictionary_fromkeys.asp\">fromkeys()</a></td><td>Returns a dictionary with the specified keys and value</td></tr>\n",
    "<tr><td><a href=\"ref_dictionary_get.asp\">get()</a></td><td>Returns the value of the specified key</td></tr>\n",
    "<tr><td><a href=\"ref_dictionary_items.asp\">items()</a></td><td>Returns a list containing a tuple for each key value pair</td></tr>\n",
    "<tr><td><a href=\"ref_dictionary_keys.asp\">keys()</a></td><td>Returns a list containing the dictionary's keys</td></tr>\n",
    "<tr><td><a href=\"ref_dictionary_pop.asp\">pop()</a></td><td>Removes the element with the specified key</td></tr>\n",
    "<tr><td><a href=\"ref_dictionary_popitem.asp\">popitem()</a></td><td>Removes the last \n",
    "  inserted key-value pair</td></tr>\n",
    "<tr><td><a href=\"ref_dictionary_setdefault.asp\">setdefault()</a></td><td>Returns the value of the specified key. If the key does not exist: insert the key, with the specified value</td></tr>\n",
    "<tr><td><a href=\"ref_dictionary_update.asp\">update()</a></td><td>Updates the dictionary with the specified key-value pairs</td></tr>\n",
    "<tr><td><a href=\"ref_dictionary_values.asp\">values()</a></td><td>Returns a list of all the values in the dictionary</td></tr>\n",
    "</tbody></table>"
   ]
  }
 ],
 "metadata": {
  "kernelspec": {
   "display_name": "Python 3",
   "language": "python",
   "name": "python3"
  },
  "language_info": {
   "codemirror_mode": {
    "name": "ipython",
    "version": 3
   },
   "file_extension": ".py",
   "mimetype": "text/x-python",
   "name": "python",
   "nbconvert_exporter": "python",
   "pygments_lexer": "ipython3",
   "version": "3.10.6"
  },
  "orig_nbformat": 4
 },
 "nbformat": 4,
 "nbformat_minor": 2
}
