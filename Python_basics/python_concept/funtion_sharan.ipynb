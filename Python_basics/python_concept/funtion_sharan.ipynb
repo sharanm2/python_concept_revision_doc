{
 "cells": [
  {
   "cell_type": "markdown",
   "metadata": {},
   "source": []
  },
  {
   "attachments": {},
   "cell_type": "markdown",
   "metadata": {},
   "source": [
    "Functions in Python are blocks of code that can be defined with a name and can be called to execute that code. `Functions can take parameters, known as arguments,` which are values passed into the function for processing. Here's an example of a function without any arguments:"
   ]
  },
  {
   "attachments": {},
   "cell_type": "markdown",
   "metadata": {},
   "source": []
  },
  {
   "cell_type": "code",
   "execution_count": null,
   "metadata": {},
   "outputs": [
    {
     "ename": "",
     "evalue": "",
     "output_type": "error",
     "traceback": [
      "\u001b[1;31mCanceled future for execute_request message before replies were done"
     ]
    }
   ],
   "source": [
    "def print_name(name,age):\n",
    "    return print(name,age)\n",
    "\n",
    "\n",
    "\n",
    "print_name(\"puvi\",12)"
   ]
  },
  {
   "cell_type": "code",
   "execution_count": null,
   "metadata": {},
   "outputs": [
    {
     "name": "stdout",
     "output_type": "stream",
     "text": [
      "(1, 2)\n",
      "('asd', 'fdvf', 45)\n"
     ]
    }
   ],
   "source": [
    "def demo(*args):\n",
    "    return print(args)\n",
    "\n",
    "\n",
    "\n",
    "demo(1,2)\n",
    "demo(\"asd\",\"fdvf\",45)"
   ]
  },
  {
   "cell_type": "code",
   "execution_count": null,
   "metadata": {},
   "outputs": [
    {
     "name": "stdout",
     "output_type": "stream",
     "text": [
      "30\n"
     ]
    }
   ],
   "source": [
    "def add_numbers(a, b):\n",
    "    sum = a + b\n",
    "    return sum\n",
    "\n",
    "print(add_numbers(10, 20) ) # Call the function with arguments 10 and 20\n",
    "# print(result)  # Print the result"
   ]
  },
  {
   "cell_type": "code",
   "execution_count": null,
   "metadata": {},
   "outputs": [
    {
     "data": {
      "text/plain": [
       "(12, 323, 3434)"
      ]
     },
     "execution_count": 9,
     "metadata": {},
     "output_type": "execute_result"
    }
   ],
   "source": [
    "# retrun multiple value\n",
    "\n",
    "\n",
    "def multiple_value(*args):\n",
    "    return args\n",
    "\n",
    "multiple_value(12,323,3434)"
   ]
  },
  {
   "cell_type": "code",
   "execution_count": null,
   "metadata": {},
   "outputs": [
    {
     "data": {
      "text/plain": [
       "('bcbhv', 2323, (4+5j))"
      ]
     },
     "execution_count": 12,
     "metadata": {},
     "output_type": "execute_result"
    }
   ],
   "source": [
    "def fun_value(*args):\n",
    "    return args\n",
    "\n",
    "second_fun=fun_value\n",
    "second_fun(\"bcbhv\",2323,4+5j)\n"
   ]
  },
  {
   "attachments": {},
   "cell_type": "markdown",
   "metadata": {},
   "source": [
    "def fun_value(a,b) -> this argument is called as formal argument\n",
    "during calling the function fun_value(1,2) -> this argument is called as actual argument\n",
    "\n",
    "in Actual Args there are 4 types of arguments\n",
    "    positional arguments\n",
    "    Keyword arguments\n",
    "    Default arguments\n",
    "    variable length arguments\n"
   ]
  },
  {
   "cell_type": "code",
   "execution_count": null,
   "metadata": {},
   "outputs": [
    {
     "name": "stdout",
     "output_type": "stream",
     "text": [
      "abc 43\n"
     ]
    }
   ],
   "source": [
    "# positional arguments\n",
    "\n",
    "def position_args(name,age):\n",
    "   print (name, age)\n",
    "    \n",
    "\n",
    "position_args(\"abc\",43)\n"
   ]
  },
  {
   "cell_type": "code",
   "execution_count": null,
   "metadata": {},
   "outputs": [
    {
     "name": "stdout",
     "output_type": "stream",
     "text": [
      "The youngest child is Linus\n"
     ]
    }
   ],
   "source": [
    "#position  argument\n",
    "def my_function(child3, child2, child1):\n",
    "  print(\"The youngest child is \" + child1)\n",
    "\n",
    "my_function(child3 = \"Emil\", child2 = \"Tobias\", child1 = \"Linus\")"
   ]
  },
  {
   "cell_type": "code",
   "execution_count": null,
   "metadata": {},
   "outputs": [
    {
     "name": "stdout",
     "output_type": "stream",
     "text": [
      "213\n"
     ]
    },
    {
     "ename": "TypeError",
     "evalue": "can only concatenate str (not \"int\") to str",
     "output_type": "error",
     "traceback": [
      "\u001b[1;31m---------------------------------------------------------------------------\u001b[0m",
      "\u001b[1;31mTypeError\u001b[0m                                 Traceback (most recent call last)",
      "Cell \u001b[1;32mIn[16], line 6\u001b[0m\n\u001b[0;32m      3\u001b[0m     \u001b[39mprint\u001b[39m(name)\n\u001b[0;32m      4\u001b[0m     \u001b[39mprint\u001b[39m(age\u001b[39m+\u001b[39m\u001b[39m12\u001b[39m)\n\u001b[1;32m----> 6\u001b[0m key_args(\u001b[39m213\u001b[39;49m,\u001b[39m\"\u001b[39;49m\u001b[39mabc\u001b[39;49m\u001b[39m\"\u001b[39;49m)\n",
      "Cell \u001b[1;32mIn[16], line 4\u001b[0m, in \u001b[0;36mkey_args\u001b[1;34m(name, age)\u001b[0m\n\u001b[0;32m      2\u001b[0m \u001b[39mdef\u001b[39;00m \u001b[39mkey_args\u001b[39m(name,age):\n\u001b[0;32m      3\u001b[0m     \u001b[39mprint\u001b[39m(name)\n\u001b[1;32m----> 4\u001b[0m     \u001b[39mprint\u001b[39m(age\u001b[39m+\u001b[39;49m\u001b[39m12\u001b[39;49m)\n",
      "\u001b[1;31mTypeError\u001b[0m: can only concatenate str (not \"int\") to str"
     ]
    }
   ],
   "source": [
    "# KeyWord\n",
    "def key_args(name,age):\n",
    "    print(name)\n",
    "    print(age+12)\n",
    "\n",
    "key_args(213,\"abc\")"
   ]
  },
  {
   "cell_type": "code",
   "execution_count": null,
   "metadata": {},
   "outputs": [
    {
     "name": "stdout",
     "output_type": "stream",
     "text": [
      "abc\n",
      "225\n"
     ]
    }
   ],
   "source": [
    "# KeyWord\n",
    "def key_args(name,age):\n",
    "    print(name)\n",
    "    print(age+12)\n",
    "\n",
    "key_args(age=213,name=\"abc\")"
   ]
  },
  {
   "cell_type": "code",
   "execution_count": null,
   "metadata": {},
   "outputs": [
    {
     "name": "stdout",
     "output_type": "stream",
     "text": [
      "abc 25\n"
     ]
    },
    {
     "ename": "TypeError",
     "evalue": "default_args() missing 1 required positional argument: 'age'",
     "output_type": "error",
     "traceback": [
      "\u001b[1;31m---------------------------------------------------------------------------\u001b[0m",
      "\u001b[1;31mTypeError\u001b[0m                                 Traceback (most recent call last)",
      "Cell \u001b[1;32mIn[18], line 7\u001b[0m\n\u001b[0;32m      4\u001b[0m     \u001b[39mprint\u001b[39m(name,age\u001b[39m+\u001b[39m\u001b[39m2\u001b[39m)\n\u001b[0;32m      6\u001b[0m default_args(\u001b[39m\"\u001b[39m\u001b[39mabc\u001b[39m\u001b[39m\"\u001b[39m,\u001b[39m23\u001b[39m)\n\u001b[1;32m----> 7\u001b[0m default_args(\u001b[39m\"\u001b[39;49m\u001b[39mhfg\u001b[39;49m\u001b[39m\"\u001b[39;49m)\n",
      "\u001b[1;31mTypeError\u001b[0m: default_args() missing 1 required positional argument: 'age'"
     ]
    }
   ],
   "source": [
    "# Default args\n",
    "\n",
    "def default_args(name,age):\n",
    "    print(name,age+2)\n",
    "\n",
    "default_args(\"abc\",23)\n",
    "default_args(\"hfg\")"
   ]
  },
  {
   "attachments": {},
   "cell_type": "markdown",
   "metadata": {},
   "source": [
    "In some time we dont need to give all the data as args if there is no args take it as  default "
   ]
  },
  {
   "cell_type": "code",
   "execution_count": null,
   "metadata": {},
   "outputs": [
    {
     "name": "stdout",
     "output_type": "stream",
     "text": [
      "abc 25\n",
      "hfg 2\n"
     ]
    }
   ],
   "source": [
    "# Default args\n",
    "\n",
    "def default_args(name,age=0):\n",
    "    print(name,age+2)\n",
    "\n",
    "default_args(\"abc\",23)\n",
    "default_args(\"hfg\")"
   ]
  },
  {
   "attachments": {},
   "cell_type": "markdown",
   "metadata": {},
   "source": [
    "Variable-Length Arguments:\n",
    "    *args  in this type the args are taken as tuple \n",
    "    **kwargs"
   ]
  },
  {
   "cell_type": "code",
   "execution_count": null,
   "metadata": {},
   "outputs": [
    {
     "name": "stdout",
     "output_type": "stream",
     "text": [
      "<class 'tuple'>\n",
      "15\n"
     ]
    }
   ],
   "source": [
    "# Variable-Length Arguments:\n",
    "# *args\n",
    "\n",
    "def var_args(a,*args):\n",
    "#    add all the element and return\n",
    "    print(type(args))\n",
    "    for i in args:\n",
    "        a=a+i\n",
    "    \n",
    "    print(a)\n",
    "    # return\n",
    "\n",
    "var_args(1,2,3,4,5)"
   ]
  },
  {
   "attachments": {},
   "cell_type": "markdown",
   "metadata": {},
   "source": [
    "The special `syntax **kwargs in function definitions in Python` is used to pass a keyworded, variable-length argument list. We use the name kwargs with the double star. The reason is that the double star allows us to pass through keyword arguments (and any number of them)."
   ]
  },
  {
   "cell_type": "code",
   "execution_count": null,
   "metadata": {},
   "outputs": [
    {
     "name": "stdout",
     "output_type": "stream",
     "text": [
      "{'name': 'jhgdh', 'age': 65}\n"
     ]
    }
   ],
   "source": [
    "\n",
    "kkwargs(name=\"jhgdh\",age=65)\n",
    "\n",
    "def kkwargs(**kwargs):\n",
    "    print(kwargs)\n",
    "\n",
    "# it store it like a dict key & value"
   ]
  },
  {
   "cell_type": "code",
   "execution_count": null,
   "metadata": {},
   "outputs": [
    {
     "name": "stdout",
     "output_type": "stream",
     "text": [
      "<class 'builtin_function_or_method'>\n",
      "name : Alice\n",
      "<class 'builtin_function_or_method'>\n",
      "age : 30\n",
      "<class 'builtin_function_or_method'>\n",
      "city : New York\n"
     ]
    }
   ],
   "source": [
    "def greet(**kwargs):\n",
    "    for key, value in kwargs.items():\n",
    "       \n",
    "       print(key, \":\", value)\n",
    "\n",
    "# Call the function with keyword arguments\n",
    "greet(name=\"Alice\", age=30, city=\"New York\")"
   ]
  },
  {
   "cell_type": "code",
   "execution_count": null,
   "metadata": {},
   "outputs": [
    {
     "name": "stdout",
     "output_type": "stream",
     "text": [
      "name gdd\n",
      "age 23\n",
      "locations nxc\n"
     ]
    }
   ],
   "source": [
    "\n",
    "\n",
    "def key_value(**kwargs):\n",
    "    for key,value in  kwargs.items():\n",
    "        print(key,value)\n",
    "\n",
    "\n",
    "key_value(name=\"gdd\",age=23,locations=\"nxc\")"
   ]
  },
  {
   "attachments": {},
   "cell_type": "markdown",
   "metadata": {},
   "source": [
    "for key, value in kwargs.items():\n",
    "        print(key, \":\", value)"
   ]
  },
  {
   "cell_type": "code",
   "execution_count": null,
   "metadata": {},
   "outputs": [
    {
     "name": "stdout",
     "output_type": "stream",
     "text": [
      "12 asd\n",
      "new york india\n",
      "key_name dfsfdsf\n",
      "value_name 2156\n"
     ]
    }
   ],
   "source": [
    "# *ags & **kwargs\n",
    "def mult_args(p_age,p_name,*args_city,**kwargs):\n",
    "    print(p_age,p_name)\n",
    "    print(*args_city)\n",
    "    for key,value in kwargs.items():\n",
    "        print(key,value)\n",
    "\n",
    "mult_args(12,\"asd\",\"new york\",\"india\",key_name=\"dfsfdsf\",value_name=2156)\n"
   ]
  },
  {
   "attachments": {},
   "cell_type": "markdown",
   "metadata": {},
   "source": [
    "Given an integer array arr of size n, you need to sum the elements of arr.\n",
    "\n",
    "Example 1:\n",
    "\n",
    "Input:\n",
    "n = 3\n",
    "arr[] = {3 2 1}\n",
    "Output: 6\n",
    "Example 2:\n",
    "\n",
    "Input:\n",
    "n = 4\n",
    "arr[] = {1 2 3 4}\n",
    "Output: 10"
   ]
  },
  {
   "cell_type": "code",
   "execution_count": 4,
   "metadata": {},
   "outputs": [
    {
     "data": {
      "text/plain": [
       "dict"
      ]
     },
     "execution_count": 4,
     "metadata": {},
     "output_type": "execute_result"
    }
   ],
   "source": [
    "def fun(**kwargs):\n",
    "    return kwargs\n",
    "type(fun(name=\"Antony\", age=25))"
   ]
  }
 ],
 "metadata": {
  "kernelspec": {
   "display_name": "env",
   "language": "python",
   "name": "python3"
  },
  "language_info": {
   "codemirror_mode": {
    "name": "ipython",
    "version": 3
   },
   "file_extension": ".py",
   "mimetype": "text/x-python",
   "name": "python",
   "nbconvert_exporter": "python",
   "pygments_lexer": "ipython3",
   "version": "3.10.6"
  },
  "orig_nbformat": 4
 },
 "nbformat": 4,
 "nbformat_minor": 2
}
