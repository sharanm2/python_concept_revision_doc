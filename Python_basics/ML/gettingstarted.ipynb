{
 "cells": [
  {
   "attachments": {},
   "cell_type": "markdown",
   "metadata": {},
   "source": [
    "## ` Machine Learning`\n",
    "\n",
    "Machine Learning is making the computer `learn from studying data and statistics.`\n",
    "\n",
    "Machine Learning is a` step into the direction of artificial intelligence (AI).`\n",
    "\n",
    "Machine Learning is a program that `analyses data and learns to predict the outcome`."
   ]
  },
  {
   "attachments": {},
   "cell_type": "markdown",
   "metadata": {},
   "source": [
    "And we will learn `how to make functions that are able to predict the outcome based on what we have learned`."
   ]
  },
  {
   "attachments": {},
   "cell_type": "markdown",
   "metadata": {},
   "source": [
    "## `Data Set`\n",
    "In the mind of a `computer, a data set is any collection of data`. It can be anything from an array to a complete database.\n",
    "\n",
    "Example of an array:\n",
    "\n",
    "[99,86,87,88,111,86,103,87,94,78,77,85,86]"
   ]
  },
  {
   "attachments": {},
   "cell_type": "markdown",
   "metadata": {},
   "source": [
    "<table class=\"ws-table-all\">\n",
    "<tbody><tr>\n",
    "<td>Carname</td><td>Color</td><td class=\"auto-style1\">Age</td><td class=\"auto-style1\">Speed</td><td class=\"auto-style2\">AutoPass</td>\n",
    "</tr>\n",
    "  <tr>\n",
    "<td>BMW</td><td>red</td><td class=\"auto-style1\">5</td><td class=\"auto-style1\">99</td><td class=\"auto-style2\">Y</td>\n",
    "  </tr>\n",
    "  <tr>\n",
    "<td>Volvo</td><td>black</td><td class=\"auto-style1\">7</td><td class=\"auto-style1\">86</td><td class=\"auto-style2\">Y</td>\n",
    "  </tr>\n",
    "  <tr>\n",
    "<td>VW</td><td>gray</td><td class=\"auto-style1\">8</td><td class=\"auto-style1\">87</td><td class=\"auto-style2\">N</td>\n",
    "  </tr>\n",
    "  <tr>\n",
    "<td>VW</td><td>white</td><td class=\"auto-style1\">7</td><td class=\"auto-style1\">88</td><td class=\"auto-style2\">Y</td>\n",
    "  </tr>\n",
    "  <tr>\n",
    "<td>Ford</td><td>white</td><td class=\"auto-style1\">2</td><td class=\"auto-style1\">111</td><td class=\"auto-style2\">Y</td>\n",
    "  </tr>\n",
    "  <tr>\n",
    "<td>VW</td><td>white</td><td class=\"auto-style1\">17</td><td class=\"auto-style1\">86</td><td class=\"auto-style2\">Y</td>\n",
    "  </tr>\n",
    "  <tr>\n",
    "<td>Tesla</td><td>red</td><td class=\"auto-style1\">2</td><td class=\"auto-style1\">103</td><td class=\"auto-style2\">Y</td>\n",
    "  </tr>\n",
    "  <tr>\n",
    "<td>BMW</td><td>black</td><td class=\"auto-style1\">9</td><td class=\"auto-style1\">87</td><td class=\"auto-style2\">Y</td>\n",
    "  </tr>\n",
    "  <tr>\n",
    "<td>Volvo</td><td>gray</td><td class=\"auto-style1\">4</td><td class=\"auto-style1\">94</td><td class=\"auto-style2\">N</td>\n",
    "  </tr>\n",
    "  <tr>\n",
    "<td>Ford</td><td>white</td><td class=\"auto-style1\">11</td><td class=\"auto-style1\">78</td><td class=\"auto-style2\">N</td>\n",
    "  </tr>\n",
    "  <tr>\n",
    "<td>Toyota</td><td>gray</td><td class=\"auto-style1\">12</td><td class=\"auto-style1\">77</td><td class=\"auto-style2\">N</td>\n",
    "  </tr>\n",
    "  <tr>\n",
    "<td>VW</td><td>white</td><td class=\"auto-style1\">9</td><td class=\"auto-style1\">85</td><td class=\"auto-style2\">N</td>\n",
    "  </tr>\n",
    "  <tr>\n",
    "<td>Toyota</td><td>blue</td><td class=\"auto-style1\">6</td><td class=\"auto-style1\">86</td><td class=\"auto-style2\">Y</td>\n",
    "  </tr>\n",
    "</tbody></table>"
   ]
  },
  {
   "attachments": {},
   "cell_type": "markdown",
   "metadata": {},
   "source": [
    "By looking at the array, we can guess that the `average value is probably around 80 or 90`, and we are also able to `determine the highest value and the lowest value,` but what else can we do?\n",
    "\n",
    "\n",
    "And by looking at the database we can see that the` most popular color is white`, and `the oldest car is 17 years`\n",
    "\n",
    "`But what if we could predict if a car had an AutoPass, just by looking at the other values?`\n",
    "\n",
    "That is what `Machine Learning is for! Analyzing data and predicting the outcome`!"
   ]
  },
  {
   "attachments": {},
   "cell_type": "markdown",
   "metadata": {},
   "source": []
  },
  {
   "attachments": {},
   "cell_type": "markdown",
   "metadata": {},
   "source": [
    "## `Data Types`\n",
    "\n",
    "\n",
    "To analyze data, it is important to know what type of data we are dealing with.\n",
    "\n",
    "We can split the data types into three main categories:\n",
    "\n",
    " ###  ` Numerical`\n",
    " ###  ` Categorical`\n",
    " ###  ` Ordinal`"
   ]
  },
  {
   "attachments": {},
   "cell_type": "markdown",
   "metadata": {},
   "source": [
    "###  ` Numerical`\n",
    "\n",
    "Numerical data :  This type of data consists of numbers and can be further divided into two types \n",
    "\n",
    "continuous and discrete.\n",
    "\n",
    "->`continuous`\n",
    "\n",
    "    Continuous numerical data refers to data that can take any value within a `certain range`. \n",
    "    \n",
    "    "
   ]
  },
  {
   "attachments": {},
   "cell_type": "markdown",
   "metadata": {},
   "source": [
    "For example :\n",
    "    `the height of a person can be any value between a certain minimum and maximum value`, and it can be measured to a high degree of precision. `Other examples of continuous numerical data include temperature, weight, and time`.\n",
    "\n",
    "    Any value between a certain minimum and maximum value\n",
    "\n",
    "    * continuous numerical data include temperature, weight, and time"
   ]
  },
  {
   "attachments": {},
   "cell_type": "markdown",
   "metadata": {},
   "source": [
    "Discrete numerical data refers to data that `can only take on specific values, usually in whole numbers`\n",
    "\n",
    "\n",
    "Usually in whole numbers.\n",
    " -> For example, `the number of children in a family can only be a whole number`, and `it can't take on fractional values`.\n",
    "\n",
    " \n",
    " ->   Other examples of discrete numerical data include the number of pets, `the number of bedrooms in a house`, and the number of students in a class."
   ]
  },
  {
   "attachments": {},
   "cell_type": "markdown",
   "metadata": {},
   "source": [
    " ###  ` Categorical`\n",
    "        Categorical data are values that cannot be measured up against each other. Example: a color value, or any yes/no values.\n",
    "\n",
    "Categorical data can be further divided into two subtypes: `nominal and ordinal`\n",
    "\n",
    "`Nominal categorical`\n",
    "\n",
    "\n",
    "        Nominal categorical data consists of categories that have no natural ordering or ranking, such as colors or types of fruit. For example, in a dataset of fruits, the category could be \"apple,\" \"banana,\" \"orange,\" etc.\n",
    "\n",
    "` ordinal`\n",
    "\n",
    "\n",
    "\n",
    "        Ordinal categorical data, on the other hand, consists of categories that have a natural ordering or ranking, such as ratings or levels of education. For example, in a dataset of education levels, the categories could be \"high school,\" \"associate's degree,\" \"bachelor's degree,\" \"master's degree,\" \"doctorate degree,\" etc."
   ]
  },
  {
   "attachments": {},
   "cell_type": "markdown",
   "metadata": {},
   "source": []
  },
  {
   "attachments": {},
   "cell_type": "markdown",
   "metadata": {},
   "source": [
    "Machine Learning \n",
    "\n",
    "     `Mean`\n",
    "     ` Median`\n",
    "     ` Mode`"
   ]
  },
  {
   "attachments": {},
   "cell_type": "markdown",
   "metadata": {},
   "source": [
    "What can we learn from looking at a group of numbers?\n",
    "\n",
    "In Machine Learning (and in mathematics) there are often three values that interests us:\n",
    "\n",
    "Mean - The average value\n",
    "\n",
    "\n",
    "Median - The mid point value\n",
    "\n",
    "\n",
    "Mode - The most common value"
   ]
  },
  {
   "attachments": {},
   "cell_type": "markdown",
   "metadata": {},
   "source": [
    "speed = [99,86,87,88,111,86,103,87,94,78,77,85,86]\n",
    "\n",
    "What is the average, the middle, or the most common speed value?\n",
    "\n",
    "Mean\n",
    "\n",
    "\n",
    "The mean value is the average value.\n",
    "\n",
    "\n",
    "To calculate the mean, find the sum of all values, and divide the sum by the number of values:"
   ]
  },
  {
   "cell_type": "code",
   "execution_count": 2,
   "metadata": {},
   "outputs": [
    {
     "data": {
      "text/plain": [
       "89.76923076923077"
      ]
     },
     "execution_count": 2,
     "metadata": {},
     "output_type": "execute_result"
    }
   ],
   "source": [
    "import numpy as np\n",
    "# find the average of the speed  of the CAR  using mean() method\n",
    "\n",
    "speed = [99,86,87,88,111,86,103,87,94,78,77,85,86]\n",
    "\n",
    "mean_average = np.mean(speed)\n",
    "mean_average"
   ]
  },
  {
   "cell_type": "code",
   "execution_count": 4,
   "metadata": {},
   "outputs": [
    {
     "data": {
      "text/plain": [
       "86.5"
      ]
     },
     "execution_count": 4,
     "metadata": {},
     "output_type": "execute_result"
    }
   ],
   "source": [
    "import numpy as np\n",
    "\n",
    "# find the average of the speed  of the CAR  using median() method\n",
    "\n",
    "speed = [99,86,87,88,111,86,103,87,94,78,77,85,86,45]\n",
    "\n",
    "median=np.median(speed)\n",
    "median"
   ]
  },
  {
   "cell_type": "code",
   "execution_count": 3,
   "metadata": {},
   "outputs": [
    {
     "name": "stderr",
     "output_type": "stream",
     "text": [
      "C:\\Users\\softsuave\\AppData\\Local\\Temp\\ipykernel_13296\\3837072873.py:12: FutureWarning: Unlike other reduction functions (e.g. `skew`, `kurtosis`), the default behavior of `mode` typically preserves the axis it acts along. In SciPy 1.11.0, this behavior will change: the default value of `keepdims` will become False, the `axis` over which the statistic is taken will be eliminated, and the value None will no longer be accepted. Set `keepdims` to True or False to avoid this warning.\n",
      "  x = stats.mode(speed)\n"
     ]
    },
    {
     "data": {
      "text/plain": [
       "ModeResult(mode=array([86]), count=array([3]))"
      ]
     },
     "execution_count": 3,
     "metadata": {},
     "output_type": "execute_result"
    }
   ],
   "source": [
    "# Mode\n",
    "# The Mode value is the value that appears the most number of times:\n",
    "\n",
    "\n",
    "\n",
    "\n",
    "import numpy as np\n",
    "from scipy import stats\n",
    "# Use the SciPy mode() method to find the number that appears the most:\n",
    "speed = [99,86,87,88,111,86,103,87,94,78,77,85,86]\n",
    "\n",
    "x = stats.mode(speed)\n"
   ]
  },
  {
   "cell_type": "code",
   "execution_count": 1,
   "metadata": {},
   "outputs": [
    {
     "name": "stdout",
     "output_type": "stream",
     "text": [
      "df\n"
     ]
    }
   ],
   "source": [
    "print(\"df\")"
   ]
  },
  {
   "cell_type": "code",
   "execution_count": 1,
   "metadata": {},
   "outputs": [
    {
     "name": "stdout",
     "output_type": "stream",
     "text": [
      "ModeResult(mode=array([86]), count=array([3]))\n"
     ]
    },
    {
     "name": "stderr",
     "output_type": "stream",
     "text": [
      "C:\\Users\\softsuave\\AppData\\Local\\Temp\\ipykernel_6072\\530579749.py:5: FutureWarning: Unlike other reduction functions (e.g. `skew`, `kurtosis`), the default behavior of `mode` typically preserves the axis it acts along. In SciPy 1.11.0, this behavior will change: the default value of `keepdims` will become False, the `axis` over which the statistic is taken will be eliminated, and the value None will no longer be accepted. Set `keepdims` to True or False to avoid this warning.\n",
      "  x = stats.mode(speed)\n"
     ]
    }
   ],
   "source": [
    "from scipy import stats\n",
    "\n",
    "speed = [99,86,87,88,111,86,103,87,94,78,77,85,86]\n",
    "\n",
    "x = stats.mode(speed)\n",
    "\n",
    "print(x)\n"
   ]
  },
  {
   "attachments": {},
   "cell_type": "markdown",
   "metadata": {},
   "source": [
    "## ` Standard Deviation`\n",
    "\n",
    "What is Standard Deviation?\n",
    "\n",
    "\n",
    "Standard deviation is a number that describes how spread out the values are.\n",
    "\n",
    "A low standard deviation means that most of the numbers are close to the mean (average) value.\n",
    "\n",
    "A high standard deviation means that the values are spread out over a wider range.\n",
    "\n",
    "Example: This time we have registered the speed of 7 cars:"
   ]
  },
  {
   "attachments": {},
   "cell_type": "markdown",
   "metadata": {},
   "source": [
    "The NumPy module has a method to calculate the standard deviation:\n",
    "\n",
    "\n",
    "Use the NumPy std() method to find the standard deviation:\n",
    "\n",
    "\n"
   ]
  },
  {
   "cell_type": "code",
   "execution_count": 4,
   "metadata": {},
   "outputs": [
    {
     "data": {
      "text/plain": [
       "0.9035079029052513"
      ]
     },
     "execution_count": 4,
     "metadata": {},
     "output_type": "execute_result"
    }
   ],
   "source": [
    "import numpy as np\n",
    "\n",
    "\n",
    "speed = [86,87,88,86,87,85,86]\n",
    "\n",
    "x=np.std(speed)\n",
    "x"
   ]
  },
  {
   "attachments": {},
   "cell_type": "markdown",
   "metadata": {},
   "source": [
    "Variance\n",
    "\n",
    "\n",
    "Variance is another number that indicates how spread out the values are.\n",
    "\n",
    "In fact, if you take the square root of the variance, you get the standard deviation!\n",
    "\n",
    "Or the other way around, if you multiply the standard deviation by itself, you get the variance!\n",
    "\n",
    "To calculate the variance you have to do as follows:\n",
    "\n",
    "1. Find the mean:\n",
    "\n",
    "(32+111+138+28+59+77+97) / 7 = 77.4\n",
    "\n",
    "\n",
    "\n",
    "2. For each value: find the difference from the mean:\n",
    "\n",
    " 32 - 77.4 = -45.4\n",
    "111 - 77.4 =  33.6\n",
    "138 - 77.4 =  60.6\n",
    " 28 - 77.4 = -49.4\n",
    " 59 - 77.4 = -18.4\n",
    " 77 - 77.4 = - 0.4\n",
    " 97 - 77.4 =  19.6\n",
    "\n",
    "\n",
    "\n",
    "3. For each difference: find the square value:\n",
    "\n",
    "(-45.4)2 = 2061.16\n",
    " (33.6)2 = 1128.96\n",
    " (60.6)2 = 3672.36\n",
    "(-49.4)2 = 2440.36\n",
    "(-18.4)2 =  338.56\n",
    "(- 0.4)2 =    0.16\n",
    " (19.6)2 =  384.16\n",
    "\n",
    "\n",
    "4. The variance is the average number of these squared differences:\n",
    "\n",
    "\n",
    "\n",
    "(2061.16+1128.96+3672.36+2440.36+338.56+0.16+384.16) / 7 = 1432.2\n",
    "Luckily, NumPy has a method to calculate the variance:"
   ]
  },
  {
   "cell_type": "code",
   "execution_count": 6,
   "metadata": {},
   "outputs": [
    {
     "data": {
      "text/plain": [
       "0.8163265306122449"
      ]
     },
     "execution_count": 6,
     "metadata": {},
     "output_type": "execute_result"
    }
   ],
   "source": [
    "import numpy as np\n",
    "speed = [86,87,88,86,87,85,86]\n",
    "x=np.var(speed)\n",
    "x"
   ]
  },
  {
   "attachments": {},
   "cell_type": "markdown",
   "metadata": {},
   "source": [
    "## `Percentiles`\n",
    "\n",
    "What are Percentiles?\n",
    "\n",
    "\n",
    "Percentiles are used in statistics to give you a number that describes the value that a given percent of the values are lower than.\n",
    "\n",
    "Example: Let's say we have an array of the ages of all the people that live in a street.\n",
    "\n",
    "`Percentiles is nothing but is a percentage of the value`"
   ]
  },
  {
   "cell_type": "code",
   "execution_count": 8,
   "metadata": {},
   "outputs": [
    {
     "data": {
      "text/plain": [
       "43.0"
      ]
     },
     "execution_count": 8,
     "metadata": {},
     "output_type": "execute_result"
    }
   ],
   "source": [
    "import numpy as np \n",
    "\n",
    "# it takes two arguments one is the variable another is what percentage you need % \n",
    "\n",
    "\n",
    "ages = [5,31,43,48,50,41,7,11,15,39,80,82,32,2,8,6,25,36,27,61,31]\n",
    "\n",
    "percentage =np.percentile(ages,75)\n",
    "percentage"
   ]
  },
  {
   "attachments": {},
   "cell_type": "markdown",
   "metadata": {},
   "source": [
    "`Data Distribution`\n",
    "\n",
    "\n",
    "Earlier in this tutorial we have worked with very small amounts of data in our examples, just to understand the different concepts.\n",
    "\n",
    "In the real world, the data sets are much bigger, but it can be difficult to gather real world data, at least at an early stage of a project.\n",
    "\n",
    "How Can we Get Big Data Sets?\n",
    "To create big data sets for testing, we use the Python module NumPy, which comes with a number of methods to create random data sets, of any size."
   ]
  },
  {
   "cell_type": "code",
   "execution_count": 9,
   "metadata": {},
   "outputs": [
    {
     "data": {
      "text/plain": [
       "array([79, 75, 87, 84, 18, 75, 58, 14, 66, 99, 50, 77, 31, 44, 77, 20, 38,\n",
       "       41, 26, 77, 25, 49, 55, 53, 43, 37, 36,  1, 62, 15, 36, 36, 15, 55,\n",
       "       41, 31,  6,  6, 59, 25, 82, 37,  1, 49, 77, 50, 18, 52, 13, 55, 31,\n",
       "       80, 68, 83, 37, 97, 57, 45, 26, 77, 68, 82, 76, 67, 10, 85, 64, 23,\n",
       "       43, 90, 53, 82, 94, 97, 81, 55, 48, 18, 32, 26,  5, 95, 53, 98, 12,\n",
       "        9, 20, 57, 60, 60, 88, 46, 99, 51, 79, 79, 62, 62, 76, 65])"
      ]
     },
     "execution_count": 9,
     "metadata": {},
     "output_type": "execute_result"
    }
   ],
   "source": [
    "import numpy as np \n",
    "\n",
    "x=np.random.randint(0,100,100)\n",
    "x"
   ]
  },
  {
   "cell_type": "code",
   "execution_count": 12,
   "metadata": {},
   "outputs": [
    {
     "data": {
      "text/plain": [
       "(array([ 7., 10.,  6., 11., 10., 15., 11., 12., 10.,  8.]),\n",
       " array([ 1. , 10.8, 20.6, 30.4, 40.2, 50. , 59.8, 69.6, 79.4, 89.2, 99. ]),\n",
       " <BarContainer object of 10 artists>)"
      ]
     },
     "execution_count": 12,
     "metadata": {},
     "output_type": "execute_result"
    },
    {
     "data": {
      "image/png": "[encoded data removed]",
      "text/plain": [
       "<Figure size 640x480 with 1 Axes>"
      ]
     },
     "metadata": {},
     "output_type": "display_data"
    }
   ],
   "source": [
    "# random value are cretaed \n",
    "\n",
    "\n",
    "import matplotlib.pyplot as plt\n",
    "import numpy as np\n",
    "plt.hist(x,10)  # it store two parameters they are one is variable and another is no of bar to print in the console \n"
   ]
  },
  {
   "attachments": {},
   "cell_type": "markdown",
   "metadata": {},
   "source": [
    "Histogram Explained\n",
    "We use the array from the example above to draw a histogram with 5 bars.\n",
    "\n",
    "The first bar represents how many values in the array are between 0 and 1.\n",
    "\n",
    "The second bar represents how many values are between 1 and 2.\n",
    "\n",
    "Etc.\n",
    "\n",
    "Which gives us this result:\n",
    "\n",
    "52 values are between 0 and 1\n",
    "48 values are between 1 and 2\n",
    "49 values are between 2 and 3\n",
    "51 values are between 3 and 4\n",
    "50 values are between 4 and 5"
   ]
  },
  {
   "attachments": {},
   "cell_type": "markdown",
   "metadata": {},
   "source": [
    "Normal Data Distribution\n",
    "In the previous chapter we learned how to create a completely random array, of a given size, and between two given values.\n",
    "\n",
    "In this chapter we will learn how to create an array where the values are concentrated around a given value.\n",
    "\n",
    "In probability theory this kind of data distribution is known as the normal data distribution, or the Gaussian data distribution, after the mathematician Carl Friedrich Gauss who came up with the formula of this data distribution."
   ]
  },
  {
   "cell_type": "code",
   "execution_count": 5,
   "metadata": {},
   "outputs": [
    {
     "data": {
      "text/plain": [
       "(array([1., 0., 0., 0., 0., 1., 0., 0., 0., 0., 0., 0., 0., 0., 1., 0., 0.,\n",
       "        0., 0., 2., 0., 0., 2., 1., 0., 2., 1., 0., 3., 0., 3., 2., 1., 2.,\n",
       "        1., 0., 0., 1., 3., 3., 1., 2., 4., 4., 1., 1., 2., 1., 2., 1., 1.,\n",
       "        2., 1., 3., 2., 1., 0., 2., 4., 1., 3., 3., 2., 2., 1., 3., 2., 0.,\n",
       "        3., 1., 1., 1., 0., 0., 2., 1., 0., 1., 0., 0., 0., 1., 0., 1., 1.,\n",
       "        0., 0., 0., 2., 0., 1., 0., 0., 0., 1., 0., 0., 0., 0., 1.]),\n",
       " array([-252.97087205, -247.83365526, -242.69643847, -237.55922168,\n",
       "        -232.42200489, -227.2847881 , -222.14757131, -217.01035452,\n",
       "        -211.87313774, -206.73592095, -201.59870416, -196.46148737,\n",
       "        -191.32427058, -186.18705379, -181.049837  , -175.91262021,\n",
       "        -170.77540342, -165.63818663, -160.50096984, -155.36375306,\n",
       "        -150.22653627, -145.08931948, -139.95210269, -134.8148859 ,\n",
       "        -129.67766911, -124.54045232, -119.40323553, -114.26601874,\n",
       "        -109.12880195, -103.99158516,  -98.85436837,  -93.71715159,\n",
       "         -88.5799348 ,  -83.44271801,  -78.30550122,  -73.16828443,\n",
       "         -68.03106764,  -62.89385085,  -57.75663406,  -52.61941727,\n",
       "         -47.48220048,  -42.34498369,  -37.20776691,  -32.07055012,\n",
       "         -26.93333333,  -21.79611654,  -16.65889975,  -11.52168296,\n",
       "          -6.38446617,   -1.24724938,    3.88996741,    9.0271842 ,\n",
       "          14.16440099,   19.30161778,   24.43883456,   29.57605135,\n",
       "          34.71326814,   39.85048493,   44.98770172,   50.12491851,\n",
       "          55.2621353 ,   60.39935209,   65.53656888,   70.67378567,\n",
       "          75.81100246,   80.94821925,   86.08543603,   91.22265282,\n",
       "          96.35986961,  101.4970864 ,  106.63430319,  111.77151998,\n",
       "         116.90873677,  122.04595356,  127.18317035,  132.32038714,\n",
       "         137.45760393,  142.59482071,  147.7320375 ,  152.86925429,\n",
       "         158.00647108,  163.14368787,  168.28090466,  173.41812145,\n",
       "         178.55533824,  183.69255503,  188.82977182,  193.96698861,\n",
       "         199.1042054 ,  204.24142218,  209.37863897,  214.51585576,\n",
       "         219.65307255,  224.79028934,  229.92750613,  235.06472292,\n",
       "         240.20193971,  245.3391565 ,  250.47637329,  255.61359008,\n",
       "         260.75080686]),\n",
       " <BarContainer object of 100 artists>)"
      ]
     },
     "execution_count": 5,
     "metadata": {},
     "output_type": "execute_result"
    },
    {
     "data": {
      "image/png": "[encoded data removed]",
      "text/plain": [
       "<Figure size 640x480 with 1 Axes>"
      ]
     },
     "metadata": {},
     "output_type": "display_data"
    }
   ],
   "source": [
    "import numpy as np\n",
    "import matplotlib.pyplot as plt\n",
    "from numpy import random\n",
    "a=np.random.normal(0,100,100)\n",
    "a\n",
    "plt.hist(a,100)"
   ]
  },
  {
   "attachments": {},
   "cell_type": "markdown",
   "metadata": {},
   "source": [
    "## `Scatter Plot`"
   ]
  },
  {
   "attachments": {},
   "cell_type": "markdown",
   "metadata": {},
   "source": [
    "Matplotlib is a Python library that lets you make deterministic, animated, and engaging visualizations.\n",
    "\n",
    "\n",
    "\n",
    "`It is used to make plots in Python, such as bar charts, scatter plots, pie charts, histograms, line plots, 3-D plots` and many more. The `matplotlib library contains the information about the scatter plot.`"
   ]
  },
  {
   "attachments": {},
   "cell_type": "markdown",
   "metadata": {},
   "source": [
    "\n",
    "A scatter plot is a diagram where each value in the data set is represented by a dot."
   ]
  },
  {
   "cell_type": "code",
   "execution_count": 11,
   "metadata": {},
   "outputs": [
    {
     "data": {
      "text/plain": [
       "<matplotlib.collections.PathCollection at 0x1e740ee4cd0>"
      ]
     },
     "execution_count": 11,
     "metadata": {},
     "output_type": "execute_result"
    },
    {
     "data": {
      "image/png": "[encoded data removed]",
      "text/plain": [
       "<Figure size 640x480 with 1 Axes>"
      ]
     },
     "metadata": {},
     "output_type": "display_data"
    }
   ],
   "source": [
    "import numpy as np \n",
    "import matplotlib.pyplot as plt\n",
    "\n",
    "# a=np.random.randint(0,100,10)\n",
    "# b=np.random.randint(0,100,10)\n",
    "a=[1,2,3]\n",
    "b=[1,2,3]\n",
    "plt.scatter(a,b)\n"
   ]
  },
  {
   "attachments": {},
   "cell_type": "markdown",
   "metadata": {},
   "source": [
    "`it's just plot the thing that like a as x axis and b as y axis`\n"
   ]
  },
  {
   "cell_type": "code",
   "execution_count": 12,
   "metadata": {},
   "outputs": [
    {
     "data": {
      "text/plain": [
       "<matplotlib.collections.PathCollection at 0x1e740f69840>"
      ]
     },
     "execution_count": 12,
     "metadata": {},
     "output_type": "execute_result"
    },
    {
     "data": {
      "image/png": "[encoded data removed]",
      "text/plain": [
       "<Figure size 640x480 with 1 Axes>"
      ]
     },
     "metadata": {},
     "output_type": "display_data"
    }
   ],
   "source": [
    "import numpy as np \n",
    "import matplotlib.pyplot as plt\n",
    "\n",
    "a=np.random.randint(0,100,10)\n",
    "b=np.random.randint(0,100,10)\n",
    "\n",
    "plt.scatter(a,b)"
   ]
  }
 ],
 "metadata": {
  "kernelspec": {
   "display_name": "env",
   "language": "python",
   "name": "python3"
  },
  "language_info": {
   "codemirror_mode": {
    "name": "ipython",
    "version": 3
   },
   "file_extension": ".py",
   "mimetype": "text/x-python",
   "name": "python",
   "nbconvert_exporter": "python",
   "pygments_lexer": "ipython3",
   "version": "3.10.6"
  },
  "orig_nbformat": 4
 },
 "nbformat": 4,
 "nbformat_minor": 2
}
