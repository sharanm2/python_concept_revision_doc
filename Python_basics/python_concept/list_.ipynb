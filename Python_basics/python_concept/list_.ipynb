{
 "cells": [
  {
   "attachments": {},
   "cell_type": "markdown",
   "metadata": {},
   "source": [
    "# List\n",
    "In Python, a list is a built-in data structure that represents a collection of ordered, mutable elements. Lists are created using square brackets `[]` and can contain any number of elements, including other lists."
   ]
  },
  {
   "attachments": {},
   "cell_type": "markdown",
   "metadata": {},
   "source": [
    "## Properties"
   ]
  },
  {
   "cell_type": "code",
   "execution_count": null,
   "metadata": {},
   "outputs": [],
   "source": []
  },
  {
   "attachments": {},
   "cell_type": "markdown",
   "metadata": {},
   "source": [
    "## Methods"
   ]
  },
  {
   "cell_type": "code",
   "execution_count": 3,
   "metadata": {},
   "outputs": [],
   "source": [
    "a = [1, 2, 3, 4, 5, 6, 7, 8, 9]"
   ]
  },
  {
   "attachments": {},
   "cell_type": "markdown",
   "metadata": {},
   "source": [
    "**list.append(elmnt)**\n",
    "\n",
    "`elmnt` --> Required. An element of any type (string, number, object etc.)\n",
    "\n",
    "what is append?\n",
    "append used to add a element in the end od the list object.\n",
    "you can add anytype of object `like, int, str, float, bool, list, tuple, set, dict,....ect`"
   ]
  },
  {
   "cell_type": "code",
   "execution_count": 5,
   "metadata": {},
   "outputs": [],
   "source": [
    "a.append(10)\n",
    "a.append('antony')\n",
    "a.append(True)\n",
    "a.append(0.1)\n",
    "a.append([1,2,3])\n",
    "a.append((1,2,3))\n",
    "a.append({1,2,3})\n",
    "a.append({'a':1, 'b':2, 'c':3})\n"
   ]
  },
  {
   "attachments": {},
   "cell_type": "markdown",
   "metadata": {},
   "source": [
    "**extend(iterable)**"
   ]
  },
  {
   "attachments": {},
   "cell_type": "markdown",
   "metadata": {},
   "source": [
    "The `extend(iterable)` method in Python's list allows you to append the `items of an iterable (e.g., another list, tuple, or string) to the end of an existing list.` \n",
    "\n",
    "using extend(iterable) we can combile a list with a list or tuple or string "
   ]
  },
  {
   "attachments": {},
   "cell_type": "markdown",
   "metadata": {},
   "source": [
    "\n",
    "`list.extend(iterable)`\n",
    "\n",
    "\n",
    "iterable\tRequired. Any iterable (list, set, tuple, etc.)"
   ]
  },
  {
   "cell_type": "code",
   "execution_count": 15,
   "metadata": {},
   "outputs": [
    {
     "data": {
      "text/plain": [
       "[1, 2, 3, 4, 5, 6, 's', 't', 'r', 'i', 'n', 'g']"
      ]
     },
     "execution_count": 15,
     "metadata": {},
     "output_type": "execute_result"
    }
   ],
   "source": [
    "my_list=[1,2,3]\n",
    "another_list=(4,5,6)\n",
    "my_list.extend(another_list)\n",
    "my_list.extend(\"string\")\n",
    "my_list\n",
    "# print(type(my_list))"
   ]
  },
  {
   "attachments": {},
   "cell_type": "markdown",
   "metadata": {},
   "source": [
    "if you a string as a extend it take a char \n",
    "[1, 2, 3, 4, 5, 6, 's', 't', 'r']\n",
    "the condition is the extends must be a iterable "
   ]
  },
  {
   "attachments": {},
   "cell_type": "markdown",
   "metadata": {},
   "source": [
    "**insert method**\n",
    "The insert(index, item) method in Python's list allows you to insert an item at a specific index in the list.\n",
    "**Syntax**\n",
    "list.insert(pos, elmnt)\n",
    "pos\t  - Required. A number specifying in which position to insert the value\n",
    "elmnt -\tRequired. An element of any type (string, number, object etc.)"
   ]
  },
  {
   "cell_type": "code",
   "execution_count": 9,
   "metadata": {},
   "outputs": [
    {
     "data": {
      "text/plain": [
       "[1, 2, 3, 4, 5, 'new', [1, 3, 4, 5]]"
      ]
     },
     "execution_count": 9,
     "metadata": {},
     "output_type": "execute_result"
    }
   ],
   "source": [
    "normal_list = [1,2,3,5]\n",
    "#insert 4 in between the 3,5\n",
    "normal_list.insert(3,4)\n",
    "normal_list.insert(6,\"new\")\n",
    "and_list=[1,3,4,5]\n",
    "normal_list.insert(6,and_list)\n",
    "normal_list"
   ]
  },
  {
   "attachments": {},
   "cell_type": "markdown",
   "metadata": {},
   "source": [
    "The `remove()` method removes the first occurrence of the element with the specified value\n",
    "\n",
    "`syntax`\n",
    "  list.remove(elmnt)\n",
    "\n",
    "\n",
    "Parameter\t Description\n",
    "elmnt\t  -  Required. Any type (string, number, list etc.) The element you want to remove\n"
   ]
  },
  {
   "cell_type": "code",
   "execution_count": 26,
   "metadata": {},
   "outputs": [
    {
     "data": {
      "text/plain": [
       "[1, 2, 3, 5]"
      ]
     },
     "execution_count": 26,
     "metadata": {},
     "output_type": "execute_result"
    }
   ],
   "source": [
    "\n",
    "new1_list=[1,2,3,4,5]\n",
    "new1_list.remove(4)#you need to pass the element place not the index value\n",
    "new1_list"
   ]
  },
  {
   "attachments": {},
   "cell_type": "markdown",
   "metadata": {},
   "source": [
    "pop(element): Removes and returns the item at the specified index, or the last item if index is not specified."
   ]
  },
  {
   "attachments": {},
   "cell_type": "markdown",
   "metadata": {},
   "source": [
    "`Syntax`\n",
    "list.pop(pos)\n",
    "\n",
    "Parameter\tDescription\n",
    "pos\tOptional. A number specifying the position of the element you want to remove, default value is -1, which returns the last item"
   ]
  },
  {
   "attachments": {},
   "cell_type": "markdown",
   "metadata": {},
   "source": [
    "pop_list = [0,1,2,3,4,5]\n",
    "pop_list.pop(1) # i just pass the index of the element it will remove the content in the indexvalue\n",
    "\n"
   ]
  },
  {
   "cell_type": "code",
   "execution_count": 27,
   "metadata": {},
   "outputs": [
    {
     "data": {
      "text/plain": [
       "[0, 2, 3, 4, 5]"
      ]
     },
     "execution_count": 27,
     "metadata": {},
     "output_type": "execute_result"
    }
   ],
   "source": [
    "pop_list = [0,1,2,3,4,5]\n",
    "pop_list.pop(1) # i just pass the index of the element it will remove the content in the indexvalue\n",
    "pop_list"
   ]
  },
  {
   "attachments": {},
   "cell_type": "markdown",
   "metadata": {},
   "source": [
    "The `index()` method returns the position at the first occurrence of the specified value.\n",
    "`syntax`\n",
    "list.index(elmnt)\n",
    "\n",
    "\n",
    "elmnt  -\tRequired. Any type (string, number, list, etc.). The element to search for"
   ]
  },
  {
   "cell_type": "code",
   "execution_count": 39,
   "metadata": {},
   "outputs": [
    {
     "data": {
      "text/plain": [
       "5"
      ]
     },
     "execution_count": 39,
     "metadata": {},
     "output_type": "execute_result"
    }
   ],
   "source": [
    "index_list =[1,2,3,4,5]\n",
    "add_list =[6,7,8,9]\n",
    "index_list.insert(6,and_list)\n",
    "index_list.index(and_list)\n",
    "#enter the element to find it will return the index value "
   ]
  },
  {
   "attachments": {},
   "cell_type": "markdown",
   "metadata": {},
   "source": [
    "count(item): Returns the number of occurrences of the specified item in the list."
   ]
  },
  {
   "attachments": {},
   "cell_type": "markdown",
   "metadata": {},
   "source": [
    "`Syntax`\n",
    "\n",
    "Parameter\tDescription\n",
    "value\tRequired. Any type (string, number, list, tuple, etc.). The value to search for."
   ]
  },
  {
   "cell_type": "code",
   "execution_count": 48,
   "metadata": {},
   "outputs": [
    {
     "data": {
      "text/plain": [
       "4"
      ]
     },
     "execution_count": 48,
     "metadata": {},
     "output_type": "execute_result"
    }
   ],
   "source": [
    "count_list=(1,2,3,45,2,3,3,3)\n",
    "count_list.count(3)\n",
    "# count_list"
   ]
  },
  {
   "attachments": {},
   "cell_type": "markdown",
   "metadata": {},
   "source": [
    "The `sort()` method sorts the list ascending by default.\n",
    "\n",
    "You can also make a function to decide the sorting criteria(s)."
   ]
  },
  {
   "cell_type": "code",
   "execution_count": 50,
   "metadata": {},
   "outputs": [],
   "source": [
    "sort_list=['zabuza','abc',\"frog\"]\n",
    "sort_list.sort()\n",
    "sort_list"
   ]
  },
  {
   "attachments": {},
   "cell_type": "markdown",
   "metadata": {},
   "source": [
    "defaulty in sort(reverse:false)\n",
    "if youn change this thing to true \n",
    "we can access the reverse sort also "
   ]
  },
  {
   "cell_type": "code",
   "execution_count": 53,
   "metadata": {},
   "outputs": [
    {
     "data": {
      "text/plain": [
       "['zuo', 'you', 'abu']"
      ]
     },
     "execution_count": 53,
     "metadata": {},
     "output_type": "execute_result"
    }
   ],
   "source": [
    "sort_list1=['zuo', 'you', 'abu']\n",
    "sort_list1.sort(reverse=True)#it doesn't return anything\n",
    "sort_list1"
   ]
  },
  {
   "attachments": {},
   "cell_type": "markdown",
   "metadata": {},
   "source": [
    "\n",
    "The `reverse()` method reverses the sorting order of the elements.\n",
    "\n",
    "Syntax\n",
    "\n",
    "list.reverse()\n",
    "\n",
    "\n",
    "`No parameters`"
   ]
  },
  {
   "cell_type": "code",
   "execution_count": 54,
   "metadata": {},
   "outputs": [
    {
     "name": "stdout",
     "output_type": "stream",
     "text": [
      "['cherry', 'banana', 'apple']\n"
     ]
    }
   ],
   "source": [
    "fruits = ['apple', 'banana', 'cherry']\n",
    "\n",
    "fruits.reverse()\n",
    "\n",
    "print(fruits)\n"
   ]
  },
  {
   "attachments": {},
   "cell_type": "markdown",
   "metadata": {},
   "source": [
    "The `copy()` method returns a copy of the specified list.\n",
    "\n",
    "`Syntax`\n",
    "list.copy()\n",
    "\n",
    "\n",
    "Parameter Values\n",
    "No parameters"
   ]
  },
  {
   "cell_type": "code",
   "execution_count": 55,
   "metadata": {},
   "outputs": [
    {
     "data": {
      "text/plain": [
       "[1, 2, 3, 4]"
      ]
     },
     "execution_count": 55,
     "metadata": {},
     "output_type": "execute_result"
    }
   ],
   "source": [
    "copy_list=[1,2,3,4]\n",
    "copied_list=[]\n",
    "copied_list=copy_list.copy()\n",
    "copied_list"
   ]
  },
  {
   "attachments": {},
   "cell_type": "markdown",
   "metadata": {},
   "source": [
    "The `clear()` method removes all the elements from a list.\n",
    "\n",
    "`Syntax`\n",
    "\n",
    "list.clear()\n",
    "\n",
    "Parameter Values\n",
    "No parameters\n",
    "\n"
   ]
  },
  {
   "cell_type": "code",
   "execution_count": 56,
   "metadata": {},
   "outputs": [
    {
     "data": {
      "text/plain": [
       "[]"
      ]
     },
     "execution_count": 56,
     "metadata": {},
     "output_type": "execute_result"
    }
   ],
   "source": [
    "clear_list=[1,2,34,4]\n",
    "clear_list.clear()\n",
    "clear_list"
   ]
  },
  {
   "attachments": {},
   "cell_type": "markdown",
   "metadata": {},
   "source": [
    "The `len()` function returns the number of items in an object.\n",
    "\n",
    "When the object is a string, the len() function returns the number of characters in the string.\n",
    "\n",
    "`Syntax`\n",
    "len(object)\n",
    "Parameter Values\n",
    "Parameter\tDescription\n",
    "object\t  -  Required. An object. Must be a sequence or a collection"
   ]
  },
  {
   "cell_type": "code",
   "execution_count": 57,
   "metadata": {},
   "outputs": [
    {
     "data": {
      "text/plain": [
       "6"
      ]
     },
     "execution_count": 57,
     "metadata": {},
     "output_type": "execute_result"
    }
   ],
   "source": [
    "len_list=[1,3,4,4,4,4]\n",
    "len(len_list)\n"
   ]
  },
  {
   "attachments": {},
   "cell_type": "markdown",
   "metadata": {},
   "source": [
    "`in() methods`"
   ]
  },
  {
   "cell_type": "code",
   "execution_count": 58,
   "metadata": {},
   "outputs": [
    {
     "name": "stdout",
     "output_type": "stream",
     "text": [
      "3 is present in my_list.\n",
      "6 is not present in my_list.\n"
     ]
    }
   ],
   "source": [
    "# Example list\n",
    "my_list = [1, 2, 3, 4, 5]\n",
    "\n",
    "# Checking if a value is present in my_list\n",
    "value = 3\n",
    "if value in my_list:\n",
    "    print(value, \"is present in my_list.\")\n",
    "else:\n",
    "    print(value, \"is not present in my_list.\")\n",
    "\n",
    "# Checking if a value is not present in my_list\n",
    "value = 6\n",
    "if value not in my_list:\n",
    "    print(value, \"is not present in my_list.\")\n",
    "else:\n",
    "    print(value, \"is present in my_list.\")"
   ]
  },
  {
   "attachments": {},
   "cell_type": "markdown",
   "metadata": {},
   "source": [
    "The `index()` method in Python is used to find the index of the first occurrence of a specified value in a list. It returns the index of the first element in the list that matches the given value. Here's an example:"
   ]
  },
  {
   "cell_type": "code",
   "execution_count": 60,
   "metadata": {},
   "outputs": [
    {
     "name": "stdout",
     "output_type": "stream",
     "text": [
      "The index of 50 in my_list is: 4\n"
     ]
    }
   ],
   "source": [
    "my_list = [10, 20, 30, 40, 50]\n",
    "\n",
    "# Finding the index of a value in my_list\n",
    "value = 50\n",
    "index = my_list.index(value)\n",
    "print(\"The index of\", value, \"in my_list is:\", index)"
   ]
  }
 ],
 "metadata": {
  "kernelspec": {
   "display_name": "env",
   "language": "python",
   "name": "python3"
  },
  "language_info": {
   "codemirror_mode": {
    "name": "ipython",
    "version": 3
   },
   "file_extension": ".py",
   "mimetype": "text/x-python",
   "name": "python",
   "nbconvert_exporter": "python",
   "pygments_lexer": "ipython3",
   "version": "3.10.6"
  },
  "orig_nbformat": 4
 },
 "nbformat": 4,
 "nbformat_minor": 2
}
