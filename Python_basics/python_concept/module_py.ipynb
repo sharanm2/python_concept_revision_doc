{
 "cells": [
  {
   "attachments": {},
   "cell_type": "markdown",
   "metadata": {},
   "source": [
    "## What is a Module?\n",
    "Consider a module to be the same as a code library.\n",
    "\n",
    "A file containing a set of functions you want to include in your application.\n",
    "\n",
    "Create a Module\n",
    "To create a module just save the code you want in a file with the file `extension .py`"
   ]
  },
  {
   "cell_type": "code",
   "execution_count": 37,
   "metadata": {},
   "outputs": [
    {
     "name": "stdout",
     "output_type": "stream",
     "text": [
      "Hello, jj\n"
     ]
    }
   ],
   "source": [
    "import mymodule \n",
    "\n",
    "mymodule.greeting(\"jj\")"
   ]
  },
  {
   "attachments": {},
   "cell_type": "markdown",
   "metadata": {},
   "source": [
    "## Note: When using a function from a module, use the syntax: module_name.function_name."
   ]
  },
  {
   "cell_type": "code",
   "execution_count": 1,
   "metadata": {},
   "outputs": [
    {
     "name": "stdout",
     "output_type": "stream",
     "text": [
      "Hello, jj\n",
      "Hello, jj\n",
      "Hello, jj\n",
      "Number: 23\n"
     ]
    }
   ],
   "source": [
    "import mymodule \n",
    "\n",
    "mymodule.greeting3(\"jj\")\n",
    "mymodule.greeting2(\"jj\")\n",
    "mymodule.greeting1(\"jj\")\n",
    "mymodule.fun1('23')"
   ]
  },
  {
   "cell_type": "code",
   "execution_count": 4,
   "metadata": {},
   "outputs": [
    {
     "name": "stdout",
     "output_type": "stream",
     "text": [
      "Number: 23\n"
     ]
    },
    {
     "data": {
      "text/plain": [
       "{'a': 34, 'b': 34}"
      ]
     },
     "execution_count": 4,
     "metadata": {},
     "output_type": "execute_result"
    }
   ],
   "source": [
    "import mymodule \n",
    "\n",
    "mymodule.fun1('23')\n",
    "mymodule.mydict\n",
    "# print(mydict)"
   ]
  },
  {
   "cell_type": "code",
   "execution_count": 5,
   "metadata": {},
   "outputs": [
    {
     "name": "stdout",
     "output_type": "stream",
     "text": [
      "Number: 23\n",
      "34\n"
     ]
    }
   ],
   "source": [
    "import mymodule \n",
    "\n",
    "mymodule.fun1('23')\n",
    "mymodule.mydict\n",
    "a=mymodule.mydict[\"a\"]   # we cant handle this directly so we create a variable and store it in the variable\n",
    "print(a)"
   ]
  }
 ],
 "metadata": {
  "kernelspec": {
   "display_name": "Python 3",
   "language": "python",
   "name": "python3"
  },
  "language_info": {
   "codemirror_mode": {
    "name": "ipython",
    "version": 3
   },
   "file_extension": ".py",
   "mimetype": "text/x-python",
   "name": "python",
   "nbconvert_exporter": "python",
   "pygments_lexer": "ipython3",
   "version": "3.10.6"
  },
  "orig_nbformat": 4
 },
 "nbformat": 4,
 "nbformat_minor": 2
}
