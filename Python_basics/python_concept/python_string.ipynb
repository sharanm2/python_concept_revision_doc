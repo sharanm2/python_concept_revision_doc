{
 "cells": [
  {
   "attachments": {},
   "cell_type": "markdown",
   "metadata": {},
   "source": [
    "# Python Strings\n",
    "\n",
    "Strings\n",
    "`Strings in python are surrounded by either single quotation marks, or double quotation marks`.\n",
    "\n",
    "'hello' is the same as \"hello\".\n",
    "\n"
   ]
  },
  {
   "cell_type": "code",
   "execution_count": 1,
   "metadata": {},
   "outputs": [
    {
     "name": "stdout",
     "output_type": "stream",
     "text": [
      "one two\n"
     ]
    }
   ],
   "source": [
    "\"\"\"Assign String to a Variable\n",
    "Assigning a string to a variable is done with the variable name followed by an equal sign and the string:\"\"\"\n",
    "\n",
    "number=\"one\"\n",
    "Number='two'\n",
    "print(number,Number)"
   ]
  },
  {
   "attachments": {},
   "cell_type": "markdown",
   "metadata": {},
   "source": [
    "`Strings are Arrays`\n",
    "Like many other popular programming languages, strings in Python are arrays of bytes representing unicode characters.\n",
    "\n",
    "However, `Python does not have a character data type, a single character is simply a string with a length of 1`.\n",
    "\n",
    "\n",
    "\n",
    "`Square brackets can be used to access elements of the string.`"
   ]
  },
  {
   "cell_type": "code",
   "execution_count": 2,
   "metadata": {},
   "outputs": [
    {
     "name": "stdout",
     "output_type": "stream",
     "text": [
      "h\n"
     ]
    }
   ],
   "source": [
    "a=\"hello\"\n",
    "print(a[0])"
   ]
  },
  {
   "cell_type": "code",
   "execution_count": 3,
   "metadata": {},
   "outputs": [
    {
     "name": "stdout",
     "output_type": "stream",
     "text": [
      "h\n",
      "e\n",
      "l\n",
      "l\n",
      "o\n"
     ]
    }
   ],
   "source": [
    "# Looping Through a String\n",
    "a=\"hello\"\n",
    "for i in a:\n",
    "    print(i)\n"
   ]
  },
  {
   "attachments": {},
   "cell_type": "markdown",
   "metadata": {},
   "source": [
    "## String Length\n",
    "\n",
    "\n",
    "To get the length of a string, use the len() function.\n",
    "\n",
    "len() return the lenght of the string"
   ]
  },
  {
   "cell_type": "code",
   "execution_count": 5,
   "metadata": {},
   "outputs": [
    {
     "data": {
      "text/plain": [
       "5"
      ]
     },
     "execution_count": 5,
     "metadata": {},
     "output_type": "execute_result"
    }
   ],
   "source": [
    "a=\"hello\"\n",
    "len(a)\n"
   ]
  },
  {
   "attachments": {},
   "cell_type": "markdown",
   "metadata": {},
   "source": [
    "`Check String`\n",
    "\n",
    "\n",
    "To check if a certain phrase or character is present in a string, we can use the keyword in."
   ]
  },
  {
   "cell_type": "code",
   "execution_count": 7,
   "metadata": {},
   "outputs": [
    {
     "name": "stdout",
     "output_type": "stream",
     "text": [
      "True\n"
     ]
    }
   ],
   "source": [
    "txt=\"dcs rwe jnjkvf mjik\"\n",
    "\n",
    "print(\"r\" in  txt)"
   ]
  },
  {
   "cell_type": "code",
   "execution_count": 8,
   "metadata": {},
   "outputs": [
    {
     "name": "stdout",
     "output_type": "stream",
     "text": [
      "false\n"
     ]
    }
   ],
   "source": [
    "# using if \n",
    "txt=\"dcs rwe jnjkvf mjik\"\n",
    "if \"a\" in txt :\n",
    "    print(\"true\")\n",
    "else:\n",
    "    print(\"false\")"
   ]
  },
  {
   "attachments": {},
   "cell_type": "markdown",
   "metadata": {},
   "source": [
    "`Check if NOT`\n",
    "\n",
    "To check if a certain phrase or character is NOT present in a string, we can use the keyword not in."
   ]
  },
  {
   "cell_type": "code",
   "execution_count": 10,
   "metadata": {},
   "outputs": [
    {
     "name": "stdout",
     "output_type": "stream",
     "text": [
      "a is not in the txt \n"
     ]
    }
   ],
   "source": [
    "txt=\"dcs rwe jnjkvf mjik\"\n",
    "if \"a\" not in txt :\n",
    "    print(\"a is not in the txt \")\n",
    "else:\n",
    "    print(\" a is in the txt \")\n"
   ]
  },
  {
   "attachments": {},
   "cell_type": "markdown",
   "metadata": {},
   "source": [
    "`Slicing`\n",
    "You can return a range of characters by using the slice `syntax`.\n",
    "\n",
    "Specify the `start index and the end index, separated by a colon`, to return a part of the string."
   ]
  },
  {
   "cell_type": "code",
   "execution_count": 11,
   "metadata": {},
   "outputs": [
    {
     "data": {
      "text/plain": [
       "'sdfsknjdn'"
      ]
     },
     "execution_count": 11,
     "metadata": {},
     "output_type": "execute_result"
    }
   ],
   "source": [
    "n=\"sdfsknjdn\"\n",
    "n[::]\n",
    "# it returns the all the value from the start index to end of it "
   ]
  },
  {
   "cell_type": "code",
   "execution_count": 13,
   "metadata": {},
   "outputs": [
    {
     "data": {
      "text/plain": [
       "'dfsknjdn'"
      ]
     },
     "execution_count": 13,
     "metadata": {},
     "output_type": "execute_result"
    }
   ],
   "source": [
    "n=\"sdfsknjdn\"\n",
    "n[1::]\n",
    "#its start from the 1 index to last index"
   ]
  },
  {
   "cell_type": "code",
   "execution_count": 14,
   "metadata": {},
   "outputs": [
    {
     "data": {
      "text/plain": [
       "'dfsk'"
      ]
     },
     "execution_count": 14,
     "metadata": {},
     "output_type": "execute_result"
    }
   ],
   "source": [
    "n=\"sdfsknjdn\"\n",
    "n[1:5:]\n",
    "#its start from the 1 index to end-1 index end in exclusive"
   ]
  },
  {
   "cell_type": "code",
   "execution_count": 15,
   "metadata": {},
   "outputs": [
    {
     "data": {
      "text/plain": [
       "'dk'"
      ]
     },
     "execution_count": 15,
     "metadata": {},
     "output_type": "execute_result"
    }
   ],
   "source": [
    "n=\"sdfsknjdn\"\n",
    "n[1:5:3]\n",
    "#it step 3 it pritn the 3rd element of the string\n",
    "\n"
   ]
  },
  {
   "attachments": {},
   "cell_type": "markdown",
   "metadata": {},
   "source": [
    "`Negative Indexing`\n",
    "\n",
    "\n",
    "Use negative indexes to start the slice from the end of the string:"
   ]
  },
  {
   "cell_type": "code",
   "execution_count": 19,
   "metadata": {},
   "outputs": [
    {
     "data": {
      "text/plain": [
       "'654321'"
      ]
     },
     "execution_count": 19,
     "metadata": {},
     "output_type": "execute_result"
    }
   ],
   "source": [
    "n=\"123456\"\n",
    "n[-1:-7:-1]\n"
   ]
  },
  {
   "attachments": {},
   "cell_type": "markdown",
   "metadata": {},
   "source": [
    "## Python - Modify Strings\n",
    "\n",
    "\n",
    "``Python has a set of built-in methods that you can use on strings.``\n",
    "\n",
    "\n",
    "### `Note: All string methods return new values. They do not change the original string.`"
   ]
  },
  {
   "cell_type": "code",
   "execution_count": 23,
   "metadata": {},
   "outputs": [
    {
     "name": "stdout",
     "output_type": "stream",
     "text": [
      "fdsfsdsff,sdvvv\n"
     ]
    }
   ],
   "source": [
    "a=\"fdsfsdsff,sdvvv\"\n",
    "a.upper() #it convert to upper case but not store as upper case \n",
    "print(a)"
   ]
  },
  {
   "cell_type": "code",
   "execution_count": 25,
   "metadata": {},
   "outputs": [
    {
     "name": "stdout",
     "output_type": "stream",
     "text": [
      "OKFKODFJKVO\n"
     ]
    }
   ],
   "source": [
    "a=\"OKFKODFJKVO\"\n",
    "a.lower() #it convert to upper case but not store as upper case #it create a another string and lower the letters but it not replace the original string\n",
    "print(a)"
   ]
  },
  {
   "attachments": {},
   "cell_type": "markdown",
   "metadata": {},
   "source": [
    "`Remove Whitespace`\n",
    "Whitespace is the space before and/or after the actual text, and very often you want to remove this space.\n",
    "\n",
    "\n",
    "## `The strip() method removes any whitespace from the beginning or the end:`\n"
   ]
  },
  {
   "cell_type": "code",
   "execution_count": 27,
   "metadata": {},
   "outputs": [
    {
     "name": "stdout",
     "output_type": "stream",
     "text": [
      "['OKFKODFJKVO']\n"
     ]
    }
   ],
   "source": [
    "a=\"OKFKODFJKVO\"\n",
    "print(a.split())"
   ]
  },
  {
   "attachments": {},
   "cell_type": "markdown",
   "metadata": {},
   "source": [
    "`Replace String`\n",
    "\n",
    "The replace() method replaces a string with another string:\n",
    "\n"
   ]
  },
  {
   "cell_type": "code",
   "execution_count": 30,
   "metadata": {},
   "outputs": [
    {
     "data": {
      "text/plain": [
       "'sdfgdfgg'"
      ]
     },
     "execution_count": 30,
     "metadata": {},
     "output_type": "execute_result"
    }
   ],
   "source": [
    "txt=\"sdfgdfgg\"\n",
    "txt.replace('g','i')#it create a another string and replace the g instances of i but it not replace the original string\n",
    "txt"
   ]
  },
  {
   "attachments": {},
   "cell_type": "markdown",
   "metadata": {},
   "source": [
    "`split String`\n",
    "\n",
    "\n",
    "The split() method returns a list where the text between the specified separator becomes the list items.\n",
    "\n",
    "\n"
   ]
  },
  {
   "cell_type": "code",
   "execution_count": 38,
   "metadata": {},
   "outputs": [
    {
     "name": "stdout",
     "output_type": "stream",
     "text": [
      "['Hello,World!']\n"
     ]
    }
   ],
   "source": [
    "a = \"Hello,World!\"\n",
    "print(a.split()) # returns ['Hello', ' World!']"
   ]
  },
  {
   "attachments": {},
   "cell_type": "markdown",
   "metadata": {},
   "source": [
    "## String Concatenation\n",
    "\n",
    "\n",
    "To concatenate, or combine, two strings you can use the + operator."
   ]
  },
  {
   "cell_type": "code",
   "execution_count": 42,
   "metadata": {},
   "outputs": [
    {
     "name": "stdout",
     "output_type": "stream",
     "text": [
      "sdfsdfsdf   654545\n"
     ]
    }
   ],
   "source": [
    "a='sdfsdfsdf'\n",
    "b=\"654545\"\n",
    "c=a+b\n",
    "# c\n",
    "\n",
    "print(a+\"   \"+b)\n"
   ]
  },
  {
   "attachments": {},
   "cell_type": "markdown",
   "metadata": {},
   "source": [
    "## String Format\n",
    "As we learned in the Python Variables chapter, we cannot combine strings and numbers like this:"
   ]
  },
  {
   "cell_type": "code",
   "execution_count": 43,
   "metadata": {},
   "outputs": [
    {
     "ename": "TypeError",
     "evalue": "can only concatenate str (not \"int\") to str",
     "output_type": "error",
     "traceback": [
      "\u001b[1;31m---------------------------------------------------------------------------\u001b[0m",
      "\u001b[1;31mTypeError\u001b[0m                                 Traceback (most recent call last)",
      "Cell \u001b[1;32mIn[43], line 2\u001b[0m\n\u001b[0;32m      1\u001b[0m age \u001b[39m=\u001b[39m \u001b[39m36\u001b[39m\n\u001b[1;32m----> 2\u001b[0m txt \u001b[39m=\u001b[39m \u001b[39m\"\u001b[39;49m\u001b[39mMy name is John, I am \u001b[39;49m\u001b[39m\"\u001b[39;49m \u001b[39m+\u001b[39;49m age\n\u001b[0;32m      3\u001b[0m \u001b[39mprint\u001b[39m(txt)\n",
      "\u001b[1;31mTypeError\u001b[0m: can only concatenate str (not \"int\") to str"
     ]
    }
   ],
   "source": [
    "age = 36\n",
    "txt = \"My name is John, I am \" + age\n",
    "print(txt)"
   ]
  },
  {
   "attachments": {},
   "cell_type": "markdown",
   "metadata": {},
   "source": [
    "`But we can combine strings and numbers by using the format() method`!\n",
    "\n",
    "The format() method takes the passed arguments, formats them, and places them in the string where the placeholders {} are"
   ]
  },
  {
   "cell_type": "code",
   "execution_count": 46,
   "metadata": {},
   "outputs": [
    {
     "name": "stdout",
     "output_type": "stream",
     "text": [
      "My name is John, I am 36 \n",
      "My name is John, I am {} \n"
     ]
    }
   ],
   "source": [
    "age = 36\n",
    "txt = \"My name is John, I am {} \"\n",
    "print(txt.format(age))\n",
    "print(txt)"
   ]
  },
  {
   "cell_type": "code",
   "execution_count": 47,
   "metadata": {},
   "outputs": [
    {
     "name": "stdout",
     "output_type": "stream",
     "text": [
      "sdfsdfsdfsdfdsffsfdsf 23 2323\n"
     ]
    }
   ],
   "source": [
    "name=\"sfdsf\"\n",
    "age=23\n",
    "price=2323\n",
    "txt=\"sdfsdfsdfsdfdsff{} {} {}\"\n",
    "print(txt.format(name,age,price))\n"
   ]
  },
  {
   "cell_type": "code",
   "execution_count": 50,
   "metadata": {},
   "outputs": [
    {
     "name": "stdout",
     "output_type": "stream",
     "text": [
      "sdfsdfsdfsdfdsff 2323 23 sfdsf\n"
     ]
    }
   ],
   "source": [
    "# You can use index numbers {0} to be sure the arguments are placed in the correct placeholders:\n",
    "name=\"sfdsf\"\n",
    "age=23\n",
    "price=2323\n",
    "txt=\"sdfsdfsdfsdfdsff {2} {1} {0}\"\n",
    "print(txt.format(name,age,price))\n"
   ]
  },
  {
   "cell_type": "code",
   "execution_count": 51,
   "metadata": {},
   "outputs": [],
   "source": [
    "txt = \"We are the so-called \\\"Vikings\\\" from the north.\""
   ]
  },
  {
   "attachments": {},
   "cell_type": "markdown",
   "metadata": {},
   "source": [
    "<table class=\"ws-table-all notranslate\">\n",
    "<tbody><tr>\n",
    "  <th width=\"25%\">Code</th>\n",
    "  <th>Result</th>\n",
    "  <th style=\"width:10%\">Try it</th>\n",
    "</tr>\n",
    "<tr>\n",
    "  <td>\\'</td>\n",
    "  <td>Single Quote</td>\n",
    "<td><a target=\"_blank\" class=\"w3-btn btnsmall btnsmall\" href=\"trypython.asp?filename=demo_string_escape2\">Try it »</a></td>\n",
    "</tr>\n",
    "<tr>\n",
    "  <td>\\\\</td>\n",
    "  <td>Backslash</td>\n",
    "<td><a target=\"_blank\" class=\"w3-btn btnsmall btnsmall\" href=\"trypython.asp?filename=demo_string_backslash\">Try it »</a></td>\n",
    "</tr>\n",
    "<tr>\n",
    "  <td>\\n</td>\n",
    "  <td>New Line</td>\n",
    "<td><a target=\"_blank\" class=\"w3-btn btnsmall btnsmall\" href=\"trypython.asp?filename=demo_string_newline\">Try it »</a></td>\n",
    "</tr>\n",
    "<tr>\n",
    "  <td>\\r</td>\n",
    "  <td>Carriage Return</td>\n",
    "<td><a target=\"_blank\" class=\"w3-btn btnsmall btnsmall\" href=\"trypython.asp?filename=demo_string_r\">Try it »</a></td>\n",
    "</tr>\n",
    "<tr>\n",
    "  <td>\\t</td>\n",
    "  <td>Tab</td>\n",
    "<td><a target=\"_blank\" class=\"w3-btn btnsmall btnsmall\" href=\"trypython.asp?filename=demo_string_t\">Try it »</a></td>\n",
    "</tr>\n",
    "<tr>\n",
    "  <td>\\b</td>\n",
    "  <td>Backspace</td>\n",
    "<td><a target=\"_blank\" class=\"w3-btn btnsmall btnsmall\" href=\"showpython.asp?filename=demo_string_b\">Try it »</a></td>\n",
    "</tr>\n",
    "<tr>\n",
    "  <td>\\f</td>\n",
    "  <td>Form Feed</td>\n",
    "<td></td>\n",
    "</tr>\n",
    "<tr>\n",
    "  <td>\\ooo</td>\n",
    "  <td>Octal value</td>\n",
    "<td><a target=\"_blank\" class=\"w3-btn btnsmall btnsmall\" href=\"trypython.asp?filename=demo_string_octal\">Try it »</a></td>\n",
    "</tr>\n",
    "<tr>\n",
    "  <td>\\xhh</td>\n",
    "  <td>Hex value</td>\n",
    "<td><a target=\"_blank\" class=\"w3-btn btnsmall btnsmall\" href=\"trypython.asp?filename=demo_string_hex\">Try it »</a></td>\n",
    "</tr>\n",
    "</tbody></table>"
   ]
  },
  {
   "attachments": {},
   "cell_type": "markdown",
   "metadata": {},
   "source": [
    "## String Methods\n",
    "Python has a set of built-in methods that you can use on strings.\n",
    "\n",
    "`Note: All string methods return new values. They do not change the original string.`"
   ]
  },
  {
   "attachments": {},
   "cell_type": "markdown",
   "metadata": {},
   "source": [
    "<table class=\"ws-table-all notranslate\">\n",
    "<tbody><tr>\n",
    "<th>Method</th>\n",
    "<th>Description</th>\n",
    "</tr>\n",
    "  <tr>\n",
    "    <td><a href=\"ref_string_capitalize.asp\">capitalize()</a></td><td>Converts the first \n",
    "    character to upper case</td>\n",
    "  </tr>\n",
    "  <tr>\n",
    "    <td><a href=\"ref_string_casefold.asp\">casefold()</a></td><td>Converts string into \n",
    "    lower case</td>\n",
    "  </tr>\n",
    "  <tr>\n",
    "    <td><a href=\"ref_string_center.asp\">center()</a></td><td>Returns a centered \n",
    "    string</td>\n",
    "  </tr>\n",
    "  <tr>\n",
    "    <td><a href=\"ref_string_count.asp\">count()</a></td><td>Returns the number of \n",
    "    times a specified value occurs in a string</td>\n",
    "  </tr>\n",
    "  <tr>\n",
    "    <td><a href=\"ref_string_encode.asp\">encode()</a></td><td>Returns an encoded \n",
    "    version of the string</td>\n",
    "  </tr>\n",
    "  <tr>\n",
    "    <td><a href=\"ref_string_endswith.asp\">endswith()</a></td><td>Returns true if the \n",
    "    string ends with the specified value</td>\n",
    "  </tr>\n",
    "  <tr>\n",
    "    <td><a href=\"ref_string_expandtabs.asp\">expandtabs()</a></td><td>Sets the \n",
    "    tab size of the string</td>\n",
    "  </tr>\n",
    "  <tr>\n",
    "    <td><a href=\"ref_string_find.asp\">find()</a></td><td>Searches the string for a \n",
    "    specified value and returns the position of where it was found</td>\n",
    "  </tr>\n",
    "  <tr>\n",
    "    <td><a href=\"ref_string_format.asp\">format()</a></td><td>Formats specified \n",
    "    values in a string</td>\n",
    "  </tr>\n",
    "  <tr>\n",
    "    <td>format_map()</td><td>Formats specified \n",
    "    values in a string</td>\n",
    "  </tr>\n",
    "  <tr>\n",
    "    <td><a href=\"ref_string_index.asp\">index()</a></td><td>Searches the string \n",
    "    for a specified value and returns the position of where it was found</td>\n",
    "  </tr>\n",
    "  <tr>\n",
    "    <td><a href=\"ref_string_isalnum.asp\">isalnum()</a></td><td>Returns True if all \n",
    "    characters in the string are alphanumeric</td>\n",
    "  </tr>\n",
    "  <tr>\n",
    "    <td><a href=\"ref_string_isalpha.asp\">isalpha()</a></td><td>Returns True if all \n",
    "    characters in the string are in the alphabet</td>\n",
    "  </tr>\n",
    "  <tr>\n",
    "    <td><a href=\"ref_string_isdecimal.asp\">isdecimal()</a></td><td>Returns True if all \n",
    "    characters in the string are decimals</td>\n",
    "  </tr>\n",
    "  <tr>\n",
    "    <td><a href=\"ref_string_isdigit.asp\">isdigit()</a></td><td>Returns True if all \n",
    "    characters in the string are digits</td>\n",
    "  </tr>\n",
    "  <tr>\n",
    "    <td><a href=\"ref_string_isidentifier.asp\">isidentifier()</a></td><td>Returns True if \n",
    "    the string is an identifier</td>\n",
    "  </tr>\n",
    "  <tr>\n",
    "    <td><a href=\"ref_string_islower.asp\">islower()</a></td><td>Returns True if all \n",
    "    characters in the string are lower case</td>\n",
    "  </tr>\n",
    "  <tr>\n",
    "    <td><a href=\"ref_string_isnumeric.asp\">isnumeric()</a></td><td>Returns True if \n",
    "    all characters in the string are numeric</td>\n",
    "  </tr>\n",
    "  <tr>\n",
    "    <td><a href=\"ref_string_isprintable.asp\">isprintable()</a></td><td>Returns True if \n",
    "    all characters in the string are printable</td>\n",
    "  </tr>\n",
    "  <tr>\n",
    "    <td><a href=\"ref_string_isspace.asp\">isspace()</a></td><td>Returns True if all \n",
    "    characters in the string are whitespaces</td>\n",
    "  </tr>\n",
    "  <tr>\n",
    "    <td><a href=\"ref_string_istitle.asp\">istitle()</a></td>\n",
    "    <td>Returns True if the string follows the rules of a \n",
    "    title</td>\n",
    "  </tr>\n",
    "  <tr>\n",
    "    <td><a href=\"ref_string_isupper.asp\">isupper()</a></td><td>Returns True if all \n",
    "    characters in the string are upper case</td>\n",
    "  </tr>\n",
    "  <tr>\n",
    "    <td><a href=\"ref_string_join.asp\">join()</a></td><td>Joins the elements of \n",
    "    an iterable to the end of the string</td>\n",
    "  </tr>\n",
    "  <tr>\n",
    "    <td><a href=\"ref_string_ljust.asp\">ljust()</a></td><td>Returns a left justified \n",
    "    version of the string</td>\n",
    "  </tr>\n",
    "  <tr>\n",
    "    <td><a href=\"ref_string_lower.asp\">lower()</a></td><td>Converts a string into \n",
    "    lower case</td>\n",
    "  </tr>\n",
    "  <tr>\n",
    "    <td><a href=\"ref_string_lstrip.asp\">lstrip()</a></td><td>Returns a left trim \n",
    "    version of the string</td>\n",
    "  </tr>\n",
    "  <tr>\n",
    "    <td><a href=\"ref_string_maketrans.asp\">maketrans()</a></td><td>Returns a \n",
    "    translation table to be used in translations</td>\n",
    "  </tr>\n",
    "  <tr>\n",
    "    <td><a href=\"ref_string_partition.asp\">partition()</a></td><td>Returns a tuple \n",
    "    where the string is parted into three parts</td>\n",
    "  </tr>\n",
    "  <tr>\n",
    "    <td><a href=\"ref_string_replace.asp\">replace()</a></td><td>Returns a string \n",
    "    where a specified value is replaced with a specified value</td>\n",
    "  </tr>\n",
    "  <tr>\n",
    "    <td><a href=\"ref_string_rfind.asp\">rfind()</a></td><td>Searches the string for \n",
    "    a specified value and returns the last position of where it was found</td>\n",
    "  </tr>\n",
    "  <tr>\n",
    "    <td><a href=\"ref_string_rindex.asp\">rindex()</a></td><td>Searches the string for \n",
    "    a specified value and returns the last position of where it was found</td>\n",
    "  </tr>\n",
    "  <tr>\n",
    "    <td><a href=\"ref_string_rjust.asp\">rjust()</a></td><td>Returns a right justified \n",
    "    version of the string</td>\n",
    "  </tr>\n",
    "  <tr>\n",
    "    <td><a href=\"ref_string_rpartition.asp\">rpartition()</a></td><td>Returns a tuple \n",
    "    where the string is parted into three parts</td>\n",
    "  </tr>\n",
    "  <tr>\n",
    "    <td><a href=\"ref_string_rsplit.asp\">rsplit()</a></td><td>Splits the string at \n",
    "    the specified separator, and returns a list</td>\n",
    "  </tr>\n",
    "  <tr>\n",
    "    <td><a href=\"ref_string_rstrip.asp\">rstrip()</a></td><td>Returns a right trim \n",
    "    version of the string</td>\n",
    "  </tr>\n",
    "  <tr>\n",
    "    <td><a href=\"ref_string_split.asp\">split()</a></td><td>Splits the string at \n",
    "    the specified separator, and returns a list</td>\n",
    "  </tr>\n",
    "  <tr>\n",
    "    <td><a href=\"ref_string_splitlines.asp\">splitlines()</a></td><td>Splits the string \n",
    "    at line breaks and returns a list</td>\n",
    "  </tr>\n",
    "  <tr>\n",
    "    <td><a href=\"ref_string_startswith.asp\">startswith()</a></td><td>Returns true if \n",
    "    the string starts with the specified value</td>\n",
    "  </tr>\n",
    "  <tr>\n",
    "    <td><a href=\"ref_string_strip.asp\">strip()</a></td><td>Returns a trimmed version of the string</td>\n",
    "  </tr>\n",
    "  <tr>\n",
    "    <td><a href=\"ref_string_swapcase.asp\">swapcase()</a></td><td>Swaps cases, lower \n",
    "    case becomes upper case and vice versa</td>\n",
    "  </tr>\n",
    "  <tr>\n",
    "    <td><a href=\"ref_string_title.asp\">title()</a></td><td>Converts the first \n",
    "    character of each word to upper case</td>\n",
    "  </tr>\n",
    "  <tr>\n",
    "    <td><a href=\"ref_string_translate.asp\">translate()</a></td><td>Returns a \n",
    "    translated string</td>\n",
    "  </tr>\n",
    "  <tr>\n",
    "    <td><a href=\"ref_string_upper.asp\">upper()</a></td><td>Converts a string \n",
    "    into upper case</td>\n",
    "  </tr>\n",
    "<tr><td><a href=\"ref_string_zfill.asp\">zfill()</a></td><td>Fills the string with \n",
    "  a specified number of 0 values at the beginning</td></tr>\n",
    "</tbody></table>"
   ]
  }
 ],
 "metadata": {
  "kernelspec": {
   "display_name": "Python 3",
   "language": "python",
   "name": "python3"
  },
  "language_info": {
   "codemirror_mode": {
    "name": "ipython",
    "version": 3
   },
   "file_extension": ".py",
   "mimetype": "text/x-python",
   "name": "python",
   "nbconvert_exporter": "python",
   "pygments_lexer": "ipython3",
   "version": "3.10.6"
  },
  "orig_nbformat": 4
 },
 "nbformat": 4,
 "nbformat_minor": 2
}
