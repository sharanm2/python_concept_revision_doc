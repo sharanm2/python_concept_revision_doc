{
 "cells": [
  {
   "attachments": {},
   "cell_type": "markdown",
   "metadata": {},
   "source": [
    "**set**\n",
    "In Python, a set is an unordered collection of unique items, enclosed in curly braces {}. Each item in a set must be` immutable  unchangeable, and duplicate items are not allowed`. Sets are commonly used for tasks that require keeping track of unique values or checking membership of items in a collection.\n",
    "\n",
    "But we can add remove the items or elements from a set \n"
   ]
  },
  {
   "attachments": {},
   "cell_type": "markdown",
   "metadata": {},
   "source": [
    "### ``Once a set is created, you cannot change its items, but you can add new items.``"
   ]
  },
  {
   "cell_type": "code",
   "execution_count": 3,
   "metadata": {},
   "outputs": [
    {
     "data": {
      "text/plain": [
       "{1, False, 'str'}"
      ]
     },
     "execution_count": 3,
     "metadata": {},
     "output_type": "execute_result"
    }
   ],
   "source": [
    "set1={1,\"str\",True,False}\n",
    "set1"
   ]
  },
  {
   "attachments": {},
   "cell_type": "markdown",
   "metadata": {},
   "source": [
    "In this above example we are using set set1={1,\"str\",True,False}  output it not printing the true ,why means it cant hold the duplicated values with in it true value=1 ,thats why it doesnt hold the duplicated values"
   ]
  },
  {
   "attachments": {},
   "cell_type": "markdown",
   "metadata": {},
   "source": [
    " set is an `unordered` collection of unique items\n",
    " we cant use the index value ,why means its unordered \n",
    " we cant use the slicing  ,why means its unordered\n",
    "   "
   ]
  },
  {
   "attachments": {},
   "cell_type": "markdown",
   "metadata": {},
   "source": [
    "`Note that sets are unordered collections, so the order of elements in the set may not necessarily match the order in which they were added.`\n",
    "\n",
    "\n",
    "set add()\n",
    "\n",
    "**Syntax**\n",
    "`set.add(elmnt)`\n",
    "\n",
    "Parameter\tDescription\n",
    "elmnt\t -   Required. The element to add to the set\n",
    "\n",
    "`set are use hashtable to store the data`"
   ]
  },
  {
   "cell_type": "code",
   "execution_count": 40,
   "metadata": {},
   "outputs": [
    {
     "name": "stdout",
     "output_type": "stream",
     "text": [
      "<class 'dict'>\n",
      "<class 'set'>\n"
     ]
    },
    {
     "data": {
      "text/plain": [
       "{1, 2, 3, 4, 5, 7, 45}"
      ]
     },
     "execution_count": 40,
     "metadata": {},
     "output_type": "execute_result"
    }
   ],
   "source": [
    "#add a value to the set\n",
    "\n",
    "my_set={}\n",
    "print(type(my_set))\n",
    "my_set={1,2,3,4,5}\n",
    "my_set.add(7)\n",
    "my_set.add(45)\n",
    "print(type(my_set))\n",
    "# my_set.add([98,45]) set we cant add the list why means its mutable \n",
    "my_set"
   ]
  },
  {
   "cell_type": "code",
   "execution_count": 10,
   "metadata": {},
   "outputs": [
    {
     "name": "stdout",
     "output_type": "stream",
     "text": [
      "{'apple', 'cherry'}\n"
     ]
    }
   ],
   "source": [
    "# Remove \"banana\" by using the remove() method:\n",
    "\n",
    "thisset = {\"apple\", \"banana\", \"cherry\"}\n",
    "\n",
    "thisset.remove(\"banana\")\n",
    "\n",
    "print(thisset)"
   ]
  },
  {
   "attachments": {},
   "cell_type": "markdown",
   "metadata": {},
   "source": [
    "in above code banana is there if the element is not found means it will raise an error ,For that purpose python provide a function\n",
    "its `discard()`"
   ]
  },
  {
   "cell_type": "code",
   "execution_count": 11,
   "metadata": {},
   "outputs": [
    {
     "ename": "KeyError",
     "evalue": "'jack fruit'",
     "output_type": "error",
     "traceback": [
      "\u001b[1;31m---------------------------------------------------------------------------\u001b[0m",
      "\u001b[1;31mKeyError\u001b[0m                                  Traceback (most recent call last)",
      "Cell \u001b[1;32mIn[11], line 5\u001b[0m\n\u001b[0;32m      1\u001b[0m \u001b[39m# Remove \"banana\" by using the remove() method:\u001b[39;00m\n\u001b[0;32m      3\u001b[0m thisset \u001b[39m=\u001b[39m {\u001b[39m\"\u001b[39m\u001b[39mapple\u001b[39m\u001b[39m\"\u001b[39m, \u001b[39m\"\u001b[39m\u001b[39mbanana\u001b[39m\u001b[39m\"\u001b[39m, \u001b[39m\"\u001b[39m\u001b[39mcherry\u001b[39m\u001b[39m\"\u001b[39m}\n\u001b[1;32m----> 5\u001b[0m thisset\u001b[39m.\u001b[39;49mremove(\u001b[39m\"\u001b[39;49m\u001b[39mjack fruit\u001b[39;49m\u001b[39m\"\u001b[39;49m)\n\u001b[0;32m      7\u001b[0m \u001b[39mprint\u001b[39m(thisset)\n",
      "\u001b[1;31mKeyError\u001b[0m: 'jack fruit'"
     ]
    }
   ],
   "source": [
    "# Remove \"banana\" by using the remove() method:\n",
    "\n",
    "thisset = {\"apple\", \"banana\", \"cherry\"}\n",
    "\n",
    "thisset.remove(\"jack fruit\")\n",
    "\n",
    "print(thisset)"
   ]
  },
  {
   "cell_type": "code",
   "execution_count": 13,
   "metadata": {},
   "outputs": [
    {
     "name": "stdout",
     "output_type": "stream",
     "text": [
      "None\n",
      "{'banana', 'apple'}\n"
     ]
    }
   ],
   "source": [
    "# Remove \"banana\" by using the remove() method:\n",
    "\n",
    "thisset = {\"apple\", \"banana\", \"cherry\"}\n",
    "\n",
    "thisset.discard(\"cherry\")\n",
    "print(thisset.discard(\"jack fruit\"))#its doesnt retrun anything so the o/p will be none\n",
    "\n",
    "print(thisset)"
   ]
  },
  {
   "cell_type": "code",
   "execution_count": 14,
   "metadata": {},
   "outputs": [
    {
     "data": {
      "text/plain": [
       "{1, 2, 3, 5}"
      ]
     },
     "execution_count": 14,
     "metadata": {},
     "output_type": "execute_result"
    }
   ],
   "source": [
    "#remove\n",
    "my_set2={1,2,3,4,5}\n",
    "my_set2.discard(4)\n",
    "my_set2"
   ]
  },
  {
   "attachments": {},
   "cell_type": "markdown",
   "metadata": {},
   "source": [
    "`pop()`: Removes and returns an arbitrary item from the set.\n",
    "\n",
    "The pop() method `removes a random item from the set`.\n",
    "\n",
    "This method returns the removed item.\n",
    "\n",
    "Syntax\n",
    "`set.pop()`\n",
    "Parameter Values\n",
    "`No parameter values.`"
   ]
  },
  {
   "cell_type": "code",
   "execution_count": 18,
   "metadata": {},
   "outputs": [
    {
     "data": {
      "text/plain": [
       "1"
      ]
     },
     "execution_count": 18,
     "metadata": {},
     "output_type": "execute_result"
    }
   ],
   "source": [
    "pop_set={1,2,3,4,5}\n",
    "pop_set.pop()#it remove the element and return it"
   ]
  },
  {
   "attachments": {},
   "cell_type": "markdown",
   "metadata": {},
   "source": [
    "clear() `Method`: Removes all items from the set.\n",
    "\n",
    "The clear() method removes all elements in a set.\n",
    "\n",
    "`Syntax`\n",
    "set.clear()\n",
    "\n",
    "Parameter Values\n",
    "No parameters - required\n",
    "\n",
    "\n"
   ]
  },
  {
   "cell_type": "code",
   "execution_count": 21,
   "metadata": {},
   "outputs": [
    {
     "data": {
      "text/plain": [
       "set()"
      ]
     },
     "execution_count": 21,
     "metadata": {},
     "output_type": "execute_result"
    }
   ],
   "source": [
    "clear_set={1,3,4,45,44}\n",
    "clear_set.clear()#it return nothing\n",
    "\n",
    "clear_set"
   ]
  },
  {
   "attachments": {},
   "cell_type": "markdown",
   "metadata": {},
   "source": [
    "`copy()` `Method`: Returns a shallow copy of the set."
   ]
  },
  {
   "cell_type": "code",
   "execution_count": 22,
   "metadata": {},
   "outputs": [
    {
     "data": {
      "text/plain": [
       "{1, 2, 3, 'new'}"
      ]
     },
     "execution_count": 22,
     "metadata": {},
     "output_type": "execute_result"
    }
   ],
   "source": [
    "org_set={1,2,3,\"new\"}\n",
    "copied_set=org_set.copy()\n",
    "copied_set"
   ]
  },
  {
   "attachments": {},
   "cell_type": "markdown",
   "metadata": {},
   "source": [
    "we can ask why we use the copy instand we can copy the entier set into another set like this\n",
    "\n",
    "\n",
    "copied_set=org_set.copy"
   ]
  },
  {
   "cell_type": "code",
   "execution_count": 23,
   "metadata": {},
   "outputs": [
    {
     "name": "stdout",
     "output_type": "stream",
     "text": [
      "{1, 2, 3, 34, 'new'}\n",
      "{1, 2, 3, 34, 'new'}\n"
     ]
    }
   ],
   "source": [
    "org_set={1,2,3,\"new\"}\n",
    "copied_set=org_set\n",
    "copied_set.add(34)\n",
    "print(copied_set)\n",
    "print(org_set)\n"
   ]
  },
  {
   "attachments": {},
   "cell_type": "markdown",
   "metadata": {},
   "source": [
    "when you do like this it will happn why means  copied_set=org_set python wil not create a new memory for that instance\n",
    "it will give that memory to the new set \n",
    "\n",
    "`it will affect the org_set` "
   ]
  },
  {
   "attachments": {},
   "cell_type": "markdown",
   "metadata": {},
   "source": [
    "`update(iterable)`\n",
    "    Updates the set with elements from an iterable (e.g. another set, list, tuple, or string).\n",
    "\n",
    "\n",
    "\n",
    "The update() method in Python sets is used to add multiple items to a set at once.\n",
    "It takes an iterable as an argument, which contains the items to be added to the set, and updates the set with those items. \n",
    "`The iterable can be a list, tuple, set, or any other iterable object`.\n",
    "The `syntax` \n",
    "`update(iterable)` method \n"
   ]
  },
  {
   "cell_type": "code",
   "execution_count": 29,
   "metadata": {},
   "outputs": [
    {
     "data": {
      "text/plain": [
       "{(3+4j), 1, 2, 3, 'a', 'next'}"
      ]
     },
     "execution_count": 29,
     "metadata": {},
     "output_type": "execute_result"
    }
   ],
   "source": [
    "normal_set={1,2,3,\"next\",3+4j,\"a\"}\n",
    "normal_list=[1,2,3,\"next\"]\n",
    "normal_set.update(normal_list)\n",
    "normal_set\n"
   ]
  },
  {
   "cell_type": "code",
   "execution_count": 33,
   "metadata": {},
   "outputs": [
    {
     "data": {
      "text/plain": [
       "(1, 3, 5, 7, 11)"
      ]
     },
     "execution_count": 33,
     "metadata": {},
     "output_type": "execute_result"
    }
   ],
   "source": [
    "#another example\n",
    "#`The iterable can be a list, tuple, set, or any other iterable object`\n",
    "odd={1,3,5,7}\n",
    "even=[2,4,6,8]\n",
    "prime=(1,3,5,7,11)\n",
    "odd.update(even)\n",
    "odd\n",
    "odd.update(prime)\n",
    "prime"
   ]
  },
  {
   "attachments": {},
   "cell_type": "markdown",
   "metadata": {},
   "source": [
    "`intersection_update(iterable)`\n",
    " Updates the set with the intersection of itself and another iterable.\n",
    "\n",
    "`intersection_update()`\n",
    "  method in Python sets is used to update a set with the intersection of itself and another iterable, such as a` list, tuple, or set`. \n",
    "  The resulting `set will only contain the items that are common to both the original set and the iterable`.\n",
    "` syntax`\n",
    "  intersection_update() \n",
    "\n"
   ]
  },
  {
   "cell_type": "code",
   "execution_count": 34,
   "metadata": {},
   "outputs": [
    {
     "name": "stdout",
     "output_type": "stream",
     "text": [
      "Original set: {'banana', 'apple', 'cherry'}\n",
      "Set after updating: {'banana'}\n"
     ]
    }
   ],
   "source": [
    "fruits = {'apple', 'banana', 'cherry'}\n",
    "print(\"Original set:\", fruits)\n",
    "\n",
    "# Update the set with the intersection of itself and another set\n",
    "fruits.intersection_update({'banana', 'orange', 'grape'})\n",
    "print(\"Set after updating:\", fruits)\n",
    "\n",
    "\n",
    "\n"
   ]
  },
  {
   "attachments": {},
   "cell_type": "markdown",
   "metadata": {},
   "source": [
    "The `difference_update()` method    `removes the items that exist in both sets`.\n",
    "\n",
    "The difference_update() method is different from the difference() method, because the difference() method returns a new set, without the unwanted items, and the difference_update() method removes the unwanted items from the original set.\n",
    "\n",
    "`Syntax`\n",
    "set.difference_update(set)\n",
    "\n",
    "Parameter\tDescription\n",
    "set\t      Required. The set to check for differences in"
   ]
  },
  {
   "cell_type": "code",
   "execution_count": 36,
   "metadata": {},
   "outputs": [
    {
     "name": "stdout",
     "output_type": "stream",
     "text": [
      "{'banana'}\n"
     ]
    }
   ],
   "source": [
    "x = {\"apple\", \"banana\", \"cherry\"}\n",
    "y = {\"google\", \"microsoft\", \"apple\",\"cherry\"}\n",
    "\n",
    "x.difference_update(y)\n",
    "\n",
    "print(x)"
   ]
  },
  {
   "attachments": {},
   "cell_type": "markdown",
   "metadata": {},
   "source": [
    "symmetric_difference_update(iterable): Updates the set with the symmetric difference of itself and another iterable."
   ]
  },
  {
   "attachments": {},
   "cell_type": "markdown",
   "metadata": {},
   "source": [
    "`symmetric_difference_update()`\n",
    "\n",
    " method updates the original set by` removing items that are present in both sets, and inserting the other items`.\n",
    "\n",
    "`Syntax`\n",
    "set.symmetric_difference_update(set)\n",
    "\n",
    "\n",
    "set\t   -   Required. The set to check for matches in"
   ]
  },
  {
   "cell_type": "code",
   "execution_count": 37,
   "metadata": {},
   "outputs": [
    {
     "data": {
      "text/plain": [
       "{1, 6, 7, 9, 899}"
      ]
     },
     "execution_count": 37,
     "metadata": {},
     "output_type": "execute_result"
    }
   ],
   "source": [
    "sym_set={1,2,3,4}\n",
    "syn_set={1,6,7,899,9}\n",
    "sym_set.symmetric_difference(syn_set)\n",
    "syn_set"
   ]
  },
  {
   "attachments": {},
   "cell_type": "markdown",
   "metadata": {},
   "source": [
    "`Set`\n",
    "Get the Length of a Set\n",
    "To determine how many items a set has, use the len() method."
   ]
  },
  {
   "cell_type": "code",
   "execution_count": 38,
   "metadata": {},
   "outputs": [
    {
     "name": "stdout",
     "output_type": "stream",
     "text": [
      "4\n"
     ]
    }
   ],
   "source": [
    "set_set={1,2,3,4}\n",
    "print(len(set_set))\n",
    "\n",
    "\n"
   ]
  },
  {
   "cell_type": "markdown",
   "metadata": {},
   "source": []
  },
  {
   "attachments": {},
   "cell_type": "markdown",
   "metadata": {},
   "source": [
    "  `union()`\n",
    " method in Python is used to return a new set that contains all the elements from both the original set and another set, without duplicates. The resulting set will contain all the elements from both sets, and any duplicate elements will be eliminated\n",
    "\n",
    " `syntax`\n",
    " set1.union(set2)"
   ]
  },
  {
   "cell_type": "code",
   "execution_count": 41,
   "metadata": {},
   "outputs": [
    {
     "name": "stdout",
     "output_type": "stream",
     "text": [
      "{1, 2, 3, 4, 5, 6, 7, 8}\n"
     ]
    }
   ],
   "source": [
    "set1 = {1, 2, 3, 4, 5}\n",
    "set2 = {4, 5, 6, 7, 8}\n",
    "union_set = set1.union(set2)\n",
    "print(union_set)"
   ]
  },
  {
   "attachments": {},
   "cell_type": "markdown",
   "metadata": {},
   "source": [
    "`It's important to note that the union() method does not modify the original sets, but instead creates a new set containing the combined elements. If you want to modify the original sets, you can use the update() method instead`"
   ]
  },
  {
   "attachments": {},
   "cell_type": "markdown",
   "metadata": {},
   "source": [
    "`intersection() `\n",
    "The intersection() method in Python is used to return a new set that contains only the elements that are common between the original set and another set. In other words, it returns a set that contains the elements that are present in both sets.\n",
    "\n",
    "\n",
    "`syntax`\n",
    "    set1.intersection(set2)"
   ]
  },
  {
   "cell_type": "code",
   "execution_count": 42,
   "metadata": {},
   "outputs": [
    {
     "name": "stdout",
     "output_type": "stream",
     "text": [
      "{4, 5}\n"
     ]
    }
   ],
   "source": [
    "set1 = {1, 2, 3, 4, 5}\n",
    "set2 = {4, 5, 6, 7, 8}\n",
    "intersection_set = set1.intersection(set2)\n",
    "print(intersection_set)\n"
   ]
  },
  {
   "attachments": {},
   "cell_type": "markdown",
   "metadata": {},
   "source": [
    "`It's important to note that the intersection() method does not modify the original sets, but instead creates a new set containing the common elements. If you want to modify the original sets, you can use the intersection_update() method instead`"
   ]
  },
  {
   "attachments": {},
   "cell_type": "markdown",
   "metadata": {},
   "source": [
    "`difference() `\n",
    "The difference() method in Python is used to return a new set that contains only the elements that are present in the original set but not in another set. In other words, it returns the elements that are unique to the original set and are not found in the other set.\n",
    "\n",
    "The syntax for the difference() method is as follow \n",
    "\n",
    "`syntax `\n",
    "    set1.difference(set2)"
   ]
  },
  {
   "cell_type": "code",
   "execution_count": 43,
   "metadata": {},
   "outputs": [
    {
     "name": "stdout",
     "output_type": "stream",
     "text": [
      "{1, 2, 3}\n"
     ]
    }
   ],
   "source": [
    "\n",
    "set1 = {1, 2, 3, 4, 5}\n",
    "set2 = {4, 5, 6, 7, 8}\n",
    "difference_set = set1.difference(set2)\n",
    "print(difference_set)\n"
   ]
  },
  {
   "attachments": {},
   "cell_type": "markdown",
   "metadata": {},
   "source": [
    "In the example above, the difference() method is used to find the elements that are unique to set1 and not present in set2, and the resulting set difference_set contains the elements {1, 2, 3}\n",
    "\n",
    "It's important to note that the difference() method does not modify the original set, but instead creates a new set containing the elements that are unique to the original set. If you want to modify the original set, you can use the difference_update() method instead."
   ]
  },
  {
   "attachments": {},
   "cell_type": "markdown",
   "metadata": {},
   "source": [
    "`symmetric_difference()`\n",
    "\n",
    "The symmetric_difference() method in Python is used to return a new set that contains only the elements that are present in either the original set or another set, but not in both sets. In other words, it returns the elements that are unique to either the original set or the other set, but not present in both set\n",
    "\n",
    "`syntax`\n",
    "    set1.symmetric_difference(set2)"
   ]
  },
  {
   "cell_type": "code",
   "execution_count": 44,
   "metadata": {},
   "outputs": [
    {
     "name": "stdout",
     "output_type": "stream",
     "text": [
      "{1, 2, 3, 6, 7, 8}\n"
     ]
    }
   ],
   "source": [
    "set1 = {1, 2, 3, 4, 5}\n",
    "set2 = {4, 5, 6, 7, 8}\n",
    "symmetric_difference_set = set1.symmetric_difference(set2)\n",
    "print(symmetric_difference_set)"
   ]
  },
  {
   "attachments": {},
   "cell_type": "markdown",
   "metadata": {},
   "source": [
    "In the example above, the symmetric_difference() method is used to find the elements that are unique to either set1 or set2, but not present in both sets, and the resulting set symmetric_difference_set contains the elements {1, 2, 3, 6, 7, 8}"
   ]
  },
  {
   "attachments": {},
   "cell_type": "markdown",
   "metadata": {},
   "source": [
    "It's important to note that the symmetric_difference() method does not modify the original sets, but instead creates a new set containing the elements that are unique to either set. If you want to modify the original sets, you can use the symmetric_difference_update() method instead."
   ]
  }
 ],
 "metadata": {
  "kernelspec": {
   "display_name": "env",
   "language": "python",
   "name": "python3"
  },
  "language_info": {
   "codemirror_mode": {
    "name": "ipython",
    "version": 3
   },
   "file_extension": ".py",
   "mimetype": "text/x-python",
   "name": "python",
   "nbconvert_exporter": "python",
   "pygments_lexer": "ipython3",
   "version": "3.10.6"
  },
  "orig_nbformat": 4
 },
 "nbformat": 4,
 "nbformat_minor": 2
}
