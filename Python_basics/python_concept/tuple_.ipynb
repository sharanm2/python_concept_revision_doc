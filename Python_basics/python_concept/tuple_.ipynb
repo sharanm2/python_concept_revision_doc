{
 "cells": [
  {
   "attachments": {},
   "cell_type": "markdown",
   "metadata": {},
   "source": [
    "## Python Tuples\n",
    "\n",
    "\n",
    "`Tuple`\n",
    "Tuples are used to store multiple items in a single variable.\n",
    "\n",
    "Tuple is one of 4 built-in data types in Python used to store collections of data, the other 3 are List, Set, and Dictionary, all with different qualities and usage.\n",
    "\n",
    "A tuple is a collection which is ordered and unchangeable."
   ]
  },
  {
   "cell_type": "code",
   "execution_count": 1,
   "metadata": {},
   "outputs": [
    {
     "data": {
      "text/plain": [
       "('apple', 1, True, 34.33)"
      ]
     },
     "execution_count": 1,
     "metadata": {},
     "output_type": "execute_result"
    }
   ],
   "source": [
    "my_tuple=(\"apple\",1,True,34.33)\n",
    "my_tuple"
   ]
  },
  {
   "attachments": {},
   "cell_type": "markdown",
   "metadata": {},
   "source": [
    "`Tuple Items`\n",
    "Tuple items are ordered, unchangeable, and allow duplicate values.\n",
    "\n",
    "Tuple items are indexed, the first item has index [0], the second item has index [1] etc.\n",
    "\n",
    "`Ordered`\n",
    "When we say that tuples are ordered, it means that the items have a defined order, and that order will not change.\n",
    "\n",
    "`Unchangeable`\n",
    "Tuples are unchangeable, meaning that we cannot change, add or remove items after the tuple has been created.\n",
    "\n",
    "`Allow Duplicates`\n",
    "Since tuples are indexed, they can have items with the same value:"
   ]
  },
  {
   "cell_type": "code",
   "execution_count": 3,
   "metadata": {},
   "outputs": [
    {
     "name": "stdout",
     "output_type": "stream",
     "text": [
      "<class 'int'>\n",
      "<class 'tuple'>\n"
     ]
    }
   ],
   "source": [
    "my_tuple=(1)\n",
    "my_tuple1=(2,\"\")\n",
    "print(type(my_tuple))\n",
    "print(type(my_tuple1))\n"
   ]
  },
  {
   "cell_type": "code",
   "execution_count": 4,
   "metadata": {},
   "outputs": [
    {
     "name": "stdout",
     "output_type": "stream",
     "text": [
      "('apple', 'banana', 'cherry', 'apple', 'cherry')\n"
     ]
    }
   ],
   "source": [
    "\n",
    "\n",
    "thistuple = (\"apple\", \"banana\", \"cherry\", \"apple\", \"cherry\")\n",
    "print(thistuple)"
   ]
  },
  {
   "cell_type": "code",
   "execution_count": 5,
   "metadata": {},
   "outputs": [
    {
     "data": {
      "text/plain": [
       "5"
      ]
     },
     "execution_count": 5,
     "metadata": {},
     "output_type": "execute_result"
    }
   ],
   "source": [
    "len(thistuple)"
   ]
  },
  {
   "attachments": {},
   "cell_type": "markdown",
   "metadata": {},
   "source": [
    "`The tuple() Constructor`\n",
    "It is also possible to use the tuple() constructor to make a tuple."
   ]
  },
  {
   "cell_type": "code",
   "execution_count": 8,
   "metadata": {},
   "outputs": [
    {
     "data": {
      "text/plain": [
       "tuple"
      ]
     },
     "execution_count": 8,
     "metadata": {},
     "output_type": "execute_result"
    }
   ],
   "source": [
    "tuple_=tuple((\"dsfdsf\"))\n",
    "type(tuple_)"
   ]
  },
  {
   "cell_type": "code",
   "execution_count": 11,
   "metadata": {},
   "outputs": [
    {
     "name": "stdout",
     "output_type": "stream",
     "text": [
      "dfdf\n"
     ]
    }
   ],
   "source": [
    "#access by index number\n",
    "\n",
    "my_tuple=(1,2,\"dfdf\",True,False)\n",
    "print(my_tuple[2])"
   ]
  },
  {
   "cell_type": "code",
   "execution_count": 12,
   "metadata": {},
   "outputs": [
    {
     "name": "stdout",
     "output_type": "stream",
     "text": [
      "dfdf\n"
     ]
    }
   ],
   "source": [
    "#access by negative indexes\n",
    "my_tuple=(1,2,\"dfdf\",True,False)\n",
    "print(my_tuple[-3])"
   ]
  },
  {
   "cell_type": "code",
   "execution_count": 17,
   "metadata": {},
   "outputs": [
    {
     "name": "stdout",
     "output_type": "stream",
     "text": [
      "(1, 2, 'dfdf', True, False)\n",
      "(2, True)\n",
      "(False, True, 'dfdf', 2, 1)\n"
     ]
    }
   ],
   "source": [
    "#slices\n",
    "\n",
    "print(my_tuple[::])\n",
    "print(my_tuple[1:4:2])\n",
    "print(my_tuple[-1::-1])\n"
   ]
  },
  {
   "cell_type": "code",
   "execution_count": 20,
   "metadata": {},
   "outputs": [
    {
     "name": "stdout",
     "output_type": "stream",
     "text": [
      "found\n"
     ]
    }
   ],
   "source": [
    "# check if items\n",
    "\n",
    "if \"dfdf\" in my_tuple:\n",
    "    print(\"found\")\n",
    "else :\n",
    "    print(\"not found\")"
   ]
  },
  {
   "cell_type": "code",
   "execution_count": 21,
   "metadata": {},
   "outputs": [
    {
     "name": "stdout",
     "output_type": "stream",
     "text": [
      "found\n"
     ]
    }
   ],
   "source": [
    "# check not found\n",
    "\n",
    "\n",
    "if 2 not in my_tuple:\n",
    "    print(\"notfound\")\n",
    "else :\n",
    "    print('found')"
   ]
  },
  {
   "cell_type": "code",
   "execution_count": 25,
   "metadata": {},
   "outputs": [
    {
     "data": {
      "text/plain": [
       "(1, 2, 'sddsf', 3)"
      ]
     },
     "execution_count": 25,
     "metadata": {},
     "output_type": "execute_result"
    }
   ],
   "source": [
    "#add item to a tuple\n",
    "\n",
    "my_tuple=(1,2,\"sddsf\",3)\n",
    "my_tuple\n",
    "my_tuple.append(4)  #Since tuples are immutable, they do not have a build-in append() method, but there are other ways to add items to a tuple\n",
    "\n"
   ]
  },
  {
   "cell_type": "code",
   "execution_count": 28,
   "metadata": {},
   "outputs": [
    {
     "data": {
      "text/plain": [
       "(1, 2, 'sddsf', 3, 12)"
      ]
     },
     "execution_count": 28,
     "metadata": {},
     "output_type": "execute_result"
    }
   ],
   "source": [
    "# adding a tuple to a tuple\n",
    "my_tuple=(1,2,\"sddsf\",3)\n",
    "my_tuple\n",
    "my_tup=(12,)  \n",
    "my_tuple +=my_tup\n",
    "my_tuple"
   ]
  },
  {
   "cell_type": "code",
   "execution_count": 33,
   "metadata": {},
   "outputs": [
    {
     "name": "stdout",
     "output_type": "stream",
     "text": [
      "<class 'list'>\n"
     ]
    },
    {
     "data": {
      "text/plain": [
       "(1, 2, 'sddsf', 3, 12)"
      ]
     },
     "execution_count": 33,
     "metadata": {},
     "output_type": "execute_result"
    }
   ],
   "source": [
    "# Convert the tuple into a list, add \"orange\", and convert it back into a tuple:\n",
    "\n",
    "my_tuple=(1,2,\"sddsf\",3)\n",
    "my_tuple\n",
    "my_tupl=list(my_tuple)\n",
    "print(type(my_tupl)) \n",
    "my_tupl.append(12)\n",
    "my_tuple=tuple(my_tupl)\n",
    "my_tuple"
   ]
  },
  {
   "cell_type": "code",
   "execution_count": 36,
   "metadata": {},
   "outputs": [
    {
     "data": {
      "text/plain": [
       "(1, 2, 3)"
      ]
     },
     "execution_count": 36,
     "metadata": {},
     "output_type": "execute_result"
    }
   ],
   "source": [
    "# we cant directly remove a element from the tuple so we convert it to a list and change into a tuple or we can totally remove the tuple\n",
    "\n",
    "\n",
    "my_tuple=(1,2,\"sddsf\",3)\n",
    "my_tuple\n",
    "my_tupl=list(my_tuple)\n",
    "\n",
    "my_tupl.remove(\"sddsf\")\n",
    "my_tuple=tuple(my_tupl)\n",
    "my_tuple\n"
   ]
  },
  {
   "cell_type": "code",
   "execution_count": 41,
   "metadata": {},
   "outputs": [
    {
     "ename": "NameError",
     "evalue": "name 'my_tuple' is not defined",
     "output_type": "error",
     "traceback": [
      "\u001b[1;31m---------------------------------------------------------------------------\u001b[0m",
      "\u001b[1;31mNameError\u001b[0m                                 Traceback (most recent call last)",
      "Cell \u001b[1;32mIn[41], line 4\u001b[0m\n\u001b[0;32m      2\u001b[0m my_tuple\u001b[39m=\u001b[39m(\u001b[39m1\u001b[39m,\u001b[39m3\u001b[39m,\u001b[39m3\u001b[39m,\u001b[39m\"\u001b[39m\u001b[39mfsf\u001b[39m\u001b[39m\"\u001b[39m)\n\u001b[0;32m      3\u001b[0m \u001b[39mdel\u001b[39;00m my_tuple\n\u001b[1;32m----> 4\u001b[0m my_tuple\n",
      "\u001b[1;31mNameError\u001b[0m: name 'my_tuple' is not defined"
     ]
    }
   ],
   "source": [
    "# delete the whole tuple using deld\n",
    "my_tuple=(1,3,3,\"fsf\")\n",
    "del my_tuple\n",
    "# my_tuple"
   ]
  },
  {
   "cell_type": "code",
   "execution_count": 44,
   "metadata": {},
   "outputs": [
    {
     "name": "stdout",
     "output_type": "stream",
     "text": [
      "1 2 3244\n"
     ]
    }
   ],
   "source": [
    "# unpack in tuple\n",
    "\n",
    "my_tuple=(1,2,\"3244\")\n",
    "(green,blue,red)=my_tuple   #these variables are must be match the tuple elements or other it show error or we can use *to the variable\n",
    "print(green,blue,red)"
   ]
  },
  {
   "cell_type": "code",
   "execution_count": 45,
   "metadata": {},
   "outputs": [
    {
     "name": "stdout",
     "output_type": "stream",
     "text": [
      "1 2 3244 [23, 'ddsfd', 'dfdsf']\n"
     ]
    }
   ],
   "source": [
    "my_tuple=(1,2,\"3244\",23,\"ddsfd\",\"dfdsf\")\n",
    "(green,blue,red,*pink)=my_tuple   #these variables are must be match the tuple elements or other it show error or we can use *to the variable\n",
    "print(green,blue,red,pink)"
   ]
  },
  {
   "cell_type": "code",
   "execution_count": 46,
   "metadata": {},
   "outputs": [
    {
     "name": "stdout",
     "output_type": "stream",
     "text": [
      "1 [2, '3244', 23] ddsfd dfdsf\n"
     ]
    }
   ],
   "source": [
    "my_tuple=(1,2,\"3244\",23,\"ddsfd\",\"dfdsf\")\n",
    "(green,*blue,red,pink)=my_tuple   # we are using * the variable\n",
    "print(green,blue,red,pink)\n",
    "# it store in a list "
   ]
  },
  {
   "cell_type": "code",
   "execution_count": 47,
   "metadata": {},
   "outputs": [
    {
     "name": "stdout",
     "output_type": "stream",
     "text": [
      "1\n",
      "2\n",
      "3244\n",
      "23\n",
      "ddsfd\n",
      "dfdsf\n"
     ]
    }
   ],
   "source": [
    "# using loop \n",
    "\n",
    "for i in my_tuple:\n",
    "    print(i)\n"
   ]
  },
  {
   "cell_type": "code",
   "execution_count": 51,
   "metadata": {},
   "outputs": [
    {
     "name": "stdout",
     "output_type": "stream",
     "text": [
      "1\n",
      "2\n",
      "3244\n",
      "23\n",
      "ddsfd\n",
      "dfdsf\n"
     ]
    }
   ],
   "source": [
    "# USING while loop \n",
    "i=0\n",
    "while i < len(my_tuple):\n",
    "    print(my_tuple[i])\n",
    "    i =i+1"
   ]
  },
  {
   "cell_type": "code",
   "execution_count": 52,
   "metadata": {},
   "outputs": [
    {
     "data": {
      "text/plain": [
       "(1, 2, 3, 4, 5, 6)"
      ]
     },
     "execution_count": 52,
     "metadata": {},
     "output_type": "execute_result"
    }
   ],
   "source": [
    "# add of two tuple\n",
    "tupl1=(1,2,3)\n",
    "tupl2=(4,5,6)\n",
    "tupl3=tupl1+tupl2\n",
    "tupl3"
   ]
  },
  {
   "cell_type": "code",
   "execution_count": 55,
   "metadata": {},
   "outputs": [
    {
     "name": "stdout",
     "output_type": "stream",
     "text": [
      "1\n",
      "1\n"
     ]
    }
   ],
   "source": [
    "tupl1=(1,2,3)\n",
    "tupl2=(4,5,6)\n",
    "print(tupl1.count(1))\n",
    "print(tupl2.index(5))\n"
   ]
  }
 ],
 "metadata": {
  "kernelspec": {
   "display_name": "Python 3",
   "language": "python",
   "name": "python3"
  },
  "language_info": {
   "codemirror_mode": {
    "name": "ipython",
    "version": 3
   },
   "file_extension": ".py",
   "mimetype": "text/x-python",
   "name": "python",
   "nbconvert_exporter": "python",
   "pygments_lexer": "ipython3",
   "version": "3.10.6"
  },
  "orig_nbformat": 4
 },
 "nbformat": 4,
 "nbformat_minor": 2
}
