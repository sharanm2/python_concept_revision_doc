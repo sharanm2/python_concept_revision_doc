{
 "cells": [
  {
   "attachments": {},
   "cell_type": "markdown",
   "metadata": {},
   "source": [
    "### `Multiple Linear Regression`\n",
    "\n",
    "\n"
   ]
  },
  {
   "attachments": {},
   "cell_type": "markdown",
   "metadata": {},
   "source": [
    " Multiple Linear Regression is an `extension of Simple Linear regression as it takes more than one predictor variable to predict the response variable`. It is an important regression algorithm that models the linear relationship between a single dependent continuous variable and more than one independent variable. It uses two or more independent variables to predict a dependent variable by fitting a best linear relationship."
   ]
  },
  {
   "attachments": {},
   "cell_type": "markdown",
   "metadata": {},
   "source": [
    "* In Linear regression it has one independent variable and one dependent variable\n",
    "\n",
    "* Like this in `Multiple regression independent variables are more than one variable and its predict the dependent variable`\n"
   ]
  },
  {
   "attachments": {},
   "cell_type": "markdown",
   "metadata": {},
   "source": [
    "Equation: Y = β0 + β1X1 + β2X2 + β3X3 + … + βnXn + e\n",
    "\n",
    "Y = Dependent variable / Target variable\n",
    "\n",
    "β0 = Intercept of the regression line\n",
    "\n",
    "β1, β2, β3, …. βn = Slope of the regression line which tells whether the line is increasing or decreasing\n",
    "\n",
    "X1, X2, X3, ….Xn = Independent variable / Predictor variable\n",
    "\n",
    "e = Error"
   ]
  },
  {
   "attachments": {},
   "cell_type": "markdown",
   "metadata": {},
   "source": [
    "Notes from chatgpt :\n",
    "\n",
    "\n",
    "Multiple regression is a statistical modeling technique used to analyze the relationship between a dependent variable and two or more independent variables.\n",
    "\n",
    "It is an extension of simple linear regression, where the relationship between a dependent variable and a single independent variable is analyzed."
   ]
  },
  {
   "attachments": {},
   "cell_type": "markdown",
   "metadata": {},
   "source": [
    "Requried Import are :\n",
    "\n",
    "        import numpy as np  used for array\n",
    "        import pandas as pd  read the csv file\n",
    "        from sklearn.linear_model import LinearRegression  for create a model instances from LinearRegression"
   ]
  },
  {
   "cell_type": "code",
   "execution_count": 13,
   "metadata": {},
   "outputs": [
    {
     "name": "stdout",
     "output_type": "stream",
     "text": [
      "Coefficients: [2. 4.]\n",
      "Intercept: -21.99999999999997\n",
      "Predictions: [70. 80.]\n"
     ]
    },
    {
     "name": "stderr",
     "output_type": "stream",
     "text": [
      "d:\\python_workspaces\\python_basics_folder\\venv1\\lib\\site-packages\\sklearn\\base.py:439: UserWarning: X does not have valid feature names, but LinearRegression was fitted with feature names\n",
      "  warnings.warn(\n"
     ]
    }
   ],
   "source": [
    "import numpy as np\n",
    "import pandas as pd\n",
    "from sklearn.linear_model import LinearRegression\n",
    "\n",
    "# Create example data\n",
    "data = {'x1': [1, 2, 3, 4, 5], 'x2': [10, 12, 14, 16, 18], 'y': [20, 30, 40, 50, 60]}\n",
    "\n",
    "# Create a Pandas DataFrame from the example data\n",
    "df = pd.DataFrame(data)\n",
    "\n",
    "# Create an instance of the LinearRegression class\n",
    "model = LinearRegression()\n",
    "\n",
    "# Fit the model to the data\n",
    "X = df[['x1', 'x2']]  # Independent variables\n",
    "y = df['y']           # Dependent variable\n",
    "model.fit(X, y)\n",
    "\n",
    "# Print the coefficients and intercept\n",
    "print('Coefficients:', model.coef_)\n",
    "print('Intercept:', model.intercept_)\n",
    "\n",
    "# Predict new values\n",
    "X_new = np.array([[6, 20], [7, 22]])  # New independent variable values\n",
    "y_pred = model.predict(X_new)         # Predicted dependent variable values\n",
    "print('Predictions:', y_pred)\n"
   ]
  }
 ],
 "metadata": {
  "kernelspec": {
   "display_name": "venv1",
   "language": "python",
   "name": "python3"
  },
  "language_info": {
   "codemirror_mode": {
    "name": "ipython",
    "version": 3
   },
   "file_extension": ".py",
   "mimetype": "text/x-python",
   "name": "python",
   "nbconvert_exporter": "python",
   "pygments_lexer": "ipython3",
   "version": "3.10.6"
  },
  "orig_nbformat": 4
 },
 "nbformat": 4,
 "nbformat_minor": 2
}
