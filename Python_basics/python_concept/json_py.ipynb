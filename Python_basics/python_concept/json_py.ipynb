{
 "cells": [
  {
   "attachments": {},
   "cell_type": "markdown",
   "metadata": {},
   "source": [
    "`JSON is a syntax for storing and exchanging data.`\n",
    "\n",
    "JSON is text, written with JavaScript object notation.\n",
    "\n",
    "## JSON in Python\n",
    "Python has a built-in package called json, which can be used to work with JSON data."
   ]
  },
  {
   "attachments": {},
   "cell_type": "markdown",
   "metadata": {},
   "source": [
    "Parse JSON - Convert from JSON to Python\n",
    "\n",
    "\n",
    "If you have a JSON string, `you can parse it by using the json.loads() method`."
   ]
  },
  {
   "cell_type": "code",
   "execution_count": 5,
   "metadata": {},
   "outputs": [
    {
     "name": "stdout",
     "output_type": "stream",
     "text": [
      "<class 'dict'>\n"
     ]
    }
   ],
   "source": [
    "import json\n",
    "person='{\"name\":\"david\",\"age\":\"12\",\"id\":\"1\"}' # json form is in the type of string \n",
    "# use the load fun in the person to convert the json to the list\n",
    "\n",
    "a=json.loads(person)\n",
    "# the result is a Python dictionary:\n",
    "print(type(a))"
   ]
  },
  {
   "cell_type": "code",
   "execution_count": 8,
   "metadata": {},
   "outputs": [
    {
     "name": "stdout",
     "output_type": "stream",
     "text": [
      "the type is return in dict type\n",
      "<class 'dict'>\n"
     ]
    }
   ],
   "source": [
    "import json\n",
    "\n",
    "json_value='{\"name\":\"adsg\",\"age\":\"2\"}'\n",
    "\n",
    "store_value_in_py=json.loads(json_value)\n",
    "store_value_in_py\n",
    "print(\"the type is return in dict type\")\n",
    "print(type(store_value_in_py))"
   ]
  },
  {
   "attachments": {},
   "cell_type": "markdown",
   "metadata": {},
   "source": [
    "`Convert from Python to JSON`\n",
    "\n",
    "\n",
    "If you have a Python object, you can convert it into a JSON string by using the json.dumps() method."
   ]
  },
  {
   "cell_type": "code",
   "execution_count": 10,
   "metadata": {},
   "outputs": [
    {
     "name": "stdout",
     "output_type": "stream",
     "text": [
      "<class 'str'>\n"
     ]
    },
    {
     "data": {
      "text/plain": [
       "'{\"a\": 324, \"b\": \"sddsf\"}'"
      ]
     },
     "execution_count": 10,
     "metadata": {},
     "output_type": "execute_result"
    }
   ],
   "source": [
    "my_dict={\n",
    "    \"a\":324,\n",
    "    \"b\":\"sddsf\"\n",
    "}\n",
    "# my_dict is the type of dict now need to turn into string form\n",
    "\n",
    "# for that we need to use method with in the paranthesis put the variable name convert into string\n",
    "\n",
    "json_form=json.dumps(my_dict)\n",
    "print(type(json_form))\n",
    "json_form\n"
   ]
  },
  {
   "attachments": {},
   "cell_type": "markdown",
   "metadata": {},
   "source": [
    "You can convert Python objects of the following types, into JSON strings:\n",
    "\n",
    "dict\n",
    "\n",
    "\n",
    "list\n",
    "\n",
    "tuple\n",
    "\n",
    "string\n",
    "\n",
    "int\n",
    "\n",
    "float\n",
    "\n",
    "True\n",
    "\n",
    "False\n",
    "\n",
    "None\n"
   ]
  },
  {
   "cell_type": "code",
   "execution_count": 11,
   "metadata": {},
   "outputs": [
    {
     "name": "stdout",
     "output_type": "stream",
     "text": [
      "{\"name\": \"John\", \"age\": 30}\n",
      "[\"apple\", \"bananas\"]\n",
      "[\"apple\", \"bananas\"]\n",
      "\"hello\"\n",
      "42\n",
      "31.76\n",
      "true\n",
      "false\n",
      "null\n"
     ]
    }
   ],
   "source": [
    "import json\n",
    "\n",
    "print(json.dumps({\"name\": \"John\", \"age\": 30}))\n",
    "print(json.dumps([\"apple\", \"bananas\"]))\n",
    "print(json.dumps((\"apple\", \"bananas\")))\n",
    "print(json.dumps(\"hello\"))\n",
    "print(json.dumps(42))\n",
    "print(json.dumps(31.76))\n",
    "print(json.dumps(True))\n",
    "print(json.dumps(False))\n",
    "print(json.dumps(None))"
   ]
  },
  {
   "attachments": {},
   "cell_type": "markdown",
   "metadata": {},
   "source": [
    "<table class=\"ws-table-all notranslate\">\n",
    "<tbody><tr>\n",
    "<th>Python</th>\n",
    "<th>JSON</th>\n",
    "</tr>\n",
    "<tr>\n",
    "<td>dict</td>\n",
    "<td>Object</td>\n",
    "</tr>\n",
    "<tr>\n",
    "<td>list</td>\n",
    "<td>Array</td>\n",
    "</tr>\n",
    "<tr>\n",
    "<td>tuple</td>\n",
    "<td>Array</td>\n",
    "</tr>\n",
    "<tr>\n",
    "<td>str</td>\n",
    "<td>String</td>\n",
    "</tr>\n",
    "<tr>\n",
    "<td>int</td>\n",
    "<td>Number</td>\n",
    "</tr>\n",
    "<tr>\n",
    "<td>float</td>\n",
    "<td>Number</td>\n",
    "</tr>\n",
    "<tr>\n",
    "<td>True</td>\n",
    "<td>true</td>\n",
    "</tr>\n",
    "<tr>\n",
    "<td>False</td>\n",
    "<td>false</td>\n",
    "</tr>\n",
    "<tr>\n",
    "<td>None</td>\n",
    "<td>null</td>\n",
    "</tr>\n",
    "</tbody></table>"
   ]
  },
  {
   "cell_type": "code",
   "execution_count": 16,
   "metadata": {},
   "outputs": [
    {
     "name": "stdout",
     "output_type": "stream",
     "text": [
      "<class 'str'>\n"
     ]
    },
    {
     "data": {
      "text/plain": [
       "'{\"a\": \"2\", \"my_list\": [1, 2, 3, 4], \"my_set\": [1, 2, 3], \"my_list_dict\": [{\"f\": 23, \"dss\": \"dsf\"}]}'"
      ]
     },
     "execution_count": 16,
     "metadata": {},
     "output_type": "execute_result"
    }
   ],
   "source": [
    "my_dict={\n",
    "    \"a\":\"2\",\n",
    "    \"my_list\":[1,2,3,4],\n",
    "    \"my_set\":(1,2,3),\n",
    "    \"my_list_dict\":[{\n",
    "        \"f\":23,\n",
    "        \"dss\":\"dsf\"\n",
    "    }]\n",
    "}\n",
    "json_format=json.dumps(my_dict)\n",
    "print(type(json_format))\n",
    "json_format"
   ]
  },
  {
   "cell_type": "code",
   "execution_count": 18,
   "metadata": {},
   "outputs": [
    {
     "name": "stdout",
     "output_type": "stream",
     "text": [
      "<class 'str'>\n"
     ]
    },
    {
     "data": {
      "text/plain": [
       "'{\\n \"a\"=\"2\".\\n \"my_list\"=[\\n  1.\\n  2.\\n  3.\\n  4\\n ].\\n \"my_set\"=[\\n  1.\\n  2.\\n  3\\n ].\\n \"my_list_dict\"=[\\n  {\\n   \"f\"=23.\\n   \"dss\"=\"dsf\"\\n  }\\n ]\\n}'"
      ]
     },
     "execution_count": 18,
     "metadata": {},
     "output_type": "execute_result"
    }
   ],
   "source": [
    "my_dict={\n",
    "    \"a\":\"2\",\n",
    "    \"my_list\":[1,2,3,4],\n",
    "    \"my_set\":(1,2,3),\n",
    "    \"my_list_dict\":[{\n",
    "        \"f\":23,\n",
    "        \"dss\":\"dsf\"\n",
    "    }]\n",
    "}\n",
    "json_format=json.dumps(my_dict,indent=1,separators=(\".\",\"=\"))\n",
    "print(type(json_format))\n",
    "json_format"
   ]
  },
  {
   "cell_type": "code",
   "execution_count": 19,
   "metadata": {},
   "outputs": [
    {
     "name": "stdout",
     "output_type": "stream",
     "text": [
      "<class 'str'>\n"
     ]
    },
    {
     "data": {
      "text/plain": [
       "'{\\n \"a\": \"2\",\\n \"my_list\": [\\n  1,\\n  2,\\n  3,\\n  4\\n ],\\n \"my_list_dict\": [\\n  {\\n   \"dss\": \"dsf\",\\n   \"f\": 23\\n  }\\n ],\\n \"my_set\": [\\n  1,\\n  2,\\n  3\\n ]\\n}'"
      ]
     },
     "execution_count": 19,
     "metadata": {},
     "output_type": "execute_result"
    }
   ],
   "source": [
    "my_dict={\n",
    "    \"a\":\"2\",\n",
    "    \"my_list\":[1,2,3,4],\n",
    "    \"my_set\":(1,2,3),\n",
    "    \"my_list_dict\":[{\n",
    "        \"f\":23,\n",
    "        \"dss\":\"dsf\"\n",
    "    }]\n",
    "}\n",
    "json_format=json.dumps(my_dict,indent=1,sort_keys=True)\n",
    "print(type(json_format))\n",
    "json_format"
   ]
  }
 ],
 "metadata": {
  "kernelspec": {
   "display_name": "Python 3",
   "language": "python",
   "name": "python3"
  },
  "language_info": {
   "codemirror_mode": {
    "name": "ipython",
    "version": 3
   },
   "file_extension": ".py",
   "mimetype": "text/x-python",
   "name": "python",
   "nbconvert_exporter": "python",
   "pygments_lexer": "ipython3",
   "version": "3.10.6"
  },
  "orig_nbformat": 4
 },
 "nbformat": 4,
 "nbformat_minor": 2
}
